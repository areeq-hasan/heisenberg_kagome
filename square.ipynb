{
 "cells": [
  {
   "cell_type": "code",
   "execution_count": null,
   "metadata": {},
   "outputs": [],
   "source": [
    "%config InlineBackend.figure_formats = ['svg']"
   ]
  },
  {
   "cell_type": "code",
   "execution_count": null,
   "metadata": {},
   "outputs": [],
   "source": [
    "from time import time\n",
    "\n",
    "import numpy as np\n",
    "import rustworkx as rx\n",
    "\n",
    "import matplotlib.pyplot as plt\n",
    "\n",
    "from qiskit.circuit.library import EfficientSU2\n",
    "from qiskit.primitives import Estimator\n",
    "from qiskit.algorithms import NumPyEigensolver as ClassicalEigensolver\n",
    "from qiskit.algorithms.optimizers import SLSQP, COBYLA, L_BFGS_B, ADAM, GradientDescent, NFT\n",
    "\n",
    "from qiskit_nature.problems.second_quantization.lattice import Lattice\n",
    "from qiskit_nature.mappers.second_quantization import LogarithmicMapper\n",
    "\n",
    "from heisenberg_model import HeisenbergModel"
   ]
  },
  {
   "cell_type": "code",
   "execution_count": null,
   "metadata": {},
   "outputs": [],
   "source": [
    "from qiskit.algorithms import MinimumEigensolver, VQEResult\n",
    "\n",
    "class VQE(MinimumEigensolver):\n",
    "    \n",
    "    def __init__(self, estimator, circuit, optimizer, callback=None):\n",
    "        self._estimator = estimator\n",
    "        self._circuit = circuit\n",
    "        self._optimizer = optimizer\n",
    "        self._callback = callback\n",
    "        \n",
    "    def compute_minimum_eigenvalue(self, operators, aux_operators=None):\n",
    "                \n",
    "        def objective(x):\n",
    "            job = self._estimator.run([self._circuit], [operators], [x])\n",
    "            estimator_result = job.result()\n",
    "            value = estimator_result.values[0]\n",
    "            if self._callback is not None:\n",
    "                self._callback(value)\n",
    "            return value\n",
    "            \n",
    "        x0 = np.pi/4 * np.random.rand(self._circuit.num_parameters)\n",
    "        \n",
    "        res = self._optimizer.minimize(objective, x0=x0)\n",
    "        \n",
    "\n",
    "        result = VQEResult()\n",
    "        result.cost_function_evals = res.nfev\n",
    "        result.eigenvalue = res.fun\n",
    "        result.optimal_parameters = res.x\n",
    "        return result"
   ]
  },
  {
   "cell_type": "code",
   "execution_count": null,
   "metadata": {},
   "outputs": [],
   "source": [
    "num_sites = 6\n",
    "t = 1.0\n",
    "\n",
    "graph = rx.PyGraph(multigraph=False)\n",
    "graph.add_nodes_from(range(num_sites))\n",
    "edge_list = [\n",
    "    (0, 1, t),\n",
    "    (1, 2, t),\n",
    "    (2, 3, t),\n",
    "    (3, 4, t),\n",
    "    (4, 5, t),\n",
    "    (5, 0, t),\n",
    "]\n",
    "\n",
    "graph.add_edges_from(edge_list)\n",
    "line_unit_cell = Lattice(graph)\n",
    "\n",
    "line_unit_cell.draw()\n",
    "plt.show()"
   ]
  },
  {
   "cell_type": "code",
   "execution_count": null,
   "metadata": {},
   "outputs": [],
   "source": [
    "heisenberg_model = HeisenbergModel.uniform_parameters(\n",
    "    lattice=line_unit_cell,\n",
    "    uniform_interaction=1.0,\n",
    "    uniform_onsite_potential=0.0,\n",
    ")\n",
    "\n",
    "logarithmic_mapper = LogarithmicMapper()\n",
    "hamiltonian = 4 * logarithmic_mapper.map(heisenberg_model.second_q_ops().simplify())\n",
    "hamiltonian"
   ]
  },
  {
   "cell_type": "code",
   "execution_count": null,
   "metadata": {},
   "outputs": [],
   "source": [
    "exact_solver = ClassicalEigensolver(k=3)\n",
    "exact_result = exact_solver.compute_eigenvalues(hamiltonian)\n",
    "print(exact_result.eigenvalues)\n",
    "\n",
    "gs_energy = np.round(exact_result.eigenvalues[0], 4)"
   ]
  },
  {
   "cell_type": "code",
   "execution_count": null,
   "metadata": {},
   "outputs": [],
   "source": [
    "from qiskit import QuantumCircuit\n",
    "\n",
    "gs_circuit = exact_result.eigenstates[0].to_circuit_op().to_circuit()\n",
    "gs_circuit.draw(\"mpl\")"
   ]
  },
  {
   "cell_type": "code",
   "execution_count": null,
   "metadata": {},
   "outputs": [],
   "source": [
    "from qiskit import transpile\n",
    "\n",
    "transpiled_gs_circuit = transpile(gs_circuit, basis_gates=['cx', 'rz', 'sx', 'x'], optimization_level=3)\n",
    "transpiled_gs_circuit.draw(\"mpl\")"
   ]
  },
  {
   "cell_type": "code",
   "execution_count": null,
   "metadata": {},
   "outputs": [],
   "source": [
    "from qiskit.circuit import Parameter\n",
    "\n",
    "ansatz = QuantumCircuit(3)\n",
    "\n",
    "j = 0\n",
    "\n",
    "for i in range(3):\n",
    "    ansatz.rz(Parameter('θ_' + str(j)), i)\n",
    "    j += 1\n",
    "    ansatz.ry(Parameter('θ_' + str(j)), i)\n",
    "    j += 1\n",
    "\n",
    "ansatz.cx(2, 1)\n",
    "\n",
    "ansatz.rz(Parameter('θ_' + str(j)), 1)\n",
    "j += 1\n",
    "ansatz.ry(Parameter('θ_' + str(j)), 1)\n",
    "j += 1\n",
    "\n",
    "ansatz.cx(2, 1)\n",
    "\n",
    "ansatz.rz(Parameter('θ_' + str(j)), 1)\n",
    "j += 1\n",
    "ansatz.ry(Parameter('θ_' + str(j)), 1)\n",
    "j += 1\n",
    "\n",
    "ansatz.cx(1, 0)\n",
    "\n",
    "ansatz.rz(Parameter('θ_' + str(j)), 0)\n",
    "j += 1\n",
    "ansatz.ry(Parameter('θ_' + str(j)), 0)\n",
    "j += 1\n",
    "\n",
    "ansatz.cx(1, 0)\n",
    "\n",
    "ansatz.rz(Parameter('θ_' + str(j)), 0)\n",
    "j += 1\n",
    "ansatz.ry(Parameter('θ_' + str(j)), 0)\n",
    "j += 1\n",
    "\n",
    "ansatz.cx(2, 0)\n",
    "\n",
    "ansatz.rz(Parameter('θ_' + str(j)), 0)\n",
    "j += 1\n",
    "ansatz.ry(Parameter('θ_' + str(j)), 0)\n",
    "j += 1\n",
    "\n",
    "ansatz.cx(1, 0)\n",
    "\n",
    "ansatz.rz(Parameter('θ_' + str(j)), 0)\n",
    "j += 1\n",
    "ansatz.ry(Parameter('θ_' + str(j)), 0)\n",
    "j += 1\n",
    "\n",
    "ansatz.draw(\"mpl\")"
   ]
  },
  {
   "cell_type": "code",
   "execution_count": null,
   "metadata": {},
   "outputs": [],
   "source": [
    "optimizer = ADAM(maxiter=2000)\n",
    "# optimizer = NFT(maxiter=1000)"
   ]
  },
  {
   "cell_type": "code",
   "execution_count": null,
   "metadata": {},
   "outputs": [],
   "source": [
    "intermediate_info = []\n",
    "def callback(value):\n",
    "        intermediate_info.append(value)\n",
    "\n",
    "estimator = Estimator([ansatz], [hamiltonian])\n",
    "\n",
    "vqe = VQE(estimator, ansatz, optimizer, callback=callback)\n",
    "\n",
    "start = time()\n",
    "result = vqe.compute_minimum_eigenvalue(hamiltonian)\n",
    "end = time()\n",
    "\n",
    "print(result)\n",
    "print(f'Execution Time (s): {end - start:.2f}')"
   ]
  },
  {
   "cell_type": "code",
   "execution_count": null,
   "metadata": {},
   "outputs": [],
   "source": [
    "plt.plot(intermediate_info, lw=2, label='Simulated VQE')\n",
    "plt.ylabel('Energy')\n",
    "plt.xlabel('Iterations')\n",
    "\n",
    "plt.axhline(y=gs_energy, ls=\"--\", lw=2, label=\"Target: \" + str(gs_energy))\n",
    "plt.legend()\n",
    "plt.grid()\n",
    "# plt.show()\n",
    "\n",
    "plt.savefig('optimization.svg', format=\"svg\")"
   ]
  },
  {
   "cell_type": "code",
   "execution_count": null,
   "metadata": {},
   "outputs": [],
   "source": [
    "def relative_error(target, measured):\n",
    "    return abs((target - measured) / target)\n",
    "\n",
    "error = relative_error(gs_energy, result.eigenvalue)\n",
    "\n",
    "print(f'Expected ground state energy: {gs_energy:.10f}.')\n",
    "print(f'Computed ground state energy: {result.eigenvalue:.10f}.')\n",
    "print(f'Relative error: {error:.8f}.')"
   ]
  }
 ],
 "metadata": {
  "kernelspec": {
   "display_name": "heisenberg-kagome-0MCudPZt-py3.11",
   "language": "python",
   "name": "python3"
  },
  "language_info": {
   "codemirror_mode": {
    "name": "ipython",
    "version": 3
   },
   "file_extension": ".py",
   "mimetype": "text/x-python",
   "name": "python",
   "nbconvert_exporter": "python",
   "pygments_lexer": "ipython3",
   "version": "3.11.1"
  },
  "orig_nbformat": 4,
  "vscode": {
   "interpreter": {
    "hash": "1b5f1b9d83be40b2319a5ede076108f2642b73420a45587c7884df2e4665ba27"
   }
  }
 },
 "nbformat": 4,
 "nbformat_minor": 2
}
