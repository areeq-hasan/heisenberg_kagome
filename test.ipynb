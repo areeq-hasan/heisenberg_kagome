{
 "cells": [
  {
   "cell_type": "code",
   "execution_count": 1,
   "metadata": {},
   "outputs": [],
   "source": [
    "import numpy as np\n",
    "import matplotlib.pyplot as plt"
   ]
  },
  {
   "cell_type": "code",
   "execution_count": 2,
   "metadata": {},
   "outputs": [
    {
     "name": "stderr",
     "output_type": "stream",
     "text": [
      "/var/folders/r1/027lgns16j553ds7rms76qf80000gn/T/ipykernel_48366/3169766664.py:1: MatplotlibDeprecationWarning: The seaborn styles shipped by Matplotlib are deprecated since 3.6, as they no longer correspond to the styles shipped by seaborn. However, they will remain available as 'seaborn-v0_8-<style>'. Alternatively, directly use the seaborn API instead.\n",
      "  plt.style.use('seaborn') # I personally prefer seaborn for the graph style, but you may choose whichever you want.\n"
     ]
    }
   ],
   "source": [
    "plt.style.use('seaborn') # I personally prefer seaborn for the graph style, but you may choose whichever you want.\n",
    "params = {\"ytick.color\" : \"black\",\n",
    "\"xtick.color\" : \"black\",\n",
    "\"axes.labelcolor\" : \"black\",\n",
    "\"axes.edgecolor\" : \"black\",\n",
    "\"text.usetex\" : True,\n",
    "\"font.family\" : \"serif\",\n",
    "\"font.serif\" : [\"Computer Modern Serif\"]}\n",
    "plt.rcParams.update(params)"
   ]
  },
  {
   "cell_type": "code",
   "execution_count": 3,
   "metadata": {},
   "outputs": [],
   "source": [
    "def D_min(x):\n",
    "  return (1/2) * (1 - np.sqrt(1 - x + x**2))"
   ]
  },
  {
   "cell_type": "code",
   "execution_count": null,
   "metadata": {},
   "outputs": [],
   "source": []
  }
 ],
 "metadata": {
  "kernelspec": {
   "display_name": "heisenberg-kagome-0MCudPZt-py3.11",
   "language": "python",
   "name": "python3"
  },
  "language_info": {
   "codemirror_mode": {
    "name": "ipython",
    "version": 3
   },
   "file_extension": ".py",
   "mimetype": "text/x-python",
   "name": "python",
   "nbconvert_exporter": "python",
   "pygments_lexer": "ipython3",
   "version": "3.11.1"
  },
  "orig_nbformat": 4,
  "vscode": {
   "interpreter": {
    "hash": "1b5f1b9d83be40b2319a5ede076108f2642b73420a45587c7884df2e4665ba27"
   }
  }
 },
 "nbformat": 4,
 "nbformat_minor": 2
}
