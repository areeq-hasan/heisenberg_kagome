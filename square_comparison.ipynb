{
 "cells": [
  {
   "cell_type": "code",
   "execution_count": 1,
   "metadata": {},
   "outputs": [],
   "source": [
    "%config InlineBackend.figure_formats = ['svg']"
   ]
  },
  {
   "cell_type": "code",
   "execution_count": 2,
   "metadata": {},
   "outputs": [],
   "source": [
    "from time import time\n",
    "\n",
    "import numpy as np\n",
    "import rustworkx as rx\n",
    "\n",
    "import matplotlib.pyplot as plt\n",
    "\n",
    "from qiskit import transpile\n",
    "from qiskit.circuit import Parameter\n",
    "from qiskit.opflow import VectorStateFn\n",
    "\n",
    "from qiskit.circuit.library import EfficientSU2\n",
    "from qiskit.primitives import Estimator\n",
    "from qiskit.algorithms import NumPyEigensolver as ClassicalEigensolver, MinimumEigensolver, VQEResult\n",
    "from qiskit.algorithms.optimizers import SLSQP, COBYLA, L_BFGS_B, ADAM, GradientDescent, NFT\n",
    "\n",
    "from qiskit_nature.problems.second_quantization.lattice import Lattice\n",
    "from qiskit_nature.mappers.second_quantization import LogarithmicMapper\n",
    "\n",
    "from heisenberg_model import HeisenbergModel"
   ]
  },
  {
   "cell_type": "code",
   "execution_count": null,
   "metadata": {},
   "outputs": [],
   "source": [
    "num_sites = 4\n",
    "t = 1.0"
   ]
  },
  {
   "cell_type": "code",
   "execution_count": 8,
   "metadata": {},
   "outputs": [
    {
     "data": {
      "image/svg+xml": "<?xml version=\"1.0\" encoding=\"utf-8\" standalone=\"no\"?>\n<!DOCTYPE svg PUBLIC \"-//W3C//DTD SVG 1.1//EN\"\n  \"http://www.w3.org/Graphics/SVG/1.1/DTD/svg11.dtd\">\n<svg xmlns:xlink=\"http://www.w3.org/1999/xlink\" width=\"475.2pt\" height=\"360pt\" viewBox=\"0 0 475.2 360\" xmlns=\"http://www.w3.org/2000/svg\" version=\"1.1\">\n <metadata>\n  <rdf:RDF xmlns:dc=\"http://purl.org/dc/elements/1.1/\" xmlns:cc=\"http://creativecommons.org/ns#\" xmlns:rdf=\"http://www.w3.org/1999/02/22-rdf-syntax-ns#\">\n   <cc:Work>\n    <dc:type rdf:resource=\"http://purl.org/dc/dcmitype/StillImage\"/>\n    <dc:date>2023-02-04T18:05:20.458246</dc:date>\n    <dc:format>image/svg+xml</dc:format>\n    <dc:creator>\n     <cc:Agent>\n      <dc:title>Matplotlib v3.6.3, https://matplotlib.org/</dc:title>\n     </cc:Agent>\n    </dc:creator>\n   </cc:Work>\n  </rdf:RDF>\n </metadata>\n <defs>\n  <style type=\"text/css\">*{stroke-linejoin: round; stroke-linecap: butt}</style>\n </defs>\n <g id=\"figure_1\">\n  <g id=\"patch_1\">\n   <path d=\"M 0 360 \nL 475.2 360 \nL 475.2 0 \nL 0 0 \nz\n\" style=\"fill: #ffffff\"/>\n  </g>\n  <g id=\"axes_1\">\n   <g id=\"patch_2\">\n    <path d=\"M 398.239257 37.97334 \nQ 227.026448 53.522012 55.813639 69.070684 \n\" clip-path=\"url(#p6acce8ade8)\" style=\"fill: none; stroke: #000000; stroke-linecap: round\"/>\n   </g>\n   <g id=\"patch_3\">\n    <path d=\"M 47.649112 78.503941 \nQ 53.947191 196.33453 60.245271 314.165118 \n\" clip-path=\"url(#p6acce8ade8)\" style=\"fill: none; stroke: #000000; stroke-linecap: round\"/>\n   </g>\n   <g id=\"patch_4\">\n    <path d=\"M 69.34129 322.150473 \nQ 244.360507 308.782854 419.379724 295.415234 \n\" clip-path=\"url(#p6acce8ade8)\" style=\"fill: none; stroke: #000000; stroke-linecap: round\"/>\n   </g>\n   <g id=\"patch_5\">\n    <path d=\"M 427.304227 286.121304 \nQ 417.438592 165.972563 407.572957 45.823821 \n\" clip-path=\"url(#p6acce8ade8)\" style=\"fill: none; stroke: #000000; stroke-linecap: round\"/>\n   </g>\n   <g id=\"PathCollection_1\">\n    <defs>\n     <path id=\"me30dc51184\" d=\"M 0 8.660254 \nC 2.296726 8.660254 4.499694 7.747755 6.123724 6.123724 \nC 7.747755 4.499694 8.660254 2.296726 8.660254 0 \nC 8.660254 -2.296726 7.747755 -4.499694 6.123724 -6.123724 \nC 4.499694 -7.747755 2.296726 -8.660254 0 -8.660254 \nC -2.296726 -8.660254 -4.499694 -7.747755 -6.123724 -6.123724 \nC -7.747755 -4.499694 -8.660254 -2.296726 -8.660254 0 \nC -8.660254 2.296726 -7.747755 4.499694 -6.123724 6.123724 \nC -4.499694 7.747755 -2.296726 8.660254 0 8.660254 \nz\n\" style=\"stroke: #1f78b4\"/>\n    </defs>\n    <g clip-path=\"url(#p6acce8ade8)\">\n     <use xlink:href=\"#me30dc51184\" x=\"406.864025\" y=\"37.190083\" style=\"fill: #1f78b4; stroke: #1f78b4\"/>\n     <use xlink:href=\"#me30dc51184\" x=\"47.186777\" y=\"69.854131\" style=\"fill: #1f78b4; stroke: #1f78b4\"/>\n     <use xlink:href=\"#me30dc51184\" x=\"60.707338\" y=\"322.809917\" style=\"fill: #1f78b4; stroke: #1f78b4\"/>\n     <use xlink:href=\"#me30dc51184\" x=\"428.013223\" y=\"294.755825\" style=\"fill: #1f78b4; stroke: #1f78b4\"/>\n    </g>\n   </g>\n  </g>\n </g>\n <defs>\n  <clipPath id=\"p6acce8ade8\">\n   <rect x=\"7.2\" y=\"7.2\" width=\"460.8\" height=\"345.6\"/>\n  </clipPath>\n </defs>\n</svg>\n",
      "text/plain": [
       "<Figure size 640x480 with 1 Axes>"
      ]
     },
     "metadata": {},
     "output_type": "display_data"
    }
   ],
   "source": [
    "graph = rx.PyGraph(multigraph=False)\n",
    "graph.add_nodes_from(range(num_sites))\n",
    "edge_list = [\n",
    "    (0, 1, t),\n",
    "    (1, 2, t),\n",
    "    (2, 3, t),\n",
    "    (3, 0, t),\n",
    "]\n",
    "\n",
    "graph.add_edges_from(edge_list)\n",
    "unit_cell = Lattice(graph)\n",
    "\n",
    "unit_cell.draw()\n",
    "plt.show()"
   ]
  },
  {
   "cell_type": "code",
   "execution_count": 6,
   "metadata": {},
   "outputs": [
    {
     "data": {
      "image/svg+xml": "<?xml version=\"1.0\" encoding=\"utf-8\" standalone=\"no\"?>\n<!DOCTYPE svg PUBLIC \"-//W3C//DTD SVG 1.1//EN\"\n  \"http://www.w3.org/Graphics/SVG/1.1/DTD/svg11.dtd\">\n<svg xmlns:xlink=\"http://www.w3.org/1999/xlink\" width=\"475.2pt\" height=\"360pt\" viewBox=\"0 0 475.2 360\" xmlns=\"http://www.w3.org/2000/svg\" version=\"1.1\">\n <metadata>\n  <rdf:RDF xmlns:dc=\"http://purl.org/dc/elements/1.1/\" xmlns:cc=\"http://creativecommons.org/ns#\" xmlns:rdf=\"http://www.w3.org/1999/02/22-rdf-syntax-ns#\">\n   <cc:Work>\n    <dc:type rdf:resource=\"http://purl.org/dc/dcmitype/StillImage\"/>\n    <dc:date>2023-02-04T18:04:47.766422</dc:date>\n    <dc:format>image/svg+xml</dc:format>\n    <dc:creator>\n     <cc:Agent>\n      <dc:title>Matplotlib v3.6.3, https://matplotlib.org/</dc:title>\n     </cc:Agent>\n    </dc:creator>\n   </cc:Work>\n  </rdf:RDF>\n </metadata>\n <defs>\n  <style type=\"text/css\">*{stroke-linejoin: round; stroke-linecap: butt}</style>\n </defs>\n <g id=\"figure_1\">\n  <g id=\"patch_1\">\n   <path d=\"M 0 360 \nL 475.2 360 \nL 475.2 0 \nL 0 0 \nz\n\" style=\"fill: #ffffff\"/>\n  </g>\n  <g id=\"axes_1\">\n   <g id=\"patch_2\">\n    <path d=\"M 326.326938 244.280272 \nQ 375.260825 144.62349 424.194712 44.966709 \n\" clip-path=\"url(#p65815ffb4f)\" style=\"fill: none; stroke: #000000; stroke-linecap: round\"/>\n   </g>\n   <g id=\"patch_3\">\n    <path d=\"M 419.478544 38.678556 \nQ 292.580162 60.81001 165.68178 82.941463 \n\" clip-path=\"url(#p65815ffb4f)\" style=\"fill: none; stroke: #000000; stroke-linecap: round\"/>\n   </g>\n   <g id=\"patch_4\">\n    <path d=\"M 163.23519 90.595843 \nQ 239.831014 168.241529 316.426838 245.887215 \n\" clip-path=\"url(#p65815ffb4f)\" style=\"fill: none; stroke: #000000; stroke-linecap: round\"/>\n   </g>\n   <g id=\"patch_5\">\n    <path d=\"M 153.525824 92.289537 \nQ 102.169562 203.618964 50.813299 314.94839 \n\" clip-path=\"url(#p65815ffb4f)\" style=\"fill: none; stroke: #000000; stroke-linecap: round\"/>\n   </g>\n   <g id=\"patch_6\">\n    <path d=\"M 55.576371 320.653849 \nQ 184.849936 287.431426 314.123501 254.209004 \n\" clip-path=\"url(#p65815ffb4f)\" style=\"fill: none; stroke: #000000; stroke-linecap: round\"/>\n   </g>\n   <g id=\"PathCollection_1\">\n    <defs>\n     <path id=\"mba6de3045d\" d=\"M 0 8.660254 \nC 2.296726 8.660254 4.499694 7.747755 6.123724 6.123724 \nC 7.747755 4.499694 8.660254 2.296726 8.660254 0 \nC 8.660254 -2.296726 7.747755 -4.499694 6.123724 -6.123724 \nC 4.499694 -7.747755 2.296726 -8.660254 0 -8.660254 \nC -2.296726 -8.660254 -4.499694 -7.747755 -6.123724 -6.123724 \nC -7.747755 -4.499694 -8.660254 -2.296726 -8.660254 0 \nC -8.660254 2.296726 -7.747755 4.499694 -6.123724 6.123724 \nC -4.499694 7.747755 -2.296726 8.660254 0 8.660254 \nz\n\" style=\"stroke: #1f78b4\"/>\n    </defs>\n    <g clip-path=\"url(#p65815ffb4f)\">\n     <use xlink:href=\"#mba6de3045d\" x=\"322.50998\" y=\"252.053736\" style=\"fill: #1f78b4; stroke: #1f78b4\"/>\n     <use xlink:href=\"#mba6de3045d\" x=\"428.013223\" y=\"37.190083\" style=\"fill: #1f78b4; stroke: #1f78b4\"/>\n     <use xlink:href=\"#mba6de3045d\" x=\"157.151839\" y=\"84.42911\" style=\"fill: #1f78b4; stroke: #1f78b4\"/>\n     <use xlink:href=\"#mba6de3045d\" x=\"47.186777\" y=\"322.809917\" style=\"fill: #1f78b4; stroke: #1f78b4\"/>\n    </g>\n   </g>\n  </g>\n </g>\n <defs>\n  <clipPath id=\"p65815ffb4f\">\n   <rect x=\"7.2\" y=\"7.2\" width=\"460.8\" height=\"345.6\"/>\n  </clipPath>\n </defs>\n</svg>\n",
      "text/plain": [
       "<Figure size 640x480 with 1 Axes>"
      ]
     },
     "metadata": {},
     "output_type": "display_data"
    }
   ],
   "source": [
    "with_diagonal_graph = rx.PyGraph(multigraph=False)\n",
    "with_diagonal_graph.add_nodes_from(range(num_sites))\n",
    "with_diagonal_edge_list = [\n",
    "    (0, 1, t),\n",
    "    (1, 2, t),\n",
    "    (2, 0, t),\n",
    "    (2, 3, t),\n",
    "    (3, 0, t),\n",
    "]\n",
    "\n",
    "with_diagonal_graph.add_edges_from(with_diagonal_edge_list)\n",
    "with_diagonal_unit_cell = Lattice(with_diagonal_graph)\n",
    "\n",
    "with_diagonal_unit_cell.draw()\n",
    "plt.show()"
   ]
  },
  {
   "cell_type": "code",
   "execution_count": 10,
   "metadata": {},
   "outputs": [],
   "source": [
    "logarithmic_mapper = LogarithmicMapper()"
   ]
  },
  {
   "cell_type": "code",
   "execution_count": 14,
   "metadata": {},
   "outputs": [
    {
     "name": "stdout",
     "output_type": "stream",
     "text": [
      "[[ 4  0  0  0  0  0  0  0  0  0  0  0  0  0  0  0]\n",
      " [ 0  0  2  0  0  0  0  0  2  0  0  0  0  0  0  0]\n",
      " [ 0  2  0  0  2  0  0  0  0  0  0  0  0  0  0  0]\n",
      " [ 0  0  0  0  0  2  0  0  0  0  2  0  0  0  0  0]\n",
      " [ 0  0  2  0  0  0  0  0  2  0  0  0  0  0  0  0]\n",
      " [ 0  0  0  2  0 -4  2  0  0  2  0  0  2  0  0  0]\n",
      " [ 0  0  0  0  0  2  0  0  0  0  2  0  0  0  0  0]\n",
      " [ 0  0  0  0  0  0  0  0  0  0  0  2  0  0  2  0]\n",
      " [ 0  2  0  0  2  0  0  0  0  0  0  0  0  0  0  0]\n",
      " [ 0  0  0  0  0  2  0  0  0  0  2  0  0  0  0  0]\n",
      " [ 0  0  0  2  0  0  2  0  0  2 -4  0  2  0  0  0]\n",
      " [ 0  0  0  0  0  0  0  2  0  0  0  0  0  2  0  0]\n",
      " [ 0  0  0  0  0  2  0  0  0  0  2  0  0  0  0  0]\n",
      " [ 0  0  0  0  0  0  0  0  0  0  0  2  0  0  2  0]\n",
      " [ 0  0  0  0  0  0  0  2  0  0  0  0  0  2  0  0]\n",
      " [ 0  0  0  0  0  0  0  0  0  0  0  0  0  0  0  4]]\n"
     ]
    },
    {
     "name": "stderr",
     "output_type": "stream",
     "text": [
      "/var/folders/r1/027lgns16j553ds7rms76qf80000gn/T/ipykernel_28096/2693707905.py:8: ComplexWarning: Casting complex values to real discards the imaginary part\n",
      "  print(hamiltonian.eval().primitive.data.astype(int))\n"
     ]
    }
   ],
   "source": [
    "heisenberg_model = HeisenbergModel.uniform_parameters(\n",
    "    lattice=unit_cell,\n",
    "    uniform_interaction=1.0,\n",
    "    uniform_onsite_potential=0.0,\n",
    ")\n",
    "\n",
    "hamiltonian = 4 * logarithmic_mapper.map(heisenberg_model.second_q_ops().simplify())\n",
    "print(hamiltonian.eval().primitive.data.astype(int))"
   ]
  },
  {
   "cell_type": "code",
   "execution_count": 15,
   "metadata": {},
   "outputs": [
    {
     "name": "stdout",
     "output_type": "stream",
     "text": [
      "[[ 5  0  0  0  0  0  0  0  0  0  0  0  0  0  0  0]\n",
      " [ 0 -1  2  0  2  0  0  0  2  0  0  0  0  0  0  0]\n",
      " [ 0  2  1  0  2  0  0  0  0  0  0  0  0  0  0  0]\n",
      " [ 0  0  0 -1  0  2  2  0  0  0  2  0  0  0  0  0]\n",
      " [ 0  2  2  0 -1  0  0  0  2  0  0  0  0  0  0  0]\n",
      " [ 0  0  0  2  0 -3  2  0  0  2  0  0  2  0  0  0]\n",
      " [ 0  0  0  2  0  2 -1  0  0  0  2  0  0  0  0  0]\n",
      " [ 0  0  0  0  0  0  0  1  0  0  0  2  0  0  2  0]\n",
      " [ 0  2  0  0  2  0  0  0  1  0  0  0  0  0  0  0]\n",
      " [ 0  0  0  0  0  2  0  0  0 -1  2  0  2  0  0  0]\n",
      " [ 0  0  0  2  0  0  2  0  0  2 -3  0  2  0  0  0]\n",
      " [ 0  0  0  0  0  0  0  2  0  0  0 -1  0  2  2  0]\n",
      " [ 0  0  0  0  0  2  0  0  0  2  2  0 -1  0  0  0]\n",
      " [ 0  0  0  0  0  0  0  0  0  0  0  2  0  1  2  0]\n",
      " [ 0  0  0  0  0  0  0  2  0  0  0  2  0  2 -1  0]\n",
      " [ 0  0  0  0  0  0  0  0  0  0  0  0  0  0  0  5]]\n"
     ]
    },
    {
     "name": "stderr",
     "output_type": "stream",
     "text": [
      "/var/folders/r1/027lgns16j553ds7rms76qf80000gn/T/ipykernel_28096/95254769.py:8: ComplexWarning: Casting complex values to real discards the imaginary part\n",
      "  print(with_diagonal_hamiltonian.eval().primitive.data.astype(int))\n"
     ]
    }
   ],
   "source": [
    "with_diagonal_heisenberg_model = HeisenbergModel.uniform_parameters(\n",
    "    lattice=with_diagonal_unit_cell,\n",
    "    uniform_interaction=1.0,\n",
    "    uniform_onsite_potential=0.0,\n",
    ")\n",
    "\n",
    "with_diagonal_hamiltonian = 4 * logarithmic_mapper.map(with_diagonal_heisenberg_model.second_q_ops().simplify())\n",
    "print(with_diagonal_hamiltonian.eval().primitive.data.astype(int))"
   ]
  },
  {
   "cell_type": "code",
   "execution_count": 23,
   "metadata": {},
   "outputs": [],
   "source": [
    "exact_solver = ClassicalEigensolver(k=1)"
   ]
  },
  {
   "cell_type": "code",
   "execution_count": 24,
   "metadata": {},
   "outputs": [
    {
     "name": "stdout",
     "output_type": "stream",
     "text": [
      "[-8.]\n"
     ]
    }
   ],
   "source": [
    "exact_result = exact_solver.compute_eigenvalues(hamiltonian)\n",
    "print(exact_result.eigenvalues)"
   ]
  },
  {
   "cell_type": "code",
   "execution_count": 26,
   "metadata": {},
   "outputs": [
    {
     "name": "stdout",
     "output_type": "stream",
     "text": [
      "[-7.]\n"
     ]
    }
   ],
   "source": [
    "with_diagonal_exact_result = exact_solver.compute_eigenvalues(with_diagonal_hamiltonian)\n",
    "print(with_diagonal_exact_result.eigenvalues)"
   ]
  },
  {
   "cell_type": "code",
   "execution_count": 27,
   "metadata": {},
   "outputs": [
    {
     "data": {
      "text/plain": [
       "VectorStateFn(Statevector([-9.59765448e-18-3.75594714e-17j,\n",
       "             -4.84633913e-17-1.41012963e-16j,\n",
       "             -1.49613317e-18+9.30977756e-17j,\n",
       "             -2.73889779e-01+9.12015484e-02j,\n",
       "             -3.64371833e-17-4.86162238e-18j,\n",
       "              5.47779557e-01-1.82403097e-01j,\n",
       "             -2.73889779e-01+9.12015484e-02j,\n",
       "              9.15883678e-17-9.67901186e-17j,\n",
       "              6.61061521e-17+2.20866227e-18j,\n",
       "             -2.73889779e-01+9.12015484e-02j,\n",
       "              5.47779557e-01-1.82403097e-01j,\n",
       "             -1.09981767e-18-1.59666103e-16j,\n",
       "             -2.73889779e-01+9.12015484e-02j,\n",
       "             -1.34807274e-17+1.33190961e-16j,\n",
       "             -2.22463217e-17+1.22653349e-16j,\n",
       "              2.95161824e-17+5.20323015e-18j],\n",
       "            dims=(2, 2, 2, 2)), coeff=1.0, is_measurement=False)"
      ]
     },
     "execution_count": 27,
     "metadata": {},
     "output_type": "execute_result"
    }
   ],
   "source": [
    "exact_result.eigenstates[0]"
   ]
  },
  {
   "cell_type": "code",
   "execution_count": 28,
   "metadata": {},
   "outputs": [
    {
     "data": {
      "text/plain": [
       "VectorStateFn(Statevector([-1.22299864e-17+6.19304479e-17j,\n",
       "             -7.19044959e-17+7.92274631e-18j,\n",
       "             -4.27288787e-18+3.72686025e-18j,\n",
       "              2.24478111e-01-1.81501820e-01j,\n",
       "             -2.95938372e-17+3.72684574e-17j,\n",
       "             -4.48956223e-01+3.63003641e-01j,\n",
       "              2.24478111e-01-1.81501820e-01j,\n",
       "              7.15839867e-17+9.76622025e-17j,\n",
       "              5.98217158e-18-4.76182220e-17j,\n",
       "              2.24478111e-01-1.81501820e-01j,\n",
       "             -4.48956223e-01+3.63003641e-01j,\n",
       "             -4.18918080e-17+4.12271362e-18j,\n",
       "              2.24478111e-01-1.81501820e-01j,\n",
       "              8.88090884e-17+4.02585596e-17j,\n",
       "              8.11500444e-17-4.16075046e-17j,\n",
       "             -7.79944587e-17-1.37170873e-17j],\n",
       "            dims=(2, 2, 2, 2)), coeff=1.0, is_measurement=False)"
      ]
     },
     "execution_count": 28,
     "metadata": {},
     "output_type": "execute_result"
    }
   ],
   "source": [
    "with_diagonal_exact_result.eigenstates[0]"
   ]
  },
  {
   "cell_type": "code",
   "execution_count": 33,
   "metadata": {},
   "outputs": [
    {
     "data": {
      "text/plain": [
       "1.0000000000000004"
      ]
     },
     "execution_count": 33,
     "metadata": {},
     "output_type": "execute_result"
    }
   ],
   "source": [
    "np.abs(exact_result.eigenstates[0].primitive.inner(with_diagonal_exact_result.eigenstates[0].primitive)) ** 2"
   ]
  }
 ],
 "metadata": {
  "kernelspec": {
   "display_name": "heisenberg-kagome-0MCudPZt-py3.11",
   "language": "python",
   "name": "python3"
  },
  "language_info": {
   "codemirror_mode": {
    "name": "ipython",
    "version": 3
   },
   "file_extension": ".py",
   "mimetype": "text/x-python",
   "name": "python",
   "nbconvert_exporter": "python",
   "pygments_lexer": "ipython3",
   "version": "3.11.1 (main, Jan 22 2023, 13:46:53) [Clang 14.0.0 (clang-1400.0.29.202)]"
  },
  "orig_nbformat": 4,
  "vscode": {
   "interpreter": {
    "hash": "1b5f1b9d83be40b2319a5ede076108f2642b73420a45587c7884df2e4665ba27"
   }
  }
 },
 "nbformat": 4,
 "nbformat_minor": 2
}
