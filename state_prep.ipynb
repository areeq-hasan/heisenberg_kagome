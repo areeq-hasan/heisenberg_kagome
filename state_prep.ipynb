{
 "cells": [
  {
   "cell_type": "code",
   "execution_count": 100,
   "metadata": {},
   "outputs": [],
   "source": [
    "from itertools import product\n",
    "\n",
    "import numpy as np\n",
    "\n",
    "from qiskit import QuantumCircuit\n",
    "from qiskit.circuit.library import HGate, XGate, CXGate\n",
    "\n",
    "from qiskit.quantum_info import Statevector"
   ]
  },
  {
   "attachments": {},
   "cell_type": "markdown",
   "metadata": {},
   "source": [
    "$$|1\\rangle$$"
   ]
  },
  {
   "cell_type": "code",
   "execution_count": 153,
   "metadata": {},
   "outputs": [],
   "source": [
    "num_qubits = 4\n",
    "gate_options = [HGate(), XGate(), CXGate()]\n",
    "num_gates = 5"
   ]
  },
  {
   "cell_type": "code",
   "execution_count": 154,
   "metadata": {},
   "outputs": [],
   "source": [
    "for instructions in product(*(((gate, qubits) for gate in gate_options for qubits in product(*(range(num_qubits) for _ in range(gate.num_qubits)))) for _ in range(num_gates))):\n",
    "    circuit = QuantumCircuit(num_qubits)\n",
    "    for index, instruction in enumerate(instructions):\n",
    "        gate, qubits = instruction\n",
    "        repeated_qarg = len(qubits) != len(set(qubits))\n",
    "        repeated_instruction = instructions[index-1][0].name == gate.name and instructions[index-1][1] == qubits\n",
    "        if not repeated_qarg and not repeated_instruction:\n",
    "            circuit.append(gate, qubits)\n",
    "        else:\n",
    "            break\n",
    "    if not repeated_qarg and not repeated_instruction:\n",
    "        statevector = Statevector(circuit)\n",
    "        if np.isclose(np.abs(statevector.inner(Statevector(np.array([0, 0, 0, 1, 0, 0, 1, 0, 0, 1, 0, 0, 1, 0, 0, 0])/np.sqrt(4))))**2, 1):\n",
    "            display(circuit.draw(\"mpl\"))\n",
    "            display(statevector.draw(\"latex\"))"
   ]
  }
 ],
 "metadata": {
  "kernelspec": {
   "display_name": "heisenberg-kagome-0MCudPZt-py3.11",
   "language": "python",
   "name": "python3"
  },
  "language_info": {
   "codemirror_mode": {
    "name": "ipython",
    "version": 3
   },
   "file_extension": ".py",
   "mimetype": "text/x-python",
   "name": "python",
   "nbconvert_exporter": "python",
   "pygments_lexer": "ipython3",
   "version": "3.11.1"
  },
  "orig_nbformat": 4,
  "vscode": {
   "interpreter": {
    "hash": "1b5f1b9d83be40b2319a5ede076108f2642b73420a45587c7884df2e4665ba27"
   }
  }
 },
 "nbformat": 4,
 "nbformat_minor": 2
}
