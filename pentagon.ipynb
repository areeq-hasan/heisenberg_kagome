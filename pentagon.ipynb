{
 "cells": [
  {
   "cell_type": "code",
   "execution_count": 1,
   "metadata": {},
   "outputs": [],
   "source": [
    "%config InlineBackend.figure_formats = ['svg']"
   ]
  },
  {
   "cell_type": "code",
   "execution_count": 2,
   "metadata": {},
   "outputs": [],
   "source": [
    "from time import time\n",
    "\n",
    "import numpy as np\n",
    "import rustworkx as rx\n",
    "\n",
    "import matplotlib.pyplot as plt\n",
    "\n",
    "from qiskit import transpile\n",
    "from qiskit.circuit import Parameter\n",
    "from qiskit.opflow import VectorStateFn\n",
    "\n",
    "from qiskit.circuit.library import EfficientSU2\n",
    "from qiskit.primitives import Estimator\n",
    "from qiskit.algorithms import NumPyEigensolver as ClassicalEigensolver\n",
    "from qiskit.algorithms.optimizers import SLSQP, COBYLA, L_BFGS_B, ADAM, GradientDescent, NFT\n",
    "\n",
    "from qiskit_nature.problems.second_quantization.lattice import Lattice\n",
    "from qiskit_nature.mappers.second_quantization import LogarithmicMapper\n",
    "\n",
    "from heisenberg_model import HeisenbergModel\n",
    "\n",
    "from utils import latex_array"
   ]
  },
  {
   "cell_type": "code",
   "execution_count": 3,
   "metadata": {},
   "outputs": [
    {
     "data": {
      "image/svg+xml": "<?xml version=\"1.0\" encoding=\"utf-8\" standalone=\"no\"?>\n<!DOCTYPE svg PUBLIC \"-//W3C//DTD SVG 1.1//EN\"\n  \"http://www.w3.org/Graphics/SVG/1.1/DTD/svg11.dtd\">\n<svg xmlns:xlink=\"http://www.w3.org/1999/xlink\" width=\"475.2pt\" height=\"360pt\" viewBox=\"0 0 475.2 360\" xmlns=\"http://www.w3.org/2000/svg\" version=\"1.1\">\n <metadata>\n  <rdf:RDF xmlns:dc=\"http://purl.org/dc/elements/1.1/\" xmlns:cc=\"http://creativecommons.org/ns#\" xmlns:rdf=\"http://www.w3.org/1999/02/22-rdf-syntax-ns#\">\n   <cc:Work>\n    <dc:type rdf:resource=\"http://purl.org/dc/dcmitype/StillImage\"/>\n    <dc:date>2023-02-04T16:31:28.016326</dc:date>\n    <dc:format>image/svg+xml</dc:format>\n    <dc:creator>\n     <cc:Agent>\n      <dc:title>Matplotlib v3.6.3, https://matplotlib.org/</dc:title>\n     </cc:Agent>\n    </dc:creator>\n   </cc:Work>\n  </rdf:RDF>\n </metadata>\n <defs>\n  <style type=\"text/css\">*{stroke-linejoin: round; stroke-linecap: butt}</style>\n </defs>\n <g id=\"figure_1\">\n  <g id=\"patch_1\">\n   <path d=\"M 0 360 \nL 475.2 360 \nL 475.2 0 \nL 0 0 \nz\n\" style=\"fill: #ffffff\"/>\n  </g>\n  <g id=\"axes_1\">\n   <g id=\"patch_2\">\n    <path d=\"M 427.079594 246.310259 \nQ 418.407742 166.338028 409.735889 86.365797 \n\" clip-path=\"url(#pf4a6ab99ac)\" style=\"fill: none; stroke: #000000; stroke-linecap: round\"/>\n   </g>\n   <g id=\"patch_3\">\n    <path d=\"M 400.267958 76.301083 \nQ 289.951265 57.473961 179.634572 38.646838 \n\" clip-path=\"url(#pf4a6ab99ac)\" style=\"fill: none; stroke: #000000; stroke-linecap: round\"/>\n   </g>\n   <g id=\"patch_4\">\n    <path d=\"M 165.651533 43.919668 \nQ 109.144155 113.729524 52.636777 183.539381 \n\" clip-path=\"url(#pf4a6ab99ac)\" style=\"fill: none; stroke: #000000; stroke-linecap: round\"/>\n   </g>\n   <g id=\"patch_5\">\n    <path d=\"M 53.914054 195.72264 \nQ 128.981978 256.540736 204.049902 317.358832 \n\" clip-path=\"url(#pf4a6ab99ac)\" style=\"fill: none; stroke: #000000; stroke-linecap: round\"/>\n   </g>\n   <g id=\"patch_6\">\n    <path d=\"M 219.041846 320.227383 \nQ 319.39345 288.865778 419.745053 257.504173 \n\" clip-path=\"url(#pf4a6ab99ac)\" style=\"fill: none; stroke: #000000; stroke-linecap: round\"/>\n   </g>\n   <g id=\"PathCollection_1\">\n    <defs>\n     <path id=\"m5a5fa604a9\" d=\"M 0 8.660254 \nC 2.296726 8.660254 4.499694 7.747755 6.123724 6.123724 \nC 7.747755 4.499694 8.660254 2.296726 8.660254 0 \nC 8.660254 -2.296726 7.747755 -4.499694 6.123724 -6.123724 \nC 4.499694 -7.747755 2.296726 -8.660254 0 -8.660254 \nC -2.296726 -8.660254 -4.499694 -7.747755 -6.123724 -6.123724 \nC -7.747755 -4.499694 -8.660254 -2.296726 -8.660254 0 \nC -8.660254 2.296726 -7.747755 4.499694 -6.123724 6.123724 \nC -4.499694 7.747755 -2.296726 8.660254 0 8.660254 \nz\n\" style=\"stroke: #1f78b4\"/>\n    </defs>\n    <g clip-path=\"url(#pf4a6ab99ac)\">\n     <use xlink:href=\"#m5a5fa604a9\" x=\"428.013223\" y=\"254.920228\" style=\"fill: #1f78b4; stroke: #1f78b4\"/>\n     <use xlink:href=\"#m5a5fa604a9\" x=\"408.802454\" y=\"77.757617\" style=\"fill: #1f78b4; stroke: #1f78b4\"/>\n     <use xlink:href=\"#m5a5fa604a9\" x=\"171.098775\" y=\"37.190083\" style=\"fill: #1f78b4; stroke: #1f78b4\"/>\n     <use xlink:href=\"#m5a5fa604a9\" x=\"47.186777\" y=\"190.272374\" style=\"fill: #1f78b4; stroke: #1f78b4\"/>\n     <use xlink:href=\"#m5a5fa604a9\" x=\"210.77819\" y=\"322.809917\" style=\"fill: #1f78b4; stroke: #1f78b4\"/>\n    </g>\n   </g>\n  </g>\n </g>\n <defs>\n  <clipPath id=\"pf4a6ab99ac\">\n   <rect x=\"7.2\" y=\"7.2\" width=\"460.8\" height=\"345.6\"/>\n  </clipPath>\n </defs>\n</svg>\n",
      "text/plain": [
       "<Figure size 640x480 with 1 Axes>"
      ]
     },
     "metadata": {},
     "output_type": "display_data"
    }
   ],
   "source": [
    "num_sites = 5\n",
    "t = 1.0\n",
    "\n",
    "graph = rx.PyGraph(multigraph=False)\n",
    "graph.add_nodes_from(range(num_sites))\n",
    "edge_list = [\n",
    "    (0, 1, t),\n",
    "    (1, 2, t),\n",
    "    (2, 3, t),\n",
    "    (3, 4, t),\n",
    "    (4, 0, t),\n",
    "]\n",
    "\n",
    "graph.add_edges_from(edge_list)\n",
    "line_unit_cell = Lattice(graph)\n",
    "\n",
    "line_unit_cell.draw()\n",
    "plt.show()"
   ]
  },
  {
   "cell_type": "code",
   "execution_count": 4,
   "metadata": {},
   "outputs": [
    {
     "data": {
      "text/plain": [
       "PauliSumOp(SparsePauliOp(['ZZIII', 'IZZII', 'IIZZI', 'ZIIIZ', 'IIIZZ', 'YYIII', 'IYYII', 'IIYYI', 'YIIIY', 'IIIYY', 'XXIII', 'IXXII', 'IIXXI', 'XIIIX', 'IIIXX'],\n",
       "              coeffs=[1.+0.j, 1.+0.j, 1.+0.j, 1.+0.j, 1.+0.j, 1.+0.j, 1.+0.j, 1.+0.j, 1.+0.j,\n",
       " 1.+0.j, 1.+0.j, 1.+0.j, 1.+0.j, 1.+0.j, 1.+0.j]), coeff=1)"
      ]
     },
     "execution_count": 4,
     "metadata": {},
     "output_type": "execute_result"
    }
   ],
   "source": [
    "heisenberg_model = HeisenbergModel.uniform_parameters(\n",
    "    lattice=line_unit_cell,\n",
    "    uniform_interaction=1.0,\n",
    "    uniform_onsite_potential=0.0,\n",
    ")\n",
    "\n",
    "logarithmic_mapper = LogarithmicMapper()\n",
    "hamiltonian = 4 * logarithmic_mapper.map(heisenberg_model.second_q_ops().simplify())\n",
    "hamiltonian"
   ]
  },
  {
   "cell_type": "code",
   "execution_count": 6,
   "metadata": {},
   "outputs": [
    {
     "name": "stdout",
     "output_type": "stream",
     "text": [
      "[[5 0 0 ... 0 0 0]\n",
      " [0 1 2 ... 0 0 0]\n",
      " [0 2 1 ... 0 0 0]\n",
      " ...\n",
      " [0 0 0 ... 1 2 0]\n",
      " [0 0 0 ... 2 1 0]\n",
      " [0 0 0 ... 0 0 5]]\n"
     ]
    },
    {
     "name": "stderr",
     "output_type": "stream",
     "text": [
      "/var/folders/r1/027lgns16j553ds7rms76qf80000gn/T/ipykernel_26890/1530903205.py:1: ComplexWarning: Casting complex values to real discards the imaginary part\n",
      "  print(hamiltonian.eval().primitive.data.astype(int))\n"
     ]
    }
   ],
   "source": [
    "print(hamiltonian.eval().primitive.data.astype(int))"
   ]
  },
  {
   "cell_type": "code",
   "execution_count": 9,
   "metadata": {},
   "outputs": [
    {
     "name": "stdout",
     "output_type": "stream",
     "text": [
      "\\begin{bmatrix}\n",
      "  5 & 0 & 0 & ... & 0 & 0 & 0\\\\\n",
      "  0 & 1 & 2 & ... & 0 & 0 & 0\\\\\n",
      "  0 & 2 & 1 & ... & 0 & 0 & 0\\\\\n",
      "  ...\\\\\n",
      "  0 & 0 & 0 & ... & 1 & 2 & 0\\\\\n",
      "  0 & 0 & 0 & ... & 2 & 1 & 0\\\\\n",
      "  0 & 0 & 0 & ... & 0 & 0 & 5\\\\\n",
      "\\end{bmatrix}\n"
     ]
    },
    {
     "name": "stderr",
     "output_type": "stream",
     "text": [
      "/var/folders/r1/027lgns16j553ds7rms76qf80000gn/T/ipykernel_26890/3808117855.py:1: ComplexWarning: Casting complex values to real discards the imaginary part\n",
      "  print(latex_array(hamiltonian.eval().primitive.data.astype(int)))\n"
     ]
    }
   ],
   "source": [
    "print(latex_array(hamiltonian.eval().primitive.data.astype(int)))"
   ]
  },
  {
   "cell_type": "code",
   "execution_count": 10,
   "metadata": {},
   "outputs": [
    {
     "name": "stdout",
     "output_type": "stream",
     "text": [
      "{ 5,0,0,0,0,0,0,0,0,0,0,0,0,0,0,0,0,0,0,0,0,0,0,0,0,0,0,0,0,0,0,0 },\n",
      "{ 0,1,2,0,0,0,0,0,0,0,0,0,0,0,0,0,2,0,0,0,0,0,0,0,0,0,0,0,0,0,0,0 },\n",
      "{ 0,2,1,0,2,0,0,0,0,0,0,0,0,0,0,0,0,0,0,0,0,0,0,0,0,0,0,0,0,0,0,0 },\n",
      "{ 0,0,0,1,0,2,0,0,0,0,0,0,0,0,0,0,0,0,2,0,0,0,0,0,0,0,0,0,0,0,0,0 },\n",
      "{ 0,0,2,0,1,0,0,0,2,0,0,0,0,0,0,0,0,0,0,0,0,0,0,0,0,0,0,0,0,0,0,0 },\n",
      "{ 0,0,0,2,0,-3,2,0,0,2,0,0,0,0,0,0,0,0,0,0,2,0,0,0,0,0,0,0,0,0,0,0 },\n",
      "{ 0,0,0,0,0,2,1,0,0,0,2,0,0,0,0,0,0,0,0,0,0,0,0,0,0,0,0,0,0,0,0,0 },\n",
      "{ 0,0,0,0,0,0,0,1,0,0,0,2,0,0,0,0,0,0,0,0,0,0,2,0,0,0,0,0,0,0,0,0 },\n",
      "{ 0,0,0,0,2,0,0,0,1,0,0,0,0,0,0,0,2,0,0,0,0,0,0,0,0,0,0,0,0,0,0,0 },\n",
      "{ 0,0,0,0,0,2,0,0,0,-3,2,0,0,0,0,0,0,2,0,0,0,0,0,0,2,0,0,0,0,0,0,0 },\n",
      "{ 0,0,0,0,0,0,2,0,0,2,-3,0,2,0,0,0,0,0,2,0,0,0,0,0,0,0,0,0,0,0,0,0 },\n",
      "{ 0,0,0,0,0,0,0,2,0,0,0,-3,0,2,0,0,0,0,0,2,0,0,0,0,0,0,2,0,0,0,0,0 },\n",
      "{ 0,0,0,0,0,0,0,0,0,0,2,0,1,0,0,0,0,0,0,0,2,0,0,0,0,0,0,0,0,0,0,0 },\n",
      "{ 0,0,0,0,0,0,0,0,0,0,0,2,0,-3,2,0,0,0,0,0,0,2,0,0,0,0,0,0,2,0,0,0 },\n",
      "{ 0,0,0,0,0,0,0,0,0,0,0,0,0,2,1,0,0,0,0,0,0,0,2,0,0,0,0,0,0,0,0,0 },\n",
      "{ 0,0,0,0,0,0,0,0,0,0,0,0,0,0,0,1,0,0,0,0,0,0,0,2,0,0,0,0,0,0,2,0 },\n",
      "{ 0,2,0,0,0,0,0,0,2,0,0,0,0,0,0,0,1,0,0,0,0,0,0,0,0,0,0,0,0,0,0,0 },\n",
      "{ 0,0,0,0,0,0,0,0,0,2,0,0,0,0,0,0,0,1,2,0,0,0,0,0,0,0,0,0,0,0,0,0 },\n",
      "{ 0,0,0,2,0,0,0,0,0,0,2,0,0,0,0,0,0,2,-3,0,2,0,0,0,0,0,0,0,0,0,0,0 },\n",
      "{ 0,0,0,0,0,0,0,0,0,0,0,2,0,0,0,0,0,0,0,1,0,2,0,0,0,0,0,0,0,0,0,0 },\n",
      "{ 0,0,0,0,0,2,0,0,0,0,0,0,2,0,0,0,0,0,2,0,-3,0,0,0,2,0,0,0,0,0,0,0 },\n",
      "{ 0,0,0,0,0,0,0,0,0,0,0,0,0,2,0,0,0,0,0,2,0,-3,2,0,0,2,0,0,0,0,0,0 },\n",
      "{ 0,0,0,0,0,0,0,2,0,0,0,0,0,0,2,0,0,0,0,0,0,2,-3,0,0,0,2,0,0,0,0,0 },\n",
      "{ 0,0,0,0,0,0,0,0,0,0,0,0,0,0,0,2,0,0,0,0,0,0,0,1,0,0,0,2,0,0,0,0 },\n",
      "{ 0,0,0,0,0,0,0,0,0,2,0,0,0,0,0,0,0,0,0,0,2,0,0,0,1,0,0,0,0,0,0,0 },\n",
      "{ 0,0,0,0,0,0,0,0,0,0,0,0,0,0,0,0,0,0,0,0,0,2,0,0,0,1,2,0,0,0,0,0 },\n",
      "{ 0,0,0,0,0,0,0,0,0,0,0,2,0,0,0,0,0,0,0,0,0,0,2,0,0,2,-3,0,2,0,0,0 },\n",
      "{ 0,0,0,0,0,0,0,0,0,0,0,0,0,0,0,0,0,0,0,0,0,0,0,2,0,0,0,1,0,2,0,0 },\n",
      "{ 0,0,0,0,0,0,0,0,0,0,0,0,0,2,0,0,0,0,0,0,0,0,0,0,0,0,2,0,1,0,0,0 },\n",
      "{ 0,0,0,0,0,0,0,0,0,0,0,0,0,0,0,0,0,0,0,0,0,0,0,0,0,0,0,2,0,1,2,0 },\n",
      "{ 0,0,0,0,0,0,0,0,0,0,0,0,0,0,0,2,0,0,0,0,0,0,0,0,0,0,0,0,0,2,1,0 },\n",
      "{ 0,0,0,0,0,0,0,0,0,0,0,0,0,0,0,0,0,0,0,0,0,0,0,0,0,0,0,0,0,0,0,5 },\n"
     ]
    },
    {
     "name": "stderr",
     "output_type": "stream",
     "text": [
      "/var/folders/r1/027lgns16j553ds7rms76qf80000gn/T/ipykernel_26890/4023989667.py:1: ComplexWarning: Casting complex values to real discards the imaginary part\n",
      "  for jawn in hamiltonian.eval().primitive.data.astype(int):\n"
     ]
    }
   ],
   "source": [
    "for jawn in hamiltonian.eval().primitive.data.astype(int):\n",
    "    print(\"{\", \",\".join(map(str, jawn)), \"},\")"
   ]
  },
  {
   "cell_type": "code",
   "execution_count": null,
   "metadata": {},
   "outputs": [],
   "source": []
  }
 ],
 "metadata": {
  "kernelspec": {
   "display_name": "heisenberg-kagome-0MCudPZt-py3.11",
   "language": "python",
   "name": "python3"
  },
  "language_info": {
   "codemirror_mode": {
    "name": "ipython",
    "version": 3
   },
   "file_extension": ".py",
   "mimetype": "text/x-python",
   "name": "python",
   "nbconvert_exporter": "python",
   "pygments_lexer": "ipython3",
   "version": "3.11.1"
  },
  "orig_nbformat": 4,
  "vscode": {
   "interpreter": {
    "hash": "1b5f1b9d83be40b2319a5ede076108f2642b73420a45587c7884df2e4665ba27"
   }
  }
 },
 "nbformat": 4,
 "nbformat_minor": 2
}
