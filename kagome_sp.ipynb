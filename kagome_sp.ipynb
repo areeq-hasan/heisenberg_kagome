{
 "cells": [
  {
   "cell_type": "code",
   "execution_count": 2,
   "metadata": {},
   "outputs": [],
   "source": [
    "%config InlineBackend.figure_formats = ['svg']"
   ]
  },
  {
   "cell_type": "code",
   "execution_count": 154,
   "metadata": {},
   "outputs": [],
   "source": [
    "from time import time\n",
    "\n",
    "from functools import reduce\n",
    "\n",
    "import numpy as np\n",
    "import rustworkx as rx\n",
    "\n",
    "import matplotlib.pyplot as plt\n",
    "\n",
    "from qiskit import QuantumCircuit, transpile\n",
    "from qiskit.circuit import Parameter\n",
    "\n",
    "from qiskit.quantum_info import Statevector\n",
    "from qiskit.opflow import VectorStateFn\n",
    "\n",
    "from qiskit.circuit.library import EfficientSU2\n",
    "from qiskit.primitives import Estimator\n",
    "from qiskit.algorithms import NumPyEigensolver as ClassicalEigensolver, MinimumEigensolver, VQEResult\n",
    "from qiskit.algorithms.optimizers import SLSQP, COBYLA, L_BFGS_B, ADAM, GradientDescent, NFT\n",
    "\n",
    "from qiskit_nature.problems.second_quantization.lattice import Lattice\n",
    "from qiskit_nature.mappers.second_quantization import LogarithmicMapper\n",
    "\n",
    "from heisenberg_model import HeisenbergModel"
   ]
  },
  {
   "cell_type": "code",
   "execution_count": 4,
   "metadata": {},
   "outputs": [
    {
     "data": {
      "image/svg+xml": "<?xml version=\"1.0\" encoding=\"utf-8\" standalone=\"no\"?>\n<!DOCTYPE svg PUBLIC \"-//W3C//DTD SVG 1.1//EN\"\n  \"http://www.w3.org/Graphics/SVG/1.1/DTD/svg11.dtd\">\n<svg xmlns:xlink=\"http://www.w3.org/1999/xlink\" width=\"475.2pt\" height=\"360pt\" viewBox=\"0 0 475.2 360\" xmlns=\"http://www.w3.org/2000/svg\" version=\"1.1\">\n <metadata>\n  <rdf:RDF xmlns:dc=\"http://purl.org/dc/elements/1.1/\" xmlns:cc=\"http://creativecommons.org/ns#\" xmlns:rdf=\"http://www.w3.org/1999/02/22-rdf-syntax-ns#\">\n   <cc:Work>\n    <dc:type rdf:resource=\"http://purl.org/dc/dcmitype/StillImage\"/>\n    <dc:date>2023-02-11T10:50:39.659042</dc:date>\n    <dc:format>image/svg+xml</dc:format>\n    <dc:creator>\n     <cc:Agent>\n      <dc:title>Matplotlib v3.6.3, https://matplotlib.org/</dc:title>\n     </cc:Agent>\n    </dc:creator>\n   </cc:Work>\n  </rdf:RDF>\n </metadata>\n <defs>\n  <style type=\"text/css\">*{stroke-linejoin: round; stroke-linecap: butt}</style>\n </defs>\n <g id=\"figure_1\">\n  <g id=\"patch_1\">\n   <path d=\"M 0 360 \nL 475.2 360 \nL 475.2 0 \nL 0 0 \nz\n\" style=\"fill: #ffffff\"/>\n  </g>\n  <g id=\"axes_1\">\n   <g id=\"patch_2\">\n    <path d=\"M 376.676388 187.745737 \nQ 398.4083 215.334045 420.140213 242.922352 \n\" clip-path=\"url(#pa37921e0e0)\" style=\"fill: none; stroke: #000000; stroke-linecap: round\"/>\n   </g>\n   <g id=\"patch_3\">\n    <path d=\"M 366.14311 187.88793 \nQ 342.115561 220.142356 318.088011 252.396782 \n\" clip-path=\"url(#pa37921e0e0)\" style=\"fill: none; stroke: #000000; stroke-linecap: round\"/>\n   </g>\n   <g id=\"patch_4\">\n    <path d=\"M 416.873792 250.464868 \nQ 369.20716 254.535139 321.540528 258.605409 \n\" clip-path=\"url(#pa37921e0e0)\" style=\"fill: none; stroke: #000000; stroke-linecap: round\"/>\n   </g>\n   <g id=\"patch_5\">\n    <path d=\"M 306.533509 265.19722 \nQ 278.332785 291.075286 250.132061 316.953353 \n\" clip-path=\"url(#pa37921e0e0)\" style=\"fill: none; stroke: #000000; stroke-linecap: round\"/>\n   </g>\n   <g id=\"patch_6\">\n    <path d=\"M 304.25782 259.09706 \nQ 242.808822 257.35824 181.359824 255.61942 \n\" clip-path=\"url(#pa37921e0e0)\" style=\"fill: none; stroke: #000000; stroke-linecap: round\"/>\n   </g>\n   <g id=\"patch_7\">\n    <path d=\"M 237.468356 316.847979 \nQ 208.223889 289.091241 178.979423 261.334502 \n\" clip-path=\"url(#pa37921e0e0)\" style=\"fill: none; stroke: #000000; stroke-linecap: round\"/>\n   </g>\n   <g id=\"patch_8\">\n    <path d=\"M 164.06253 254.761867 \nQ 111.413686 251.02835 58.764842 247.294833 \n\" clip-path=\"url(#pa37921e0e0)\" style=\"fill: none; stroke: #000000; stroke-linecap: round\"/>\n   </g>\n   <g id=\"patch_9\">\n    <path d=\"M 166.631747 249.194762 \nQ 133.20126 215.149885 99.770773 181.105007 \n\" clip-path=\"url(#pa37921e0e0)\" style=\"fill: none; stroke: #000000; stroke-linecap: round\"/>\n   </g>\n   <g id=\"patch_10\">\n    <path d=\"M 54.620487 239.278109 \nQ 71.912791 210.803108 89.205096 182.328106 \n\" clip-path=\"url(#pa37921e0e0)\" style=\"fill: none; stroke: #000000; stroke-linecap: round\"/>\n   </g>\n   <g id=\"patch_11\">\n    <path d=\"M 88.814019 167.773576 \nQ 70.443305 140.896192 52.072591 114.018808 \n\" clip-path=\"url(#pa37921e0e0)\" style=\"fill: none; stroke: #000000; stroke-linecap: round\"/>\n   </g>\n   <g id=\"patch_12\">\n    <path d=\"M 99.810874 168.78392 \nQ 131.261385 137.175338 162.711896 105.566757 \n\" clip-path=\"url(#pa37921e0e0)\" style=\"fill: none; stroke: #000000; stroke-linecap: round\"/>\n   </g>\n   <g id=\"patch_13\">\n    <path d=\"M 55.832019 106.341491 \nQ 108.004489 103.14849 160.176959 99.955489 \n\" clip-path=\"url(#pa37921e0e0)\" style=\"fill: none; stroke: #000000; stroke-linecap: round\"/>\n   </g>\n   <g id=\"patch_14\">\n    <path d=\"M 174.991538 93.350565 \nQ 200.421138 68.309037 225.850738 43.267508 \n\" clip-path=\"url(#pa37921e0e0)\" style=\"fill: none; stroke: #000000; stroke-linecap: round\"/>\n   </g>\n   <g id=\"patch_15\">\n    <path d=\"M 177.482252 99.406168 \nQ 239.381186 99.261318 301.280119 99.116469 \n\" clip-path=\"url(#pa37921e0e0)\" style=\"fill: none; stroke: #000000; stroke-linecap: round\"/>\n   </g>\n   <g id=\"patch_16\">\n    <path d=\"M 238.801875 42.576262 \nQ 270.982307 68.142874 303.16274 93.709485 \n\" clip-path=\"url(#pa37921e0e0)\" style=\"fill: none; stroke: #000000; stroke-linecap: round\"/>\n   </g>\n   <g id=\"patch_17\">\n    <path d=\"M 318.558235 99.975698 \nQ 368.978411 105.122893 419.398586 110.270088 \n\" clip-path=\"url(#pa37921e0e0)\" style=\"fill: none; stroke: #000000; stroke-linecap: round\"/>\n   </g>\n   <g id=\"patch_18\">\n    <path d=\"M 315.136748 106.022443 \nQ 340.62865 140.017375 366.120553 174.012307 \n\" clip-path=\"url(#pa37921e0e0)\" style=\"fill: none; stroke: #000000; stroke-linecap: round\"/>\n   </g>\n   <g id=\"patch_19\">\n    <path d=\"M 422.55436 117.869378 \nQ 399.667437 146.043157 376.780513 174.216936 \n\" clip-path=\"url(#pa37921e0e0)\" style=\"fill: none; stroke: #000000; stroke-linecap: round\"/>\n   </g>\n   <g id=\"PathCollection_1\">\n    <defs>\n     <path id=\"m7615f09c19\" d=\"M 0 8.660254 \nC 2.296726 8.660254 4.499694 7.747755 6.123724 6.123724 \nC 7.747755 4.499694 8.660254 2.296726 8.660254 0 \nC 8.660254 -2.296726 7.747755 -4.499694 6.123724 -6.123724 \nC 4.499694 -7.747755 2.296726 -8.660254 0 -8.660254 \nC -2.296726 -8.660254 -4.499694 -7.747755 -6.123724 -6.123724 \nC -7.747755 -4.499694 -8.660254 -2.296726 -8.660254 0 \nC -8.660254 2.296726 -7.747755 4.499694 -6.123724 6.123724 \nC -4.499694 7.747755 -2.296726 8.660254 0 8.660254 \nz\n\" style=\"stroke: #1f78b4\"/>\n    </defs>\n    <g clip-path=\"url(#pa37921e0e0)\">\n     <use xlink:href=\"#m7615f09c19\" x=\"371.317173\" y=\"180.942302\" style=\"fill: #1f78b4; stroke: #1f78b4\"/>\n     <use xlink:href=\"#m7615f09c19\" x=\"425.501297\" y=\"249.728162\" style=\"fill: #1f78b4; stroke: #1f78b4\"/>\n     <use xlink:href=\"#m7615f09c19\" x=\"312.914246\" y=\"259.342011\" style=\"fill: #1f78b4; stroke: #1f78b4\"/>\n     <use xlink:href=\"#m7615f09c19\" x=\"243.749847\" y=\"322.809917\" style=\"fill: #1f78b4; stroke: #1f78b4\"/>\n     <use xlink:href=\"#m7615f09c19\" x=\"172.699833\" y=\"255.374369\" style=\"fill: #1f78b4; stroke: #1f78b4\"/>\n     <use xlink:href=\"#m7615f09c19\" x=\"50.124193\" y=\"246.682094\" style=\"fill: #1f78b4; stroke: #1f78b4\"/>\n     <use xlink:href=\"#m7615f09c19\" x=\"93.701405\" y=\"174.924095\" style=\"fill: #1f78b4; stroke: #1f78b4\"/>\n     <use xlink:href=\"#m7615f09c19\" x=\"47.186777\" y=\"106.870587\" style=\"fill: #1f78b4; stroke: #1f78b4\"/>\n     <use xlink:href=\"#m7615f09c19\" x=\"168.82151\" y=\"99.426435\" style=\"fill: #1f78b4; stroke: #1f78b4\"/>\n     <use xlink:href=\"#m7615f09c19\" x=\"232.022346\" y=\"37.190083\" style=\"fill: #1f78b4; stroke: #1f78b4\"/>\n     <use xlink:href=\"#m7615f09c19\" x=\"309.942938\" y=\"99.096197\" style=\"fill: #1f78b4; stroke: #1f78b4\"/>\n     <use xlink:href=\"#m7615f09c19\" x=\"428.013223\" y=\"111.149522\" style=\"fill: #1f78b4; stroke: #1f78b4\"/>\n    </g>\n   </g>\n  </g>\n </g>\n <defs>\n  <clipPath id=\"pa37921e0e0\">\n   <rect x=\"7.2\" y=\"7.2\" width=\"460.8\" height=\"345.6\"/>\n  </clipPath>\n </defs>\n</svg>\n",
      "text/plain": [
       "<Figure size 640x480 with 1 Axes>"
      ]
     },
     "metadata": {},
     "output_type": "display_data"
    }
   ],
   "source": [
    "num_sites = 12\n",
    "t = 1.0\n",
    "\n",
    "graph = rx.PyGraph(multigraph=False)\n",
    "graph.add_nodes_from(range(num_sites))\n",
    "edge_list = [\n",
    "    (0, 1, t),\n",
    "    (0, 2, t),\n",
    "    (1, 2, t),\n",
    "    (2, 3, t),\n",
    "    (2, 4, t),\n",
    "    (3, 4, t),\n",
    "    (4, 5, t),\n",
    "    (4, 6, t),\n",
    "    (5, 6, t),\n",
    "    (6, 7, t),\n",
    "    (6, 8, t),\n",
    "    (7, 8, t),\n",
    "    (8, 9, t),\n",
    "    (8, 10, t),\n",
    "    (9, 10, t),\n",
    "    (10, 11, t),\n",
    "    (10, 0, t),\n",
    "    (11, 0, t),\n",
    "]\n",
    "graph.add_edges_from(edge_list)\n",
    "kagome_unit_cell = Lattice(graph)\n",
    "\n",
    "kagome_unit_cell.draw()\n",
    "plt.show()"
   ]
  },
  {
   "cell_type": "code",
   "execution_count": 5,
   "metadata": {},
   "outputs": [
    {
     "data": {
      "text/plain": [
       "PauliSumOp(SparsePauliOp(['ZZIIIIIIIIII', 'IZZIIIIIIIII', 'IZIZIIIIIIII', 'IIZZIIIIIIII', 'IIIZZIIIIIII', 'IIIZIZIIIIII', 'IIIIZZIIIIII', 'IIIIIZZIIIII', 'IIIIIZIZIIII', 'IIIIIIZZIIII', 'IIIIIIIZZIII', 'IIIIIIIZIZII', 'IIIIIIIIZZII', 'IIIIIIIIIZZI', 'ZIIIIIIIIIIZ', 'IZIIIIIIIIIZ', 'IIIIIIIIIZIZ', 'IIIIIIIIIIZZ', 'YYIIIIIIIIII', 'IYYIIIIIIIII', 'IYIYIIIIIIII', 'IIYYIIIIIIII', 'IIIYYIIIIIII', 'IIIYIYIIIIII', 'IIIIYYIIIIII', 'IIIIIYYIIIII', 'IIIIIYIYIIII', 'IIIIIIYYIIII', 'IIIIIIIYYIII', 'IIIIIIIYIYII', 'IIIIIIIIYYII', 'IIIIIIIIIYYI', 'YIIIIIIIIIIY', 'IYIIIIIIIIIY', 'IIIIIIIIIYIY', 'IIIIIIIIIIYY', 'XXIIIIIIIIII', 'IXXIIIIIIIII', 'IXIXIIIIIIII', 'IIXXIIIIIIII', 'IIIXXIIIIIII', 'IIIXIXIIIIII', 'IIIIXXIIIIII', 'IIIIIXXIIIII', 'IIIIIXIXIIII', 'IIIIIIXXIIII', 'IIIIIIIXXIII', 'IIIIIIIXIXII', 'IIIIIIIIXXII', 'IIIIIIIIIXXI', 'XIIIIIIIIIIX', 'IXIIIIIIIIIX', 'IIIIIIIIIXIX', 'IIIIIIIIIIXX'],\n",
       "              coeffs=[1.+0.j, 1.+0.j, 1.+0.j, 1.+0.j, 1.+0.j, 1.+0.j, 1.+0.j, 1.+0.j, 1.+0.j,\n",
       " 1.+0.j, 1.+0.j, 1.+0.j, 1.+0.j, 1.+0.j, 1.+0.j, 1.+0.j, 1.+0.j, 1.+0.j,\n",
       " 1.+0.j, 1.+0.j, 1.+0.j, 1.+0.j, 1.+0.j, 1.+0.j, 1.+0.j, 1.+0.j, 1.+0.j,\n",
       " 1.+0.j, 1.+0.j, 1.+0.j, 1.+0.j, 1.+0.j, 1.+0.j, 1.+0.j, 1.+0.j, 1.+0.j,\n",
       " 1.+0.j, 1.+0.j, 1.+0.j, 1.+0.j, 1.+0.j, 1.+0.j, 1.+0.j, 1.+0.j, 1.+0.j,\n",
       " 1.+0.j, 1.+0.j, 1.+0.j, 1.+0.j, 1.+0.j, 1.+0.j, 1.+0.j, 1.+0.j, 1.+0.j]), coeff=1)"
      ]
     },
     "execution_count": 5,
     "metadata": {},
     "output_type": "execute_result"
    }
   ],
   "source": [
    "heisenberg_model = HeisenbergModel.uniform_parameters(\n",
    "    lattice=kagome_unit_cell,\n",
    "    uniform_interaction=1.0,\n",
    "    uniform_onsite_potential=0.0,\n",
    ")\n",
    "\n",
    "logarithmic_mapper = LogarithmicMapper()\n",
    "hamiltonian = 4 * logarithmic_mapper.map(heisenberg_model.second_q_ops().simplify())\n",
    "hamiltonian"
   ]
  },
  {
   "cell_type": "code",
   "execution_count": 6,
   "metadata": {},
   "outputs": [
    {
     "name": "stdout",
     "output_type": "stream",
     "text": [
      "[-18.         -18.         -16.96132284 ...  18.          18.\n",
      "  18.        ]\n"
     ]
    }
   ],
   "source": [
    "exact_solver = ClassicalEigensolver(k=2**12)\n",
    "exact_result = exact_solver.compute_eigenvalues(hamiltonian)\n",
    "print(exact_result.eigenvalues)\n",
    "\n",
    "gs_energy = exact_result.eigenvalues[0]"
   ]
  },
  {
   "cell_type": "code",
   "execution_count": null,
   "metadata": {},
   "outputs": [],
   "source": [
    "nonzero_amplitudes = [ sum(1 for amplitude in exact_result.eigenstates[i].primitive.data if not np.isclose(amplitude, 0)) for i in range(2**12) ]"
   ]
  },
  {
   "cell_type": "code",
   "execution_count": 83,
   "metadata": {},
   "outputs": [],
   "source": [
    "nonzero_amplitudes = np.array(nonzero_amplitudes)"
   ]
  },
  {
   "cell_type": "code",
   "execution_count": 84,
   "metadata": {},
   "outputs": [
    {
     "data": {
      "text/plain": [
       "126"
      ]
     },
     "execution_count": 84,
     "metadata": {},
     "output_type": "execute_result"
    }
   ],
   "source": [
    "nonzero_amplitudes[0]"
   ]
  },
  {
   "cell_type": "code",
   "execution_count": 8,
   "metadata": {},
   "outputs": [
    {
     "data": {
      "image/svg+xml": "<?xml version=\"1.0\" encoding=\"utf-8\" standalone=\"no\"?>\n<!DOCTYPE svg PUBLIC \"-//W3C//DTD SVG 1.1//EN\"\n  \"http://www.w3.org/Graphics/SVG/1.1/DTD/svg11.dtd\">\n<svg xmlns:xlink=\"http://www.w3.org/1999/xlink\" width=\"413.302812pt\" height=\"325.986375pt\" viewBox=\"0 0 413.302812 325.986375\" xmlns=\"http://www.w3.org/2000/svg\" version=\"1.1\">\n <metadata>\n  <rdf:RDF xmlns:dc=\"http://purl.org/dc/elements/1.1/\" xmlns:cc=\"http://creativecommons.org/ns#\" xmlns:rdf=\"http://www.w3.org/1999/02/22-rdf-syntax-ns#\">\n   <cc:Work>\n    <dc:type rdf:resource=\"http://purl.org/dc/dcmitype/StillImage\"/>\n    <dc:date>2023-02-11T10:53:09.263549</dc:date>\n    <dc:format>image/svg+xml</dc:format>\n    <dc:creator>\n     <cc:Agent>\n      <dc:title>Matplotlib v3.6.3, https://matplotlib.org/</dc:title>\n     </cc:Agent>\n    </dc:creator>\n   </cc:Work>\n  </rdf:RDF>\n </metadata>\n <defs>\n  <style type=\"text/css\">*{stroke-linejoin: round; stroke-linecap: butt}</style>\n </defs>\n <g id=\"figure_1\">\n  <g id=\"patch_1\">\n   <path d=\"M 0 325.986375 \nL 413.302812 325.986375 \nL 413.302812 0 \nL 0 0 \nz\n\" style=\"fill: #ffffff\"/>\n  </g>\n  <g id=\"axes_1\">\n   <g id=\"patch_2\">\n    <path d=\"M 48.982813 288.430125 \nL 406.102813 288.430125 \nL 406.102813 22.318125 \nL 48.982813 22.318125 \nz\n\" style=\"fill: #ffffff\"/>\n   </g>\n   <g id=\"matplotlib.axis_1\">\n    <g id=\"xtick_1\">\n     <g id=\"line2d_1\">\n      <defs>\n       <path id=\"m6725dd28f7\" d=\"M 0 0 \nL 0 3.5 \n\" style=\"stroke: #000000; stroke-width: 0.8\"/>\n      </defs>\n      <g>\n       <use xlink:href=\"#m6725dd28f7\" x=\"65.21554\" y=\"288.430125\" style=\"stroke: #000000; stroke-width: 0.8\"/>\n      </g>\n     </g>\n     <g id=\"text_1\">\n      <!-- 0 -->\n      <g transform=\"translate(62.03429 303.028562) scale(0.1 -0.1)\">\n       <defs>\n        <path id=\"DejaVuSans-30\" d=\"M 2034 4250 \nQ 1547 4250 1301 3770 \nQ 1056 3291 1056 2328 \nQ 1056 1369 1301 889 \nQ 1547 409 2034 409 \nQ 2525 409 2770 889 \nQ 3016 1369 3016 2328 \nQ 3016 3291 2770 3770 \nQ 2525 4250 2034 4250 \nz\nM 2034 4750 \nQ 2819 4750 3233 4129 \nQ 3647 3509 3647 2328 \nQ 3647 1150 3233 529 \nQ 2819 -91 2034 -91 \nQ 1250 -91 836 529 \nQ 422 1150 422 2328 \nQ 422 3509 836 4129 \nQ 1250 4750 2034 4750 \nz\n\" transform=\"scale(0.015625)\"/>\n       </defs>\n       <use xlink:href=\"#DejaVuSans-30\"/>\n      </g>\n     </g>\n    </g>\n    <g id=\"xtick_2\">\n     <g id=\"line2d_2\">\n      <g>\n       <use xlink:href=\"#m6725dd28f7\" x=\"144.496259\" y=\"288.430125\" style=\"stroke: #000000; stroke-width: 0.8\"/>\n      </g>\n     </g>\n     <g id=\"text_2\">\n      <!-- 1000 -->\n      <g transform=\"translate(131.771259 303.028562) scale(0.1 -0.1)\">\n       <defs>\n        <path id=\"DejaVuSans-31\" d=\"M 794 531 \nL 1825 531 \nL 1825 4091 \nL 703 3866 \nL 703 4441 \nL 1819 4666 \nL 2450 4666 \nL 2450 531 \nL 3481 531 \nL 3481 0 \nL 794 0 \nL 794 531 \nz\n\" transform=\"scale(0.015625)\"/>\n       </defs>\n       <use xlink:href=\"#DejaVuSans-31\"/>\n       <use xlink:href=\"#DejaVuSans-30\" x=\"63.623047\"/>\n       <use xlink:href=\"#DejaVuSans-30\" x=\"127.246094\"/>\n       <use xlink:href=\"#DejaVuSans-30\" x=\"190.869141\"/>\n      </g>\n     </g>\n    </g>\n    <g id=\"xtick_3\">\n     <g id=\"line2d_3\">\n      <g>\n       <use xlink:href=\"#m6725dd28f7\" x=\"223.776978\" y=\"288.430125\" style=\"stroke: #000000; stroke-width: 0.8\"/>\n      </g>\n     </g>\n     <g id=\"text_3\">\n      <!-- 2000 -->\n      <g transform=\"translate(211.051978 303.028562) scale(0.1 -0.1)\">\n       <defs>\n        <path id=\"DejaVuSans-32\" d=\"M 1228 531 \nL 3431 531 \nL 3431 0 \nL 469 0 \nL 469 531 \nQ 828 903 1448 1529 \nQ 2069 2156 2228 2338 \nQ 2531 2678 2651 2914 \nQ 2772 3150 2772 3378 \nQ 2772 3750 2511 3984 \nQ 2250 4219 1831 4219 \nQ 1534 4219 1204 4116 \nQ 875 4013 500 3803 \nL 500 4441 \nQ 881 4594 1212 4672 \nQ 1544 4750 1819 4750 \nQ 2544 4750 2975 4387 \nQ 3406 4025 3406 3419 \nQ 3406 3131 3298 2873 \nQ 3191 2616 2906 2266 \nQ 2828 2175 2409 1742 \nQ 1991 1309 1228 531 \nz\n\" transform=\"scale(0.015625)\"/>\n       </defs>\n       <use xlink:href=\"#DejaVuSans-32\"/>\n       <use xlink:href=\"#DejaVuSans-30\" x=\"63.623047\"/>\n       <use xlink:href=\"#DejaVuSans-30\" x=\"127.246094\"/>\n       <use xlink:href=\"#DejaVuSans-30\" x=\"190.869141\"/>\n      </g>\n     </g>\n    </g>\n    <g id=\"xtick_4\">\n     <g id=\"line2d_4\">\n      <g>\n       <use xlink:href=\"#m6725dd28f7\" x=\"303.057698\" y=\"288.430125\" style=\"stroke: #000000; stroke-width: 0.8\"/>\n      </g>\n     </g>\n     <g id=\"text_4\">\n      <!-- 3000 -->\n      <g transform=\"translate(290.332698 303.028562) scale(0.1 -0.1)\">\n       <defs>\n        <path id=\"DejaVuSans-33\" d=\"M 2597 2516 \nQ 3050 2419 3304 2112 \nQ 3559 1806 3559 1356 \nQ 3559 666 3084 287 \nQ 2609 -91 1734 -91 \nQ 1441 -91 1130 -33 \nQ 819 25 488 141 \nL 488 750 \nQ 750 597 1062 519 \nQ 1375 441 1716 441 \nQ 2309 441 2620 675 \nQ 2931 909 2931 1356 \nQ 2931 1769 2642 2001 \nQ 2353 2234 1838 2234 \nL 1294 2234 \nL 1294 2753 \nL 1863 2753 \nQ 2328 2753 2575 2939 \nQ 2822 3125 2822 3475 \nQ 2822 3834 2567 4026 \nQ 2313 4219 1838 4219 \nQ 1578 4219 1281 4162 \nQ 984 4106 628 3988 \nL 628 4550 \nQ 988 4650 1302 4700 \nQ 1616 4750 1894 4750 \nQ 2613 4750 3031 4423 \nQ 3450 4097 3450 3541 \nQ 3450 3153 3228 2886 \nQ 3006 2619 2597 2516 \nz\n\" transform=\"scale(0.015625)\"/>\n       </defs>\n       <use xlink:href=\"#DejaVuSans-33\"/>\n       <use xlink:href=\"#DejaVuSans-30\" x=\"63.623047\"/>\n       <use xlink:href=\"#DejaVuSans-30\" x=\"127.246094\"/>\n       <use xlink:href=\"#DejaVuSans-30\" x=\"190.869141\"/>\n      </g>\n     </g>\n    </g>\n    <g id=\"xtick_5\">\n     <g id=\"line2d_5\">\n      <g>\n       <use xlink:href=\"#m6725dd28f7\" x=\"382.338417\" y=\"288.430125\" style=\"stroke: #000000; stroke-width: 0.8\"/>\n      </g>\n     </g>\n     <g id=\"text_5\">\n      <!-- 4000 -->\n      <g transform=\"translate(369.613417 303.028562) scale(0.1 -0.1)\">\n       <defs>\n        <path id=\"DejaVuSans-34\" d=\"M 2419 4116 \nL 825 1625 \nL 2419 1625 \nL 2419 4116 \nz\nM 2253 4666 \nL 3047 4666 \nL 3047 1625 \nL 3713 1625 \nL 3713 1100 \nL 3047 1100 \nL 3047 0 \nL 2419 0 \nL 2419 1100 \nL 313 1100 \nL 313 1709 \nL 2253 4666 \nz\n\" transform=\"scale(0.015625)\"/>\n       </defs>\n       <use xlink:href=\"#DejaVuSans-34\"/>\n       <use xlink:href=\"#DejaVuSans-30\" x=\"63.623047\"/>\n       <use xlink:href=\"#DejaVuSans-30\" x=\"127.246094\"/>\n       <use xlink:href=\"#DejaVuSans-30\" x=\"190.869141\"/>\n      </g>\n     </g>\n    </g>\n    <g id=\"text_6\">\n     <!-- Index -->\n     <g transform=\"translate(213.776406 316.706687) scale(0.1 -0.1)\">\n      <defs>\n       <path id=\"DejaVuSans-49\" d=\"M 628 4666 \nL 1259 4666 \nL 1259 0 \nL 628 0 \nL 628 4666 \nz\n\" transform=\"scale(0.015625)\"/>\n       <path id=\"DejaVuSans-6e\" d=\"M 3513 2113 \nL 3513 0 \nL 2938 0 \nL 2938 2094 \nQ 2938 2591 2744 2837 \nQ 2550 3084 2163 3084 \nQ 1697 3084 1428 2787 \nQ 1159 2491 1159 1978 \nL 1159 0 \nL 581 0 \nL 581 3500 \nL 1159 3500 \nL 1159 2956 \nQ 1366 3272 1645 3428 \nQ 1925 3584 2291 3584 \nQ 2894 3584 3203 3211 \nQ 3513 2838 3513 2113 \nz\n\" transform=\"scale(0.015625)\"/>\n       <path id=\"DejaVuSans-64\" d=\"M 2906 2969 \nL 2906 4863 \nL 3481 4863 \nL 3481 0 \nL 2906 0 \nL 2906 525 \nQ 2725 213 2448 61 \nQ 2172 -91 1784 -91 \nQ 1150 -91 751 415 \nQ 353 922 353 1747 \nQ 353 2572 751 3078 \nQ 1150 3584 1784 3584 \nQ 2172 3584 2448 3432 \nQ 2725 3281 2906 2969 \nz\nM 947 1747 \nQ 947 1113 1208 752 \nQ 1469 391 1925 391 \nQ 2381 391 2643 752 \nQ 2906 1113 2906 1747 \nQ 2906 2381 2643 2742 \nQ 2381 3103 1925 3103 \nQ 1469 3103 1208 2742 \nQ 947 2381 947 1747 \nz\n\" transform=\"scale(0.015625)\"/>\n       <path id=\"DejaVuSans-65\" d=\"M 3597 1894 \nL 3597 1613 \nL 953 1613 \nQ 991 1019 1311 708 \nQ 1631 397 2203 397 \nQ 2534 397 2845 478 \nQ 3156 559 3463 722 \nL 3463 178 \nQ 3153 47 2828 -22 \nQ 2503 -91 2169 -91 \nQ 1331 -91 842 396 \nQ 353 884 353 1716 \nQ 353 2575 817 3079 \nQ 1281 3584 2069 3584 \nQ 2775 3584 3186 3129 \nQ 3597 2675 3597 1894 \nz\nM 3022 2063 \nQ 3016 2534 2758 2815 \nQ 2500 3097 2075 3097 \nQ 1594 3097 1305 2825 \nQ 1016 2553 972 2059 \nL 3022 2063 \nz\n\" transform=\"scale(0.015625)\"/>\n       <path id=\"DejaVuSans-78\" d=\"M 3513 3500 \nL 2247 1797 \nL 3578 0 \nL 2900 0 \nL 1881 1375 \nL 863 0 \nL 184 0 \nL 1544 1831 \nL 300 3500 \nL 978 3500 \nL 1906 2253 \nL 2834 3500 \nL 3513 3500 \nz\n\" transform=\"scale(0.015625)\"/>\n      </defs>\n      <use xlink:href=\"#DejaVuSans-49\"/>\n      <use xlink:href=\"#DejaVuSans-6e\" x=\"29.492188\"/>\n      <use xlink:href=\"#DejaVuSans-64\" x=\"92.871094\"/>\n      <use xlink:href=\"#DejaVuSans-65\" x=\"156.347656\"/>\n      <use xlink:href=\"#DejaVuSans-78\" x=\"216.121094\"/>\n     </g>\n    </g>\n   </g>\n   <g id=\"matplotlib.axis_2\">\n    <g id=\"ytick_1\">\n     <g id=\"line2d_6\">\n      <defs>\n       <path id=\"me8f0f6adaf\" d=\"M 0 0 \nL -3.5 0 \n\" style=\"stroke: #000000; stroke-width: 0.8\"/>\n      </defs>\n      <g>\n       <use xlink:href=\"#me8f0f6adaf\" x=\"48.982813\" y=\"256.174125\" style=\"stroke: #000000; stroke-width: 0.8\"/>\n      </g>\n     </g>\n     <g id=\"text_7\">\n      <!-- −15 -->\n      <g transform=\"translate(20.878125 259.973344) scale(0.1 -0.1)\">\n       <defs>\n        <path id=\"DejaVuSans-2212\" d=\"M 678 2272 \nL 4684 2272 \nL 4684 1741 \nL 678 1741 \nL 678 2272 \nz\n\" transform=\"scale(0.015625)\"/>\n        <path id=\"DejaVuSans-35\" d=\"M 691 4666 \nL 3169 4666 \nL 3169 4134 \nL 1269 4134 \nL 1269 2991 \nQ 1406 3038 1543 3061 \nQ 1681 3084 1819 3084 \nQ 2600 3084 3056 2656 \nQ 3513 2228 3513 1497 \nQ 3513 744 3044 326 \nQ 2575 -91 1722 -91 \nQ 1428 -91 1123 -41 \nQ 819 9 494 109 \nL 494 744 \nQ 775 591 1075 516 \nQ 1375 441 1709 441 \nQ 2250 441 2565 725 \nQ 2881 1009 2881 1497 \nQ 2881 1984 2565 2268 \nQ 2250 2553 1709 2553 \nQ 1456 2553 1204 2497 \nQ 953 2441 691 2322 \nL 691 4666 \nz\n\" transform=\"scale(0.015625)\"/>\n       </defs>\n       <use xlink:href=\"#DejaVuSans-2212\"/>\n       <use xlink:href=\"#DejaVuSans-31\" x=\"83.789062\"/>\n       <use xlink:href=\"#DejaVuSans-35\" x=\"147.412109\"/>\n      </g>\n     </g>\n    </g>\n    <g id=\"ytick_2\">\n     <g id=\"line2d_7\">\n      <g>\n       <use xlink:href=\"#me8f0f6adaf\" x=\"48.982813\" y=\"222.574125\" style=\"stroke: #000000; stroke-width: 0.8\"/>\n      </g>\n     </g>\n     <g id=\"text_8\">\n      <!-- −10 -->\n      <g transform=\"translate(20.878125 226.373344) scale(0.1 -0.1)\">\n       <use xlink:href=\"#DejaVuSans-2212\"/>\n       <use xlink:href=\"#DejaVuSans-31\" x=\"83.789062\"/>\n       <use xlink:href=\"#DejaVuSans-30\" x=\"147.412109\"/>\n      </g>\n     </g>\n    </g>\n    <g id=\"ytick_3\">\n     <g id=\"line2d_8\">\n      <g>\n       <use xlink:href=\"#me8f0f6adaf\" x=\"48.982813\" y=\"188.974125\" style=\"stroke: #000000; stroke-width: 0.8\"/>\n      </g>\n     </g>\n     <g id=\"text_9\">\n      <!-- −5 -->\n      <g transform=\"translate(27.240625 192.773344) scale(0.1 -0.1)\">\n       <use xlink:href=\"#DejaVuSans-2212\"/>\n       <use xlink:href=\"#DejaVuSans-35\" x=\"83.789062\"/>\n      </g>\n     </g>\n    </g>\n    <g id=\"ytick_4\">\n     <g id=\"line2d_9\">\n      <g>\n       <use xlink:href=\"#me8f0f6adaf\" x=\"48.982813\" y=\"155.374125\" style=\"stroke: #000000; stroke-width: 0.8\"/>\n      </g>\n     </g>\n     <g id=\"text_10\">\n      <!-- 0 -->\n      <g transform=\"translate(35.620313 159.173344) scale(0.1 -0.1)\">\n       <use xlink:href=\"#DejaVuSans-30\"/>\n      </g>\n     </g>\n    </g>\n    <g id=\"ytick_5\">\n     <g id=\"line2d_10\">\n      <g>\n       <use xlink:href=\"#me8f0f6adaf\" x=\"48.982813\" y=\"121.774125\" style=\"stroke: #000000; stroke-width: 0.8\"/>\n      </g>\n     </g>\n     <g id=\"text_11\">\n      <!-- 5 -->\n      <g transform=\"translate(35.620313 125.573344) scale(0.1 -0.1)\">\n       <use xlink:href=\"#DejaVuSans-35\"/>\n      </g>\n     </g>\n    </g>\n    <g id=\"ytick_6\">\n     <g id=\"line2d_11\">\n      <g>\n       <use xlink:href=\"#me8f0f6adaf\" x=\"48.982813\" y=\"88.174125\" style=\"stroke: #000000; stroke-width: 0.8\"/>\n      </g>\n     </g>\n     <g id=\"text_12\">\n      <!-- 10 -->\n      <g transform=\"translate(29.257813 91.973344) scale(0.1 -0.1)\">\n       <use xlink:href=\"#DejaVuSans-31\"/>\n       <use xlink:href=\"#DejaVuSans-30\" x=\"63.623047\"/>\n      </g>\n     </g>\n    </g>\n    <g id=\"ytick_7\">\n     <g id=\"line2d_12\">\n      <g>\n       <use xlink:href=\"#me8f0f6adaf\" x=\"48.982813\" y=\"54.574125\" style=\"stroke: #000000; stroke-width: 0.8\"/>\n      </g>\n     </g>\n     <g id=\"text_13\">\n      <!-- 15 -->\n      <g transform=\"translate(29.257813 58.373344) scale(0.1 -0.1)\">\n       <use xlink:href=\"#DejaVuSans-31\"/>\n       <use xlink:href=\"#DejaVuSans-35\" x=\"63.623047\"/>\n      </g>\n     </g>\n    </g>\n    <g id=\"text_14\">\n     <!-- Energy -->\n     <g transform=\"translate(14.798438 172.880375) rotate(-90) scale(0.1 -0.1)\">\n      <defs>\n       <path id=\"DejaVuSans-45\" d=\"M 628 4666 \nL 3578 4666 \nL 3578 4134 \nL 1259 4134 \nL 1259 2753 \nL 3481 2753 \nL 3481 2222 \nL 1259 2222 \nL 1259 531 \nL 3634 531 \nL 3634 0 \nL 628 0 \nL 628 4666 \nz\n\" transform=\"scale(0.015625)\"/>\n       <path id=\"DejaVuSans-72\" d=\"M 2631 2963 \nQ 2534 3019 2420 3045 \nQ 2306 3072 2169 3072 \nQ 1681 3072 1420 2755 \nQ 1159 2438 1159 1844 \nL 1159 0 \nL 581 0 \nL 581 3500 \nL 1159 3500 \nL 1159 2956 \nQ 1341 3275 1631 3429 \nQ 1922 3584 2338 3584 \nQ 2397 3584 2469 3576 \nQ 2541 3569 2628 3553 \nL 2631 2963 \nz\n\" transform=\"scale(0.015625)\"/>\n       <path id=\"DejaVuSans-67\" d=\"M 2906 1791 \nQ 2906 2416 2648 2759 \nQ 2391 3103 1925 3103 \nQ 1463 3103 1205 2759 \nQ 947 2416 947 1791 \nQ 947 1169 1205 825 \nQ 1463 481 1925 481 \nQ 2391 481 2648 825 \nQ 2906 1169 2906 1791 \nz\nM 3481 434 \nQ 3481 -459 3084 -895 \nQ 2688 -1331 1869 -1331 \nQ 1566 -1331 1297 -1286 \nQ 1028 -1241 775 -1147 \nL 775 -588 \nQ 1028 -725 1275 -790 \nQ 1522 -856 1778 -856 \nQ 2344 -856 2625 -561 \nQ 2906 -266 2906 331 \nL 2906 616 \nQ 2728 306 2450 153 \nQ 2172 0 1784 0 \nQ 1141 0 747 490 \nQ 353 981 353 1791 \nQ 353 2603 747 3093 \nQ 1141 3584 1784 3584 \nQ 2172 3584 2450 3431 \nQ 2728 3278 2906 2969 \nL 2906 3500 \nL 3481 3500 \nL 3481 434 \nz\n\" transform=\"scale(0.015625)\"/>\n       <path id=\"DejaVuSans-79\" d=\"M 2059 -325 \nQ 1816 -950 1584 -1140 \nQ 1353 -1331 966 -1331 \nL 506 -1331 \nL 506 -850 \nL 844 -850 \nQ 1081 -850 1212 -737 \nQ 1344 -625 1503 -206 \nL 1606 56 \nL 191 3500 \nL 800 3500 \nL 1894 763 \nL 2988 3500 \nL 3597 3500 \nL 2059 -325 \nz\n\" transform=\"scale(0.015625)\"/>\n      </defs>\n      <use xlink:href=\"#DejaVuSans-45\"/>\n      <use xlink:href=\"#DejaVuSans-6e\" x=\"63.183594\"/>\n      <use xlink:href=\"#DejaVuSans-65\" x=\"126.5625\"/>\n      <use xlink:href=\"#DejaVuSans-72\" x=\"188.085938\"/>\n      <use xlink:href=\"#DejaVuSans-67\" x=\"227.449219\"/>\n      <use xlink:href=\"#DejaVuSans-79\" x=\"290.925781\"/>\n     </g>\n    </g>\n   </g>\n   <g id=\"line2d_13\">\n    <path d=\"M 65.21554 276.334125 \nL 65.29482 276.334125 \nL 65.453382 269.354214 \nL 66.008347 269.243779 \nL 66.166908 269.141081 \nL 66.484031 269.141081 \nL 66.642593 268.33594 \nL 66.721873 268.33594 \nL 66.880435 267.79495 \nL 66.959716 267.79495 \nL 67.197558 264.98883 \nL 67.356119 264.98883 \nL 67.514681 264.744814 \nL 67.831804 264.744814 \nL 67.911084 264.412099 \nL 68.069646 263.171218 \nL 68.386769 263.171218 \nL 68.54533 260.568074 \nL 68.624611 260.568074 \nL 68.862453 258.396851 \nL 69.417418 258.310018 \nL 69.575979 257.295337 \nL 70.210225 257.295337 \nL 70.527348 255.684528 \nL 70.844471 255.684528 \nL 71.003032 255.385022 \nL 72.112962 255.3067 \nL 72.271524 254.901016 \nL 72.350805 254.901016 \nL 72.509366 253.938302 \nL 73.222892 253.874049 \nL 73.381454 253.222092 \nL 74.0157 253.222092 \nL 74.174261 252.734647 \nL 74.253542 252.734647 \nL 74.412103 252.53359 \nL 74.649945 252.53359 \nL 74.967068 249.30393 \nL 75.046349 249.30393 \nL 75.20491 248.651312 \nL 75.363472 248.429148 \nL 75.442753 248.429148 \nL 75.601314 248.237454 \nL 75.918437 248.237454 \nL 76.076998 247.407704 \nL 76.394121 247.407704 \nL 76.790525 244.029111 \nL 78.296858 243.986189 \nL 78.45542 243.428688 \nL 78.772543 243.428688 \nL 78.931104 243.143229 \nL 79.486069 243.062113 \nL 79.882473 241.603274 \nL 80.120315 241.603274 \nL 80.278876 240.925592 \nL 80.358157 240.925592 \nL 80.516719 240.105943 \nL 80.833841 240.105943 \nL 80.992403 239.612014 \nL 81.071684 239.612014 \nL 81.150964 239.498708 \nL 81.309526 238.883726 \nL 82.181614 238.859826 \nL 82.419456 235.374179 \nL 82.89514 235.374179 \nL 83.053702 234.376933 \nL 83.291544 234.376933 \nL 83.450105 234.163173 \nL 83.767228 234.163173 \nL 83.92579 233.375671 \nL 84.242912 233.375671 \nL 84.401474 233.061523 \nL 84.480755 233.061523 \nL 84.639316 230.38358 \nL 84.797877 230.38358 \nL 84.956439 230.169203 \nL 85.03572 230.169203 \nL 85.273562 229.58805 \nL 85.432123 229.58805 \nL 85.511404 229.467523 \nL 85.669965 229.034336 \nL 85.749246 229.034336 \nL 85.907808 228.868625 \nL 86.542053 228.868625 \nL 86.700615 228.493752 \nL 87.810545 228.480558 \nL 87.969106 228.059203 \nL 88.524071 228.014112 \nL 88.682633 227.823703 \nL 88.761913 227.823703 \nL 88.920475 227.57522 \nL 89.158317 227.57522 \nL 89.316878 227.357196 \nL 89.951124 227.357196 \nL 90.109686 227.056094 \nL 90.347528 227.056094 \nL 90.506089 226.693131 \nL 91.140335 226.693131 \nL 91.298896 226.500266 \nL 91.616019 226.500266 \nL 91.774581 225.66178 \nL 92.012423 225.66178 \nL 92.170984 225.51633 \nL 92.329546 224.886197 \nL 92.408826 224.886197 \nL 92.567388 224.570722 \nL 92.80523 224.570722 \nL 92.963792 224.133479 \nL 94.390844 224.037921 \nL 94.94581 223.671746 \nL 95.104371 223.671746 \nL 95.262932 222.971781 \nL 95.500775 222.971781 \nL 95.659336 221.526589 \nL 95.976459 221.526589 \nL 96.214301 220.910911 \nL 96.531424 220.910911 \nL 96.689985 220.377375 \nL 97.324231 220.377375 \nL 97.482793 219.774661 \nL 98.037758 219.675161 \nL 98.196319 219.137624 \nL 99.147688 219.137624 \nL 99.306249 218.980301 \nL 101.288267 218.921499 \nL 101.446828 218.857724 \nL 101.60539 218.203585 \nL 101.922513 218.203585 \nL 102.081074 217.411995 \nL 103.191004 217.342667 \nL 103.349566 217.248997 \nL 103.82525 217.220684 \nL 103.983812 216.796546 \nL 104.063092 216.796546 \nL 104.221654 216.210399 \nL 104.697338 216.108722 \nL 104.855899 215.736058 \nL 105.490145 215.736058 \nL 105.727987 214.759007 \nL 106.124391 214.759007 \nL 106.362233 214.340941 \nL 106.679356 214.340941 \nL 106.837917 214.21677 \nL 106.917198 214.21677 \nL 107.07576 214.085466 \nL 107.313602 214.085466 \nL 107.472163 213.873969 \nL 107.789286 213.873969 \nL 107.947847 213.677216 \nL 108.502813 213.663946 \nL 108.740655 213.168607 \nL 108.978497 213.168607 \nL 109.216339 212.633103 \nL 109.3749 212.633103 \nL 109.533462 212.481575 \nL 110.40555 212.429645 \nL 110.564111 212.304126 \nL 110.881234 212.304126 \nL 111.039796 211.920936 \nL 111.119076 211.920936 \nL 111.277638 211.643322 \nL 111.911883 211.635748 \nL 112.070445 211.429311 \nL 112.229006 210.672962 \nL 112.942533 210.621613 \nL 113.101094 210.423108 \nL 113.73534 210.423108 \nL 113.893901 209.848124 \nL 113.973182 209.848124 \nL 114.131744 209.48599 \nL 114.211024 209.48599 \nL 114.369586 209.26598 \nL 114.528147 208.391685 \nL 114.765989 208.391685 \nL 114.924551 207.687082 \nL 115.241674 207.687082 \nL 115.400235 207.046848 \nL 116.589446 206.941217 \nL 116.748007 206.695316 \nL 117.699376 206.695316 \nL 117.937218 206.214469 \nL 119.364271 206.131501 \nL 119.522832 205.023439 \nL 120.236359 204.915968 \nL 120.39492 204.813396 \nL 120.632763 204.813396 \nL 120.791324 204.464458 \nL 121.42557 204.464458 \nL 121.50485 204.338908 \nL 121.663412 203.631739 \nL 122.218377 203.615648 \nL 122.376938 203.285174 \nL 122.614781 203.285174 \nL 122.773342 203.151904 \nL 123.962553 203.133934 \nL 124.200395 202.54308 \nL 124.358956 201.361012 \nL 124.596799 201.283345 \nL 124.834641 201.225864 \nL 125.389606 201.135857 \nL 125.548167 201.055551 \nL 126.340974 200.999818 \nL 126.895939 200.681309 \nL 127.133782 200.681309 \nL 127.292343 200.428785 \nL 128.164431 200.322152 \nL 128.322992 200.178377 \nL 129.591484 200.088713 \nL 129.829326 200.046184 \nL 130.146449 200.046184 \nL 130.542852 199.283708 \nL 131.811344 199.189042 \nL 131.969905 198.888573 \nL 132.128467 198.816621 \nL 132.287028 198.649204 \nL 132.921274 198.649204 \nL 133.079835 198.316036 \nL 133.714081 198.316036 \nL 133.872643 197.974599 \nL 133.951923 197.974599 \nL 134.110485 197.545705 \nL 135.220415 197.449912 \nL 135.378976 196.189019 \nL 136.171784 196.085372 \nL 136.409626 196.070097 \nL 136.568187 195.694125 \nL 136.806029 195.694125 \nL 136.964591 195.221164 \nL 137.202433 195.221164 \nL 137.360994 194.578913 \nL 137.440275 194.578913 \nL 137.598836 194.437156 \nL 138.233082 194.437156 \nL 138.391644 194.145454 \nL 138.708767 194.145454 \nL 138.867328 193.749776 \nL 139.501574 193.749776 \nL 139.660135 193.112952 \nL 139.977258 193.112952 \nL 140.135819 192.898032 \nL 140.770065 192.898032 \nL 140.928627 192.546937 \nL 141.166469 192.546937 \nL 141.32503 192.060284 \nL 141.562872 191.985346 \nL 141.721434 191.481292 \nL 142.910645 191.389578 \nL 143.069206 191.297292 \nL 143.307048 191.297292 \nL 143.46561 191.107206 \nL 144.813382 191.001702 \nL 145.130505 190.944188 \nL 146.081873 190.868626 \nL 146.240435 190.707716 \nL 147.191804 190.707716 \nL 147.350365 190.103473 \nL 148.301734 190.103473 \nL 148.460295 189.833287 \nL 148.856699 189.833287 \nL 149.01526 188.567514 \nL 149.332383 188.567514 \nL 149.490944 188.395438 \nL 150.12519 188.395438 \nL 150.283752 188.132949 \nL 150.363032 188.132949 \nL 150.521594 187.922933 \nL 150.917997 187.922933 \nL 151.076559 187.568822 \nL 151.314401 187.568822 \nL 151.472962 187.413574 \nL 154.009945 187.310561 \nL 154.802753 187.30143 \nL 154.961314 186.903879 \nL 155.912683 186.903879 \nL 156.071244 186.752928 \nL 156.864051 186.656465 \nL 157.022613 185.753724 \nL 158.053262 185.668778 \nL 158.291104 185.596019 \nL 159.163192 185.596019 \nL 159.401034 185.149631 \nL 160.03528 185.149631 \nL 160.193841 185.004157 \nL 161.065929 184.986645 \nL 161.224491 184.330576 \nL 161.541614 184.330576 \nL 161.700175 184.067192 \nL 162.968667 183.956882 \nL 163.127228 183.795861 \nL 164.078597 183.795861 \nL 164.237158 183.228755 \nL 164.871404 183.228755 \nL 165.029965 182.452638 \nL 165.347088 182.452638 \nL 165.664211 181.993971 \nL 166.219176 181.993971 \nL 166.377738 181.770062 \nL 166.69486 181.769617 \nL 166.853422 181.302395 \nL 167.091264 181.302395 \nL 167.408387 180.444668 \nL 167.804791 180.444668 \nL 167.963352 179.935733 \nL 168.121913 179.843677 \nL 168.676878 179.792146 \nL 168.83544 179.440874 \nL 169.707528 179.399045 \nL 169.866089 179.086205 \nL 170.976019 178.988473 \nL 171.134581 178.909234 \nL 171.610265 178.807348 \nL 171.848107 178.251291 \nL 172.958037 178.206567 \nL 173.116599 178.089513 \nL 174.622932 177.984031 \nL 174.860775 177.92033 \nL 175.019336 177.02878 \nL 175.574301 176.96898 \nL 175.732862 176.740359 \nL 176.049985 176.665069 \nL 176.208547 176.289359 \nL 176.60495 176.289359 \nL 176.763512 175.146962 \nL 176.842793 175.146962 \nL 177.001354 174.987618 \nL 177.397758 174.987618 \nL 177.556319 174.795931 \nL 177.873442 174.795931 \nL 178.032003 174.434755 \nL 180.093302 174.388992 \nL 180.251863 174.154999 \nL 181.758197 174.063831 \nL 181.916759 173.931283 \nL 182.233881 173.931283 \nL 182.392443 173.755381 \nL 183.423092 173.677148 \nL 183.581654 173.498869 \nL 183.819496 173.498869 \nL 183.978057 172.910534 \nL 184.215899 172.910534 \nL 184.374461 172.765292 \nL 184.612303 172.765292 \nL 184.770864 172.355459 \nL 185.325829 172.244983 \nL 185.484391 172.15948 \nL 185.880795 172.15948 \nL 186.039356 171.6489 \nL 187.54569 171.582582 \nL 187.704251 171.343941 \nL 188.65562 171.343941 \nL 188.814181 170.952388 \nL 189.131304 170.952388 \nL 189.289865 170.69912 \nL 189.924111 170.69912 \nL 190.082673 170.333301 \nL 190.954761 170.331239 \nL 191.113322 169.861091 \nL 191.430445 169.821833 \nL 192.223252 169.747751 \nL 192.381813 169.580558 \nL 192.619656 169.580558 \nL 192.778217 169.25434 \nL 193.09534 169.25434 \nL 193.253901 169.135178 \nL 194.680954 169.108238 \nL 194.839516 168.901184 \nL 195.711604 168.814125 \nL 195.870165 168.495828 \nL 195.949446 168.495828 \nL 196.187288 168.133943 \nL 197.693622 168.056502 \nL 197.852183 167.697051 \nL 199.120675 167.697051 \nL 199.279236 167.107021 \nL 200.151324 167.038339 \nL 200.309885 166.930694 \nL 201.023412 166.883418 \nL 201.181973 166.299025 \nL 202.212623 166.18799 \nL 202.450465 166.145615 \nL 203.163991 166.069507 \nL 203.322553 165.928141 \nL 203.639676 165.928141 \nL 203.798237 165.559294 \nL 204.036079 165.488714 \nL 204.194641 165.25336 \nL 206.493782 165.157806 \nL 206.731624 165.104837 \nL 207.365869 165.037049 \nL 207.524431 164.821249 \nL 207.841554 164.821249 \nL 208.000115 164.580022 \nL 208.634361 164.580022 \nL 208.792922 163.775963 \nL 208.951484 163.52006 \nL 210.69566 163.417428 \nL 210.933502 162.777243 \nL 211.171344 162.777243 \nL 211.329905 162.528088 \nL 212.201993 162.440727 \nL 212.360555 162.055542 \nL 212.91552 162.052535 \nL 213.074081 161.601074 \nL 214.580415 161.495283 \nL 215.13538 161.477714 \nL 215.373222 161.477714 \nL 215.531784 161.301361 \nL 215.611064 161.301361 \nL 215.769626 160.633079 \nL 216.403871 160.633079 \nL 216.562433 160.427206 \nL 216.641714 160.427206 \nL 216.800275 160.278152 \nL 217.434521 160.278152 \nL 217.593082 159.900999 \nL 217.672363 159.900999 \nL 217.830924 159.530591 \nL 217.910205 159.530591 \nL 218.068767 159.16474 \nL 219.495819 159.053864 \nL 219.654381 158.790745 \nL 220.68503 158.691097 \nL 220.843592 158.513381 \nL 221.557118 158.45289 \nL 221.71568 157.843252 \nL 223.459855 157.814995 \nL 223.618417 157.517112 \nL 224.649066 157.448656 \nL 224.807628 157.269011 \nL 226.076119 157.269011 \nL 226.234681 157.128818 \nL 226.472523 157.128818 \nL 226.631084 156.701703 \nL 227.820295 156.640386 \nL 227.978856 156.499433 \nL 228.613102 156.435443 \nL 228.771664 156.22951 \nL 228.930225 154.997303 \nL 229.643752 154.957808 \nL 229.802313 154.119449 \nL 231.070805 154.022456 \nL 231.229366 153.781131 \nL 231.546489 153.781131 \nL 231.70505 153.339038 \nL 231.942892 153.339038 \nL 232.101454 152.911345 \nL 233.528507 152.806151 \nL 233.687068 152.700749 \nL 234.717718 152.684579 \nL 234.876279 152.316785 \nL 235.193402 152.316785 \nL 235.351963 152.144058 \nL 236.303332 152.144058 \nL 236.461893 151.915355 \nL 236.541174 151.915355 \nL 236.699736 151.597576 \nL 237.333981 151.597576 \nL 237.492543 150.646291 \nL 238.364631 150.596576 \nL 238.523192 150.3554 \nL 238.602473 150.3554 \nL 238.761034 149.885272 \nL 239.712403 149.813079 \nL 239.870964 149.698089 \nL 241.535859 149.656242 \nL 241.694421 149.488241 \nL 242.566509 149.46945 \nL 242.72507 149.081874 \nL 243.676439 149.081874 \nL 243.914281 148.276553 \nL 244.627808 148.182312 \nL 244.786369 147.765884 \nL 245.896299 147.694539 \nL 246.05486 147.340235 \nL 246.689106 147.321742 \nL 246.847668 147.183226 \nL 247.481913 147.183226 \nL 247.640475 146.99306 \nL 248.036878 146.99306 \nL 248.274721 146.791329 \nL 249.146809 146.748917 \nL 249.30537 146.646249 \nL 250.256739 146.646249 \nL 250.4153 146.394557 \nL 251.128826 146.289617 \nL 251.287388 145.682078 \nL 252.476599 145.63161 \nL 252.63516 145.476141 \nL 253.190125 145.476141 \nL 253.348687 144.521411 \nL 253.74509 144.521411 \nL 253.903652 143.951921 \nL 256.599196 143.899573 \nL 256.757758 143.236528 \nL 257.471284 143.236528 \nL 257.629845 142.924129 \nL 257.946968 142.924129 \nL 258.10553 142.810939 \nL 258.422653 142.810939 \nL 258.581214 142.139597 \nL 259.611863 142.126182 \nL 259.770425 141.993475 \nL 260.721794 141.993475 \nL 260.880355 141.776522 \nL 260.959636 141.776522 \nL 261.118197 141.59192 \nL 261.752443 141.59192 \nL 261.911004 141.091838 \nL 262.069566 140.826956 \nL 262.624531 140.826956 \nL 262.783092 140.700432 \nL 263.100215 140.700432 \nL 263.258777 140.393608 \nL 264.606549 140.320028 \nL 264.76511 140.008471 \nL 264.844391 140.008471 \nL 265.002952 139.857996 \nL 266.509286 139.765173 \nL 266.667847 139.46943 \nL 267.064251 139.46943 \nL 267.222813 138.796769 \nL 268.570585 138.699944 \nL 268.808427 138.656774 \nL 268.966988 138.656774 \nL 269.12555 138.432242 \nL 270.473322 138.332888 \nL 270.631883 138.007304 \nL 270.869726 138.007304 \nL 271.028287 137.697832 \nL 272.217498 137.626556 \nL 272.613901 136.84544 \nL 273.248147 136.771908 \nL 273.406709 136.45739 \nL 273.485989 136.45739 \nL 273.644551 136.06921 \nL 273.961674 136.06921 \nL 274.120235 135.884644 \nL 274.754481 135.884644 \nL 274.913042 134.5704 \nL 275.309446 134.5704 \nL 275.468007 134.264777 \nL 275.705849 134.264777 \nL 275.864411 134.140625 \nL 276.577937 134.127572 \nL 276.736499 133.93084 \nL 276.974341 133.93084 \nL 277.132902 133.719499 \nL 277.212183 133.719499 \nL 277.370745 133.582841 \nL 278.00499 133.582841 \nL 278.163552 133.155502 \nL 279.907728 133.118448 \nL 280.066289 132.990794 \nL 281.017658 132.990794 \nL 281.176219 132.766021 \nL 281.889746 132.721141 \nL 282.048307 132.197492 \nL 282.999676 132.197492 \nL 283.158237 131.77661 \nL 283.47536 131.77661 \nL 283.633921 131.303969 \nL 284.902413 131.255771 \nL 285.060974 130.552889 \nL 285.378097 130.552889 \nL 285.536659 130.280988 \nL 286.80515 130.280988 \nL 286.963712 129.801411 \nL 287.201554 129.770802 \nL 287.360115 128.858842 \nL 288.232203 128.808978 \nL 288.390765 128.687695 \nL 289.421414 128.668207 \nL 289.579975 127.436452 \nL 290.05566 127.436452 \nL 290.214221 127.315179 \nL 291.086309 127.313684 \nL 291.24487 127.090055 \nL 292.989046 127.036399 \nL 293.147608 126.890303 \nL 293.781853 126.890303 \nL 293.940415 126.769806 \nL 295.288187 126.713471 \nL 295.446749 126.514225 \nL 297.111644 126.412281 \nL 297.270205 125.802829 \nL 297.508047 125.802829 \nL 297.666609 125.5226 \nL 298.9351 125.5226 \nL 299.093662 124.889335 \nL 299.252223 124.788967 \nL 299.331504 124.788967 \nL 299.490065 124.55518 \nL 300.124311 124.55518 \nL 300.282872 124.246676 \nL 301.234241 124.246676 \nL 301.392803 122.992322 \nL 301.472083 122.992322 \nL 301.789206 122.283132 \nL 302.740575 122.283132 \nL 302.899136 121.934727 \nL 303.216259 121.934727 \nL 303.37482 121.7969 \nL 304.564031 121.747898 \nL 304.722593 121.133157 \nL 305.356838 121.133157 \nL 305.5154 121.016404 \nL 305.594681 121.016404 \nL 305.753242 120.786114 \nL 306.070365 120.786114 \nL 306.228926 120.249674 \nL 307.418137 120.155824 \nL 307.576699 119.675407 \nL 307.655979 119.675407 \nL 307.814541 119.377366 \nL 308.448787 119.377366 \nL 308.686629 119.051312 \nL 309.320874 118.949805 \nL 309.479436 118.861067 \nL 309.717278 118.861067 \nL 309.875839 117.63707 \nL 310.510085 117.63707 \nL 310.668647 117.489645 \nL 311.620015 117.489645 \nL 311.778577 116.877393 \nL 312.0957 116.877393 \nL 312.254261 116.216395 \nL 312.571384 116.216395 \nL 312.729945 115.557914 \nL 312.809226 115.557914 \nL 312.967788 115.054125 \nL 320.658017 115.054125 \nL 320.816579 114.856251 \nL 321.767947 114.856251 \nL 321.926509 114.50961 \nL 322.560755 114.50961 \nL 322.719316 114.396243 \nL 323.11572 114.396243 \nL 323.274281 114.033006 \nL 323.512123 114.033006 \nL 323.670685 113.519434 \nL 323.749965 113.519434 \nL 323.908527 113.149087 \nL 325.097738 113.112957 \nL 325.256299 112.984903 \nL 327.000475 112.914562 \nL 327.396878 111.847548 \nL 328.189686 111.779091 \nL 328.348247 111.677137 \nL 328.744651 111.677137 \nL 328.903212 110.489064 \nL 328.982493 110.489064 \nL 329.141054 109.562151 \nL 329.616739 109.47443 \nL 329.7753 108.53241 \nL 330.171704 108.53241 \nL 330.330265 107.715245 \nL 331.99516 107.695195 \nL 332.153722 107.430619 \nL 332.391564 107.430619 \nL 332.550125 107.249652 \nL 333.501494 107.249652 \nL 333.660055 107.001062 \nL 334.611424 107.001062 \nL 334.769985 106.807382 \nL 335.087108 106.807382 \nL 335.32495 105.866987 \nL 335.404231 105.866987 \nL 335.562793 105.68343 \nL 337.148407 105.68343 \nL 337.306968 105.087815 \nL 337.941214 105.087815 \nL 338.099776 104.898322 \nL 338.734021 104.861821 \nL 338.892583 104.555868 \nL 338.971863 104.555868 \nL 339.130425 103.340517 \nL 340.081794 103.340517 \nL 340.240355 103.225009 \nL 340.478197 103.225009 \nL 340.636759 102.400466 \nL 342.380934 102.367491 \nL 342.539496 101.42981 \nL 342.698057 101.067313 \nL 343.094461 101.067313 \nL 343.253022 100.824999 \nL 344.521514 100.824999 \nL 344.680075 100.406919 \nL 345.314321 100.406919 \nL 345.472882 99.90155 \nL 345.869286 99.90155 \nL 346.027847 99.350965 \nL 346.979216 99.350965 \nL 347.137778 98.87743 \nL 347.692743 98.87743 \nL 347.851304 98.146916 \nL 348.48555 98.146916 \nL 348.644111 96.546942 \nL 349.278357 96.546942 \nL 349.436918 95.858373 \nL 349.833322 95.858373 \nL 349.991883 94.511831 \nL 351.181094 94.487361 \nL 351.339656 94.291334 \nL 351.973901 94.291334 \nL 352.132463 92.925434 \nL 352.528866 92.925434 \nL 352.687428 92.308361 \nL 354.748727 92.24343 \nL 354.907288 92.031467 \nL 356.017218 91.965945 \nL 356.17578 91.775362 \nL 356.730745 91.775362 \nL 356.810025 90.868996 \nL 356.968587 88.174125 \nL 357.682113 88.174125 \nL 357.840675 87.340565 \nL 359.109166 87.340565 \nL 359.267728 86.700627 \nL 360.060535 86.653805 \nL 360.219096 86.471738 \nL 360.456938 86.471738 \nL 360.6155 85.941214 \nL 360.853342 85.941214 \nL 361.011903 85.787444 \nL 362.201114 85.7297 \nL 362.359676 85.622434 \nL 362.993921 85.622434 \nL 363.152483 84.039071 \nL 363.707448 84.039071 \nL 363.94529 82.534926 \nL 364.975939 82.534926 \nL 365.134501 81.743234 \nL 365.530904 81.743234 \nL 365.689466 81.338842 \nL 365.768747 81.338842 \nL 365.927308 80.822498 \nL 366.878677 80.822498 \nL 367.037238 80.233193 \nL 368.30573 80.233193 \nL 368.464291 79.688292 \nL 368.543572 79.688292 \nL 368.702133 79.330137 \nL 369.098537 79.330137 \nL 369.257098 78.796876 \nL 369.49494 78.796876 \nL 369.653502 77.426159 \nL 370.049905 77.426159 \nL 370.208467 76.564671 \nL 371.159835 76.564671 \nL 371.318397 74.540538 \nL 371.952643 74.540538 \nL 372.111204 71.970258 \nL 373.379696 71.970258 \nL 373.538257 71.746986 \nL 373.776099 71.746986 \nL 373.934661 69.193539 \nL 374.568906 69.193539 \nL 374.727468 69.036562 \nL 375.995959 69.036562 \nL 376.154521 68.816206 \nL 377.105889 68.816206 \nL 377.264451 67.907912 \nL 377.819416 67.907912 \nL 377.977977 66.59089 \nL 378.057258 66.59089 \nL 378.215819 65.941037 \nL 379.167188 65.941037 \nL 379.32575 64.310745 \nL 379.642872 64.310745 \nL 379.722153 64.159942 \nL 379.880715 63.001229 \nL 380.43568 63.001229 \nL 380.594241 62.294443 \nL 381.228487 62.294443 \nL 381.387048 61.294125 \nL 382.100575 61.294125 \nL 382.259136 58.227514 \nL 382.65554 58.227514 \nL 382.814101 57.930595 \nL 383.210505 57.930595 \nL 383.369066 57.22482 \nL 384.954681 57.22482 \nL 385.113242 55.504441 \nL 385.668207 55.504441 \nL 385.826769 51.794638 \nL 387.09526 51.794638 \nL 387.253821 43.78482 \nL 388.839436 43.78482 \nL 388.997997 34.414125 \nL 389.870085 34.414125 \nL 389.870085 34.414125 \n\" clip-path=\"url(#p62f5359991)\" style=\"fill: none; stroke: #1f77b4; stroke-width: 1.5; stroke-linecap: square\"/>\n   </g>\n   <g id=\"line2d_14\">\n    <defs>\n     <path id=\"mcca42dc8a4\" d=\"M -3 3 \nL 3 -3 \nM -3 -3 \nL 3 3 \n\" style=\"stroke: #ff7f0e\"/>\n    </defs>\n    <g clip-path=\"url(#p62f5359991)\">\n     <use xlink:href=\"#mcca42dc8a4\" x=\"65.21554\" y=\"276.334125\" style=\"fill: #ff7f0e; stroke: #ff7f0e\"/>\n    </g>\n   </g>\n   <g id=\"line2d_15\">\n    <defs>\n     <path id=\"m750f8ae3c7\" d=\"M -3 3 \nL 3 -3 \nM -3 -3 \nL 3 3 \n\" style=\"stroke: #2ca02c\"/>\n    </defs>\n    <g clip-path=\"url(#p62f5359991)\">\n     <use xlink:href=\"#m750f8ae3c7\" x=\"389.870085\" y=\"34.414125\" style=\"fill: #2ca02c; stroke: #2ca02c\"/>\n    </g>\n   </g>\n   <g id=\"patch_3\">\n    <path d=\"M 48.982813 288.430125 \nL 48.982813 22.318125 \n\" style=\"fill: none; stroke: #000000; stroke-width: 0.8; stroke-linejoin: miter; stroke-linecap: square\"/>\n   </g>\n   <g id=\"patch_4\">\n    <path d=\"M 406.102813 288.430125 \nL 406.102813 22.318125 \n\" style=\"fill: none; stroke: #000000; stroke-width: 0.8; stroke-linejoin: miter; stroke-linecap: square\"/>\n   </g>\n   <g id=\"patch_5\">\n    <path d=\"M 48.982813 288.430125 \nL 406.102813 288.430125 \n\" style=\"fill: none; stroke: #000000; stroke-width: 0.8; stroke-linejoin: miter; stroke-linecap: square\"/>\n   </g>\n   <g id=\"patch_6\">\n    <path d=\"M 48.982813 22.318125 \nL 406.102813 22.318125 \n\" style=\"fill: none; stroke: #000000; stroke-width: 0.8; stroke-linejoin: miter; stroke-linecap: square\"/>\n   </g>\n   <g id=\"text_15\">\n    <!-- Hamiltonian Spectrum -->\n    <g transform=\"translate(160.221875 16.318125) scale(0.12 -0.12)\">\n     <defs>\n      <path id=\"DejaVuSans-48\" d=\"M 628 4666 \nL 1259 4666 \nL 1259 2753 \nL 3553 2753 \nL 3553 4666 \nL 4184 4666 \nL 4184 0 \nL 3553 0 \nL 3553 2222 \nL 1259 2222 \nL 1259 0 \nL 628 0 \nL 628 4666 \nz\n\" transform=\"scale(0.015625)\"/>\n      <path id=\"DejaVuSans-61\" d=\"M 2194 1759 \nQ 1497 1759 1228 1600 \nQ 959 1441 959 1056 \nQ 959 750 1161 570 \nQ 1363 391 1709 391 \nQ 2188 391 2477 730 \nQ 2766 1069 2766 1631 \nL 2766 1759 \nL 2194 1759 \nz\nM 3341 1997 \nL 3341 0 \nL 2766 0 \nL 2766 531 \nQ 2569 213 2275 61 \nQ 1981 -91 1556 -91 \nQ 1019 -91 701 211 \nQ 384 513 384 1019 \nQ 384 1609 779 1909 \nQ 1175 2209 1959 2209 \nL 2766 2209 \nL 2766 2266 \nQ 2766 2663 2505 2880 \nQ 2244 3097 1772 3097 \nQ 1472 3097 1187 3025 \nQ 903 2953 641 2809 \nL 641 3341 \nQ 956 3463 1253 3523 \nQ 1550 3584 1831 3584 \nQ 2591 3584 2966 3190 \nQ 3341 2797 3341 1997 \nz\n\" transform=\"scale(0.015625)\"/>\n      <path id=\"DejaVuSans-6d\" d=\"M 3328 2828 \nQ 3544 3216 3844 3400 \nQ 4144 3584 4550 3584 \nQ 5097 3584 5394 3201 \nQ 5691 2819 5691 2113 \nL 5691 0 \nL 5113 0 \nL 5113 2094 \nQ 5113 2597 4934 2840 \nQ 4756 3084 4391 3084 \nQ 3944 3084 3684 2787 \nQ 3425 2491 3425 1978 \nL 3425 0 \nL 2847 0 \nL 2847 2094 \nQ 2847 2600 2669 2842 \nQ 2491 3084 2119 3084 \nQ 1678 3084 1418 2786 \nQ 1159 2488 1159 1978 \nL 1159 0 \nL 581 0 \nL 581 3500 \nL 1159 3500 \nL 1159 2956 \nQ 1356 3278 1631 3431 \nQ 1906 3584 2284 3584 \nQ 2666 3584 2933 3390 \nQ 3200 3197 3328 2828 \nz\n\" transform=\"scale(0.015625)\"/>\n      <path id=\"DejaVuSans-69\" d=\"M 603 3500 \nL 1178 3500 \nL 1178 0 \nL 603 0 \nL 603 3500 \nz\nM 603 4863 \nL 1178 4863 \nL 1178 4134 \nL 603 4134 \nL 603 4863 \nz\n\" transform=\"scale(0.015625)\"/>\n      <path id=\"DejaVuSans-6c\" d=\"M 603 4863 \nL 1178 4863 \nL 1178 0 \nL 603 0 \nL 603 4863 \nz\n\" transform=\"scale(0.015625)\"/>\n      <path id=\"DejaVuSans-74\" d=\"M 1172 4494 \nL 1172 3500 \nL 2356 3500 \nL 2356 3053 \nL 1172 3053 \nL 1172 1153 \nQ 1172 725 1289 603 \nQ 1406 481 1766 481 \nL 2356 481 \nL 2356 0 \nL 1766 0 \nQ 1100 0 847 248 \nQ 594 497 594 1153 \nL 594 3053 \nL 172 3053 \nL 172 3500 \nL 594 3500 \nL 594 4494 \nL 1172 4494 \nz\n\" transform=\"scale(0.015625)\"/>\n      <path id=\"DejaVuSans-6f\" d=\"M 1959 3097 \nQ 1497 3097 1228 2736 \nQ 959 2375 959 1747 \nQ 959 1119 1226 758 \nQ 1494 397 1959 397 \nQ 2419 397 2687 759 \nQ 2956 1122 2956 1747 \nQ 2956 2369 2687 2733 \nQ 2419 3097 1959 3097 \nz\nM 1959 3584 \nQ 2709 3584 3137 3096 \nQ 3566 2609 3566 1747 \nQ 3566 888 3137 398 \nQ 2709 -91 1959 -91 \nQ 1206 -91 779 398 \nQ 353 888 353 1747 \nQ 353 2609 779 3096 \nQ 1206 3584 1959 3584 \nz\n\" transform=\"scale(0.015625)\"/>\n      <path id=\"DejaVuSans-20\" transform=\"scale(0.015625)\"/>\n      <path id=\"DejaVuSans-53\" d=\"M 3425 4513 \nL 3425 3897 \nQ 3066 4069 2747 4153 \nQ 2428 4238 2131 4238 \nQ 1616 4238 1336 4038 \nQ 1056 3838 1056 3469 \nQ 1056 3159 1242 3001 \nQ 1428 2844 1947 2747 \nL 2328 2669 \nQ 3034 2534 3370 2195 \nQ 3706 1856 3706 1288 \nQ 3706 609 3251 259 \nQ 2797 -91 1919 -91 \nQ 1588 -91 1214 -16 \nQ 841 59 441 206 \nL 441 856 \nQ 825 641 1194 531 \nQ 1563 422 1919 422 \nQ 2459 422 2753 634 \nQ 3047 847 3047 1241 \nQ 3047 1584 2836 1778 \nQ 2625 1972 2144 2069 \nL 1759 2144 \nQ 1053 2284 737 2584 \nQ 422 2884 422 3419 \nQ 422 4038 858 4394 \nQ 1294 4750 2059 4750 \nQ 2388 4750 2728 4690 \nQ 3069 4631 3425 4513 \nz\n\" transform=\"scale(0.015625)\"/>\n      <path id=\"DejaVuSans-70\" d=\"M 1159 525 \nL 1159 -1331 \nL 581 -1331 \nL 581 3500 \nL 1159 3500 \nL 1159 2969 \nQ 1341 3281 1617 3432 \nQ 1894 3584 2278 3584 \nQ 2916 3584 3314 3078 \nQ 3713 2572 3713 1747 \nQ 3713 922 3314 415 \nQ 2916 -91 2278 -91 \nQ 1894 -91 1617 61 \nQ 1341 213 1159 525 \nz\nM 3116 1747 \nQ 3116 2381 2855 2742 \nQ 2594 3103 2138 3103 \nQ 1681 3103 1420 2742 \nQ 1159 2381 1159 1747 \nQ 1159 1113 1420 752 \nQ 1681 391 2138 391 \nQ 2594 391 2855 752 \nQ 3116 1113 3116 1747 \nz\n\" transform=\"scale(0.015625)\"/>\n      <path id=\"DejaVuSans-63\" d=\"M 3122 3366 \nL 3122 2828 \nQ 2878 2963 2633 3030 \nQ 2388 3097 2138 3097 \nQ 1578 3097 1268 2742 \nQ 959 2388 959 1747 \nQ 959 1106 1268 751 \nQ 1578 397 2138 397 \nQ 2388 397 2633 464 \nQ 2878 531 3122 666 \nL 3122 134 \nQ 2881 22 2623 -34 \nQ 2366 -91 2075 -91 \nQ 1284 -91 818 406 \nQ 353 903 353 1747 \nQ 353 2603 823 3093 \nQ 1294 3584 2113 3584 \nQ 2378 3584 2631 3529 \nQ 2884 3475 3122 3366 \nz\n\" transform=\"scale(0.015625)\"/>\n      <path id=\"DejaVuSans-75\" d=\"M 544 1381 \nL 544 3500 \nL 1119 3500 \nL 1119 1403 \nQ 1119 906 1312 657 \nQ 1506 409 1894 409 \nQ 2359 409 2629 706 \nQ 2900 1003 2900 1516 \nL 2900 3500 \nL 3475 3500 \nL 3475 0 \nL 2900 0 \nL 2900 538 \nQ 2691 219 2414 64 \nQ 2138 -91 1772 -91 \nQ 1169 -91 856 284 \nQ 544 659 544 1381 \nz\nM 1991 3584 \nL 1991 3584 \nz\n\" transform=\"scale(0.015625)\"/>\n     </defs>\n     <use xlink:href=\"#DejaVuSans-48\"/>\n     <use xlink:href=\"#DejaVuSans-61\" x=\"75.195312\"/>\n     <use xlink:href=\"#DejaVuSans-6d\" x=\"136.474609\"/>\n     <use xlink:href=\"#DejaVuSans-69\" x=\"233.886719\"/>\n     <use xlink:href=\"#DejaVuSans-6c\" x=\"261.669922\"/>\n     <use xlink:href=\"#DejaVuSans-74\" x=\"289.453125\"/>\n     <use xlink:href=\"#DejaVuSans-6f\" x=\"328.662109\"/>\n     <use xlink:href=\"#DejaVuSans-6e\" x=\"389.84375\"/>\n     <use xlink:href=\"#DejaVuSans-69\" x=\"453.222656\"/>\n     <use xlink:href=\"#DejaVuSans-61\" x=\"481.005859\"/>\n     <use xlink:href=\"#DejaVuSans-6e\" x=\"542.285156\"/>\n     <use xlink:href=\"#DejaVuSans-20\" x=\"605.664062\"/>\n     <use xlink:href=\"#DejaVuSans-53\" x=\"637.451172\"/>\n     <use xlink:href=\"#DejaVuSans-70\" x=\"700.927734\"/>\n     <use xlink:href=\"#DejaVuSans-65\" x=\"764.404297\"/>\n     <use xlink:href=\"#DejaVuSans-63\" x=\"825.927734\"/>\n     <use xlink:href=\"#DejaVuSans-74\" x=\"880.908203\"/>\n     <use xlink:href=\"#DejaVuSans-72\" x=\"920.117188\"/>\n     <use xlink:href=\"#DejaVuSans-75\" x=\"961.230469\"/>\n     <use xlink:href=\"#DejaVuSans-6d\" x=\"1024.609375\"/>\n    </g>\n   </g>\n   <g id=\"legend_1\">\n    <g id=\"patch_7\">\n     <path d=\"M 55.982813 59.69625 \nL 213.982813 59.69625 \nQ 215.982813 59.69625 215.982813 57.69625 \nL 215.982813 29.318125 \nQ 215.982813 27.318125 213.982813 27.318125 \nL 55.982813 27.318125 \nQ 53.982813 27.318125 53.982813 29.318125 \nL 53.982813 57.69625 \nQ 53.982813 59.69625 55.982813 59.69625 \nz\n\" style=\"fill: #ffffff; opacity: 0.8; stroke: #cccccc; stroke-linejoin: miter\"/>\n    </g>\n    <g id=\"line2d_16\">\n     <g>\n      <use xlink:href=\"#mcca42dc8a4\" x=\"67.982813\" y=\"35.416562\" style=\"fill: #ff7f0e; stroke: #ff7f0e\"/>\n     </g>\n    </g>\n    <g id=\"text_16\">\n     <!-- Ground State ($E_0=-18$) -->\n     <g transform=\"translate(85.982813 38.916562) scale(0.1 -0.1)\">\n      <defs>\n       <path id=\"DejaVuSans-47\" d=\"M 3809 666 \nL 3809 1919 \nL 2778 1919 \nL 2778 2438 \nL 4434 2438 \nL 4434 434 \nQ 4069 175 3628 42 \nQ 3188 -91 2688 -91 \nQ 1594 -91 976 548 \nQ 359 1188 359 2328 \nQ 359 3472 976 4111 \nQ 1594 4750 2688 4750 \nQ 3144 4750 3555 4637 \nQ 3966 4525 4313 4306 \nL 4313 3634 \nQ 3963 3931 3569 4081 \nQ 3175 4231 2741 4231 \nQ 1884 4231 1454 3753 \nQ 1025 3275 1025 2328 \nQ 1025 1384 1454 906 \nQ 1884 428 2741 428 \nQ 3075 428 3337 486 \nQ 3600 544 3809 666 \nz\n\" transform=\"scale(0.015625)\"/>\n       <path id=\"DejaVuSans-28\" d=\"M 1984 4856 \nQ 1566 4138 1362 3434 \nQ 1159 2731 1159 2009 \nQ 1159 1288 1364 580 \nQ 1569 -128 1984 -844 \nL 1484 -844 \nQ 1016 -109 783 600 \nQ 550 1309 550 2009 \nQ 550 2706 781 3412 \nQ 1013 4119 1484 4856 \nL 1984 4856 \nz\n\" transform=\"scale(0.015625)\"/>\n       <path id=\"DejaVuSans-Oblique-45\" d=\"M 1081 4666 \nL 4031 4666 \nL 3928 4134 \nL 1606 4134 \nL 1338 2753 \nL 3566 2753 \nL 3463 2222 \nL 1234 2222 \nL 909 531 \nL 3284 531 \nL 3181 0 \nL 172 0 \nL 1081 4666 \nz\n\" transform=\"scale(0.015625)\"/>\n       <path id=\"DejaVuSans-3d\" d=\"M 678 2906 \nL 4684 2906 \nL 4684 2381 \nL 678 2381 \nL 678 2906 \nz\nM 678 1631 \nL 4684 1631 \nL 4684 1100 \nL 678 1100 \nL 678 1631 \nz\n\" transform=\"scale(0.015625)\"/>\n       <path id=\"DejaVuSans-38\" d=\"M 2034 2216 \nQ 1584 2216 1326 1975 \nQ 1069 1734 1069 1313 \nQ 1069 891 1326 650 \nQ 1584 409 2034 409 \nQ 2484 409 2743 651 \nQ 3003 894 3003 1313 \nQ 3003 1734 2745 1975 \nQ 2488 2216 2034 2216 \nz\nM 1403 2484 \nQ 997 2584 770 2862 \nQ 544 3141 544 3541 \nQ 544 4100 942 4425 \nQ 1341 4750 2034 4750 \nQ 2731 4750 3128 4425 \nQ 3525 4100 3525 3541 \nQ 3525 3141 3298 2862 \nQ 3072 2584 2669 2484 \nQ 3125 2378 3379 2068 \nQ 3634 1759 3634 1313 \nQ 3634 634 3220 271 \nQ 2806 -91 2034 -91 \nQ 1263 -91 848 271 \nQ 434 634 434 1313 \nQ 434 1759 690 2068 \nQ 947 2378 1403 2484 \nz\nM 1172 3481 \nQ 1172 3119 1398 2916 \nQ 1625 2713 2034 2713 \nQ 2441 2713 2670 2916 \nQ 2900 3119 2900 3481 \nQ 2900 3844 2670 4047 \nQ 2441 4250 2034 4250 \nQ 1625 4250 1398 4047 \nQ 1172 3844 1172 3481 \nz\n\" transform=\"scale(0.015625)\"/>\n       <path id=\"DejaVuSans-29\" d=\"M 513 4856 \nL 1013 4856 \nQ 1481 4119 1714 3412 \nQ 1947 2706 1947 2009 \nQ 1947 1309 1714 600 \nQ 1481 -109 1013 -844 \nL 513 -844 \nQ 928 -128 1133 580 \nQ 1338 1288 1338 2009 \nQ 1338 2731 1133 3434 \nQ 928 4138 513 4856 \nz\n\" transform=\"scale(0.015625)\"/>\n      </defs>\n      <use xlink:href=\"#DejaVuSans-47\" transform=\"translate(0 0.015625)\"/>\n      <use xlink:href=\"#DejaVuSans-72\" transform=\"translate(77.490234 0.015625)\"/>\n      <use xlink:href=\"#DejaVuSans-6f\" transform=\"translate(118.603516 0.015625)\"/>\n      <use xlink:href=\"#DejaVuSans-75\" transform=\"translate(179.785156 0.015625)\"/>\n      <use xlink:href=\"#DejaVuSans-6e\" transform=\"translate(243.164062 0.015625)\"/>\n      <use xlink:href=\"#DejaVuSans-64\" transform=\"translate(306.542969 0.015625)\"/>\n      <use xlink:href=\"#DejaVuSans-20\" transform=\"translate(370.019531 0.015625)\"/>\n      <use xlink:href=\"#DejaVuSans-53\" transform=\"translate(401.806641 0.015625)\"/>\n      <use xlink:href=\"#DejaVuSans-74\" transform=\"translate(465.283203 0.015625)\"/>\n      <use xlink:href=\"#DejaVuSans-61\" transform=\"translate(504.492188 0.015625)\"/>\n      <use xlink:href=\"#DejaVuSans-74\" transform=\"translate(565.771484 0.015625)\"/>\n      <use xlink:href=\"#DejaVuSans-65\" transform=\"translate(604.980469 0.015625)\"/>\n      <use xlink:href=\"#DejaVuSans-20\" transform=\"translate(666.503906 0.015625)\"/>\n      <use xlink:href=\"#DejaVuSans-28\" transform=\"translate(698.291016 0.015625)\"/>\n      <use xlink:href=\"#DejaVuSans-Oblique-45\" transform=\"translate(737.304688 0.015625)\"/>\n      <use xlink:href=\"#DejaVuSans-30\" transform=\"translate(800.488281 -16.390625) scale(0.7)\"/>\n      <use xlink:href=\"#DejaVuSans-3d\" transform=\"translate(867.241211 0.015625)\"/>\n      <use xlink:href=\"#DejaVuSans-2212\" transform=\"translate(989.995117 0.015625)\"/>\n      <use xlink:href=\"#DejaVuSans-31\" transform=\"translate(1093.266602 0.015625)\"/>\n      <use xlink:href=\"#DejaVuSans-38\" transform=\"translate(1156.889648 0.015625)\"/>\n      <use xlink:href=\"#DejaVuSans-29\" transform=\"translate(1220.512695 0.015625)\"/>\n     </g>\n    </g>\n    <g id=\"line2d_17\">\n     <g>\n      <use xlink:href=\"#m750f8ae3c7\" x=\"67.982813\" y=\"50.09625\" style=\"fill: #2ca02c; stroke: #2ca02c\"/>\n     </g>\n    </g>\n    <g id=\"text_17\">\n     <!-- Ceiling State ($E_{4095}=18$) -->\n     <g transform=\"translate(85.982813 53.59625) scale(0.1 -0.1)\">\n      <defs>\n       <path id=\"DejaVuSans-43\" d=\"M 4122 4306 \nL 4122 3641 \nQ 3803 3938 3442 4084 \nQ 3081 4231 2675 4231 \nQ 1875 4231 1450 3742 \nQ 1025 3253 1025 2328 \nQ 1025 1406 1450 917 \nQ 1875 428 2675 428 \nQ 3081 428 3442 575 \nQ 3803 722 4122 1019 \nL 4122 359 \nQ 3791 134 3420 21 \nQ 3050 -91 2638 -91 \nQ 1578 -91 968 557 \nQ 359 1206 359 2328 \nQ 359 3453 968 4101 \nQ 1578 4750 2638 4750 \nQ 3056 4750 3426 4639 \nQ 3797 4528 4122 4306 \nz\n\" transform=\"scale(0.015625)\"/>\n       <path id=\"DejaVuSans-39\" d=\"M 703 97 \nL 703 672 \nQ 941 559 1184 500 \nQ 1428 441 1663 441 \nQ 2288 441 2617 861 \nQ 2947 1281 2994 2138 \nQ 2813 1869 2534 1725 \nQ 2256 1581 1919 1581 \nQ 1219 1581 811 2004 \nQ 403 2428 403 3163 \nQ 403 3881 828 4315 \nQ 1253 4750 1959 4750 \nQ 2769 4750 3195 4129 \nQ 3622 3509 3622 2328 \nQ 3622 1225 3098 567 \nQ 2575 -91 1691 -91 \nQ 1453 -91 1209 -44 \nQ 966 3 703 97 \nz\nM 1959 2075 \nQ 2384 2075 2632 2365 \nQ 2881 2656 2881 3163 \nQ 2881 3666 2632 3958 \nQ 2384 4250 1959 4250 \nQ 1534 4250 1286 3958 \nQ 1038 3666 1038 3163 \nQ 1038 2656 1286 2365 \nQ 1534 2075 1959 2075 \nz\n\" transform=\"scale(0.015625)\"/>\n      </defs>\n      <use xlink:href=\"#DejaVuSans-43\" transform=\"translate(0 0.015625)\"/>\n      <use xlink:href=\"#DejaVuSans-65\" transform=\"translate(69.824219 0.015625)\"/>\n      <use xlink:href=\"#DejaVuSans-69\" transform=\"translate(131.347656 0.015625)\"/>\n      <use xlink:href=\"#DejaVuSans-6c\" transform=\"translate(159.130859 0.015625)\"/>\n      <use xlink:href=\"#DejaVuSans-69\" transform=\"translate(186.914062 0.015625)\"/>\n      <use xlink:href=\"#DejaVuSans-6e\" transform=\"translate(214.697266 0.015625)\"/>\n      <use xlink:href=\"#DejaVuSans-67\" transform=\"translate(278.076172 0.015625)\"/>\n      <use xlink:href=\"#DejaVuSans-20\" transform=\"translate(341.552734 0.015625)\"/>\n      <use xlink:href=\"#DejaVuSans-53\" transform=\"translate(373.339844 0.015625)\"/>\n      <use xlink:href=\"#DejaVuSans-74\" transform=\"translate(436.816406 0.015625)\"/>\n      <use xlink:href=\"#DejaVuSans-61\" transform=\"translate(476.025391 0.015625)\"/>\n      <use xlink:href=\"#DejaVuSans-74\" transform=\"translate(537.304688 0.015625)\"/>\n      <use xlink:href=\"#DejaVuSans-65\" transform=\"translate(576.513672 0.015625)\"/>\n      <use xlink:href=\"#DejaVuSans-20\" transform=\"translate(638.037109 0.015625)\"/>\n      <use xlink:href=\"#DejaVuSans-28\" transform=\"translate(669.824219 0.015625)\"/>\n      <use xlink:href=\"#DejaVuSans-Oblique-45\" transform=\"translate(708.837891 0.015625)\"/>\n      <use xlink:href=\"#DejaVuSans-34\" transform=\"translate(772.021484 -16.390625) scale(0.7)\"/>\n      <use xlink:href=\"#DejaVuSans-30\" transform=\"translate(816.557617 -16.390625) scale(0.7)\"/>\n      <use xlink:href=\"#DejaVuSans-39\" transform=\"translate(861.09375 -16.390625) scale(0.7)\"/>\n      <use xlink:href=\"#DejaVuSans-35\" transform=\"translate(905.629883 -16.390625) scale(0.7)\"/>\n      <use xlink:href=\"#DejaVuSans-3d\" transform=\"translate(972.382812 0.015625)\"/>\n      <use xlink:href=\"#DejaVuSans-31\" transform=\"translate(1075.654297 0.015625)\"/>\n      <use xlink:href=\"#DejaVuSans-38\" transform=\"translate(1139.277344 0.015625)\"/>\n      <use xlink:href=\"#DejaVuSans-29\" transform=\"translate(1202.900391 0.015625)\"/>\n     </g>\n    </g>\n   </g>\n  </g>\n </g>\n <defs>\n  <clipPath id=\"p62f5359991\">\n   <rect x=\"48.982813\" y=\"22.318125\" width=\"357.12\" height=\"266.112\"/>\n  </clipPath>\n </defs>\n</svg>\n",
      "text/plain": [
       "<Figure size 640x480 with 1 Axes>"
      ]
     },
     "metadata": {},
     "output_type": "display_data"
    }
   ],
   "source": [
    "plt.plot(exact_result.eigenvalues)\n",
    "plt.plot(0, exact_result.eigenvalues[0], 'x', label=f\"Ground State ($E_0={exact_result.eigenvalues[0]:.0f}$)\")\n",
    "plt.plot(2**12-1, exact_result.eigenvalues[-1], 'x', label=f\"Ceiling State ($E_{{4095}}={exact_result.eigenvalues[-1]:.0f}$)\")\n",
    "plt.title(\"Hamiltonian Spectrum\")\n",
    "plt.xlabel(\"Index\")\n",
    "plt.ylabel(\"Energy\")\n",
    "plt.legend()\n",
    "plt.show()"
   ]
  },
  {
   "cell_type": "code",
   "execution_count": 94,
   "metadata": {},
   "outputs": [
    {
     "data": {
      "image/svg+xml": "<?xml version=\"1.0\" encoding=\"utf-8\" standalone=\"no\"?>\n<!DOCTYPE svg PUBLIC \"-//W3C//DTD SVG 1.1//EN\"\n  \"http://www.w3.org/Graphics/SVG/1.1/DTD/svg11.dtd\">\n<svg xmlns:xlink=\"http://www.w3.org/1999/xlink\" width=\"411.285625pt\" height=\"325.986375pt\" viewBox=\"0 0 411.285625 325.986375\" xmlns=\"http://www.w3.org/2000/svg\" version=\"1.1\">\n <metadata>\n  <rdf:RDF xmlns:dc=\"http://purl.org/dc/elements/1.1/\" xmlns:cc=\"http://creativecommons.org/ns#\" xmlns:rdf=\"http://www.w3.org/1999/02/22-rdf-syntax-ns#\">\n   <cc:Work>\n    <dc:type rdf:resource=\"http://purl.org/dc/dcmitype/StillImage\"/>\n    <dc:date>2023-02-11T10:00:08.921620</dc:date>\n    <dc:format>image/svg+xml</dc:format>\n    <dc:creator>\n     <cc:Agent>\n      <dc:title>Matplotlib v3.6.3, https://matplotlib.org/</dc:title>\n     </cc:Agent>\n    </dc:creator>\n   </cc:Work>\n  </rdf:RDF>\n </metadata>\n <defs>\n  <style type=\"text/css\">*{stroke-linejoin: round; stroke-linecap: butt}</style>\n </defs>\n <g id=\"figure_1\">\n  <g id=\"patch_1\">\n   <path d=\"M 0 325.986375 \nL 411.285625 325.986375 \nL 411.285625 0 \nL 0 0 \nz\n\" style=\"fill: #ffffff\"/>\n  </g>\n  <g id=\"axes_1\">\n   <g id=\"patch_2\">\n    <path d=\"M 46.965625 288.430125 \nL 404.085625 288.430125 \nL 404.085625 22.318125 \nL 46.965625 22.318125 \nz\n\" style=\"fill: #ffffff\"/>\n   </g>\n   <g id=\"PathCollection_1\">\n    <defs>\n     <path id=\"m4ea309c0db\" d=\"M 0 3 \nC 0.795609 3 1.55874 2.683901 2.12132 2.12132 \nC 2.683901 1.55874 3 0.795609 3 0 \nC 3 -0.795609 2.683901 -1.55874 2.12132 -2.12132 \nC 1.55874 -2.683901 0.795609 -3 0 -3 \nC -0.795609 -3 -1.55874 -2.683901 -2.12132 -2.12132 \nC -2.683901 -1.55874 -3 -0.795609 -3 0 \nC -3 0.795609 -2.683901 1.55874 -2.12132 2.12132 \nC -1.55874 2.683901 -0.795609 3 0 3 \nz\n\" style=\"stroke: #1f77b4\"/>\n    </defs>\n    <g clip-path=\"url(#p1b025159ef)\">\n     <use xlink:href=\"#m4ea309c0db\" x=\"63.198352\" y=\"34.414125\" style=\"fill: #1f77b4; stroke: #1f77b4\"/>\n     <use xlink:href=\"#m4ea309c0db\" x=\"63.277691\" y=\"34.414125\" style=\"fill: #1f77b4; stroke: #1f77b4\"/>\n     <use xlink:href=\"#m4ea309c0db\" x=\"251.310749\" y=\"185.372205\" style=\"fill: #1f77b4; stroke: #1f77b4\"/>\n     <use xlink:href=\"#m4ea309c0db\" x=\"268.606617\" y=\"208.596525\" style=\"fill: #1f77b4; stroke: #1f77b4\"/>\n     <use xlink:href=\"#m4ea309c0db\" x=\"315.01984\" y=\"266.657325\" style=\"fill: #1f77b4; stroke: #1f77b4\"/>\n     <use xlink:href=\"#m4ea309c0db\" x=\"333.902485\" y=\"255.045165\" style=\"fill: #1f77b4; stroke: #1f77b4\"/>\n     <use xlink:href=\"#m4ea309c0db\" x=\"334.537195\" y=\"135.052845\" style=\"fill: #1f77b4; stroke: #1f77b4\"/>\n     <use xlink:href=\"#m4ea309c0db\" x=\"336.203311\" y=\"185.372205\" style=\"fill: #1f77b4; stroke: #1f77b4\"/>\n     <use xlink:href=\"#m4ea309c0db\" x=\"351.674385\" y=\"258.915885\" style=\"fill: #1f77b4; stroke: #1f77b4\"/>\n     <use xlink:href=\"#m4ea309c0db\" x=\"354.371906\" y=\"208.596525\" style=\"fill: #1f77b4; stroke: #1f77b4\"/>\n     <use xlink:href=\"#m4ea309c0db\" x=\"355.641327\" y=\"255.045165\" style=\"fill: #1f77b4; stroke: #1f77b4\"/>\n     <use xlink:href=\"#m4ea309c0db\" x=\"355.720666\" y=\"255.045165\" style=\"fill: #1f77b4; stroke: #1f77b4\"/>\n     <use xlink:href=\"#m4ea309c0db\" x=\"375.396699\" y=\"185.372205\" style=\"fill: #1f77b4; stroke: #1f77b4\"/>\n     <use xlink:href=\"#m4ea309c0db\" x=\"375.872732\" y=\"185.372205\" style=\"fill: #1f77b4; stroke: #1f77b4\"/>\n     <use xlink:href=\"#m4ea309c0db\" x=\"378.570253\" y=\"185.372205\" style=\"fill: #1f77b4; stroke: #1f77b4\"/>\n     <use xlink:href=\"#m4ea309c0db\" x=\"379.601658\" y=\"196.984365\" style=\"fill: #1f77b4; stroke: #1f77b4\"/>\n     <use xlink:href=\"#m4ea309c0db\" x=\"379.680997\" y=\"185.372205\" style=\"fill: #1f77b4; stroke: #1f77b4\"/>\n     <use xlink:href=\"#m4ea309c0db\" x=\"380.315708\" y=\"266.657325\" style=\"fill: #1f77b4; stroke: #1f77b4\"/>\n     <use xlink:href=\"#m4ea309c0db\" x=\"381.664468\" y=\"255.045165\" style=\"fill: #1f77b4; stroke: #1f77b4\"/>\n     <use xlink:href=\"#m4ea309c0db\" x=\"381.823146\" y=\"135.052845\" style=\"fill: #1f77b4; stroke: #1f77b4\"/>\n     <use xlink:href=\"#m4ea309c0db\" x=\"381.981823\" y=\"255.045165\" style=\"fill: #1f77b4; stroke: #1f77b4\"/>\n     <use xlink:href=\"#m4ea309c0db\" x=\"382.933889\" y=\"255.045165\" style=\"fill: #1f77b4; stroke: #1f77b4\"/>\n     <use xlink:href=\"#m4ea309c0db\" x=\"383.330584\" y=\"150.535725\" style=\"fill: #1f77b4; stroke: #1f77b4\"/>\n     <use xlink:href=\"#m4ea309c0db\" x=\"384.361989\" y=\"150.535725\" style=\"fill: #1f77b4; stroke: #1f77b4\"/>\n     <use xlink:href=\"#m4ea309c0db\" x=\"384.441327\" y=\"115.699245\" style=\"fill: #1f77b4; stroke: #1f77b4\"/>\n     <use xlink:href=\"#m4ea309c0db\" x=\"385.63141\" y=\"255.045165\" style=\"fill: #1f77b4; stroke: #1f77b4\"/>\n     <use xlink:href=\"#m4ea309c0db\" x=\"385.948765\" y=\"258.915885\" style=\"fill: #1f77b4; stroke: #1f77b4\"/>\n     <use xlink:href=\"#m4ea309c0db\" x=\"386.107443\" y=\"162.147885\" style=\"fill: #1f77b4; stroke: #1f77b4\"/>\n     <use xlink:href=\"#m4ea309c0db\" x=\"386.662815\" y=\"162.147885\" style=\"fill: #1f77b4; stroke: #1f77b4\"/>\n     <use xlink:href=\"#m4ea309c0db\" x=\"386.900832\" y=\"255.045165\" style=\"fill: #1f77b4; stroke: #1f77b4\"/>\n     <use xlink:href=\"#m4ea309c0db\" x=\"387.376865\" y=\"255.045165\" style=\"fill: #1f77b4; stroke: #1f77b4\"/>\n     <use xlink:href=\"#m4ea309c0db\" x=\"387.535542\" y=\"276.334125\" style=\"fill: #1f77b4; stroke: #1f77b4\"/>\n     <use xlink:href=\"#m4ea309c0db\" x=\"387.69422\" y=\"276.334125\" style=\"fill: #1f77b4; stroke: #1f77b4\"/>\n     <use xlink:href=\"#m4ea309c0db\" x=\"387.773559\" y=\"255.045165\" style=\"fill: #1f77b4; stroke: #1f77b4\"/>\n     <use xlink:href=\"#m4ea309c0db\" x=\"387.852898\" y=\"150.535725\" style=\"fill: #1f77b4; stroke: #1f77b4\"/>\n    </g>\n   </g>\n   <g id=\"matplotlib.axis_1\">\n    <g id=\"xtick_1\">\n     <g id=\"line2d_1\">\n      <defs>\n       <path id=\"m67d4494aa3\" d=\"M 0 0 \nL 0 3.5 \n\" style=\"stroke: #000000; stroke-width: 0.8\"/>\n      </defs>\n      <g>\n       <use xlink:href=\"#m67d4494aa3\" x=\"63.198352\" y=\"288.430125\" style=\"stroke: #000000; stroke-width: 0.8\"/>\n      </g>\n     </g>\n     <g id=\"text_1\">\n      <!-- 0 -->\n      <g transform=\"translate(60.017102 303.028562) scale(0.1 -0.1)\">\n       <defs>\n        <path id=\"DejaVuSans-30\" d=\"M 2034 4250 \nQ 1547 4250 1301 3770 \nQ 1056 3291 1056 2328 \nQ 1056 1369 1301 889 \nQ 1547 409 2034 409 \nQ 2525 409 2770 889 \nQ 3016 1369 3016 2328 \nQ 3016 3291 2770 3770 \nQ 2525 4250 2034 4250 \nz\nM 2034 4750 \nQ 2819 4750 3233 4129 \nQ 3647 3509 3647 2328 \nQ 3647 1150 3233 529 \nQ 2819 -91 2034 -91 \nQ 1250 -91 836 529 \nQ 422 1150 422 2328 \nQ 422 3509 836 4129 \nQ 1250 4750 2034 4750 \nz\n\" transform=\"scale(0.015625)\"/>\n       </defs>\n       <use xlink:href=\"#DejaVuSans-30\"/>\n      </g>\n     </g>\n    </g>\n    <g id=\"xtick_2\">\n     <g id=\"line2d_2\">\n      <g>\n       <use xlink:href=\"#m67d4494aa3\" x=\"142.537195\" y=\"288.430125\" style=\"stroke: #000000; stroke-width: 0.8\"/>\n      </g>\n     </g>\n     <g id=\"text_2\">\n      <!-- 1000 -->\n      <g transform=\"translate(129.812195 303.028562) scale(0.1 -0.1)\">\n       <defs>\n        <path id=\"DejaVuSans-31\" d=\"M 794 531 \nL 1825 531 \nL 1825 4091 \nL 703 3866 \nL 703 4441 \nL 1819 4666 \nL 2450 4666 \nL 2450 531 \nL 3481 531 \nL 3481 0 \nL 794 0 \nL 794 531 \nz\n\" transform=\"scale(0.015625)\"/>\n       </defs>\n       <use xlink:href=\"#DejaVuSans-31\"/>\n       <use xlink:href=\"#DejaVuSans-30\" x=\"63.623047\"/>\n       <use xlink:href=\"#DejaVuSans-30\" x=\"127.246094\"/>\n       <use xlink:href=\"#DejaVuSans-30\" x=\"190.869141\"/>\n      </g>\n     </g>\n    </g>\n    <g id=\"xtick_3\">\n     <g id=\"line2d_3\">\n      <g>\n       <use xlink:href=\"#m67d4494aa3\" x=\"221.876038\" y=\"288.430125\" style=\"stroke: #000000; stroke-width: 0.8\"/>\n      </g>\n     </g>\n     <g id=\"text_3\">\n      <!-- 2000 -->\n      <g transform=\"translate(209.151038 303.028562) scale(0.1 -0.1)\">\n       <defs>\n        <path id=\"DejaVuSans-32\" d=\"M 1228 531 \nL 3431 531 \nL 3431 0 \nL 469 0 \nL 469 531 \nQ 828 903 1448 1529 \nQ 2069 2156 2228 2338 \nQ 2531 2678 2651 2914 \nQ 2772 3150 2772 3378 \nQ 2772 3750 2511 3984 \nQ 2250 4219 1831 4219 \nQ 1534 4219 1204 4116 \nQ 875 4013 500 3803 \nL 500 4441 \nQ 881 4594 1212 4672 \nQ 1544 4750 1819 4750 \nQ 2544 4750 2975 4387 \nQ 3406 4025 3406 3419 \nQ 3406 3131 3298 2873 \nQ 3191 2616 2906 2266 \nQ 2828 2175 2409 1742 \nQ 1991 1309 1228 531 \nz\n\" transform=\"scale(0.015625)\"/>\n       </defs>\n       <use xlink:href=\"#DejaVuSans-32\"/>\n       <use xlink:href=\"#DejaVuSans-30\" x=\"63.623047\"/>\n       <use xlink:href=\"#DejaVuSans-30\" x=\"127.246094\"/>\n       <use xlink:href=\"#DejaVuSans-30\" x=\"190.869141\"/>\n      </g>\n     </g>\n    </g>\n    <g id=\"xtick_4\">\n     <g id=\"line2d_4\">\n      <g>\n       <use xlink:href=\"#m67d4494aa3\" x=\"301.214881\" y=\"288.430125\" style=\"stroke: #000000; stroke-width: 0.8\"/>\n      </g>\n     </g>\n     <g id=\"text_4\">\n      <!-- 3000 -->\n      <g transform=\"translate(288.489881 303.028562) scale(0.1 -0.1)\">\n       <defs>\n        <path id=\"DejaVuSans-33\" d=\"M 2597 2516 \nQ 3050 2419 3304 2112 \nQ 3559 1806 3559 1356 \nQ 3559 666 3084 287 \nQ 2609 -91 1734 -91 \nQ 1441 -91 1130 -33 \nQ 819 25 488 141 \nL 488 750 \nQ 750 597 1062 519 \nQ 1375 441 1716 441 \nQ 2309 441 2620 675 \nQ 2931 909 2931 1356 \nQ 2931 1769 2642 2001 \nQ 2353 2234 1838 2234 \nL 1294 2234 \nL 1294 2753 \nL 1863 2753 \nQ 2328 2753 2575 2939 \nQ 2822 3125 2822 3475 \nQ 2822 3834 2567 4026 \nQ 2313 4219 1838 4219 \nQ 1578 4219 1281 4162 \nQ 984 4106 628 3988 \nL 628 4550 \nQ 988 4650 1302 4700 \nQ 1616 4750 1894 4750 \nQ 2613 4750 3031 4423 \nQ 3450 4097 3450 3541 \nQ 3450 3153 3228 2886 \nQ 3006 2619 2597 2516 \nz\n\" transform=\"scale(0.015625)\"/>\n       </defs>\n       <use xlink:href=\"#DejaVuSans-33\"/>\n       <use xlink:href=\"#DejaVuSans-30\" x=\"63.623047\"/>\n       <use xlink:href=\"#DejaVuSans-30\" x=\"127.246094\"/>\n       <use xlink:href=\"#DejaVuSans-30\" x=\"190.869141\"/>\n      </g>\n     </g>\n    </g>\n    <g id=\"xtick_5\">\n     <g id=\"line2d_5\">\n      <g>\n       <use xlink:href=\"#m67d4494aa3\" x=\"380.553724\" y=\"288.430125\" style=\"stroke: #000000; stroke-width: 0.8\"/>\n      </g>\n     </g>\n     <g id=\"text_5\">\n      <!-- 4000 -->\n      <g transform=\"translate(367.828724 303.028562) scale(0.1 -0.1)\">\n       <defs>\n        <path id=\"DejaVuSans-34\" d=\"M 2419 4116 \nL 825 1625 \nL 2419 1625 \nL 2419 4116 \nz\nM 2253 4666 \nL 3047 4666 \nL 3047 1625 \nL 3713 1625 \nL 3713 1100 \nL 3047 1100 \nL 3047 0 \nL 2419 0 \nL 2419 1100 \nL 313 1100 \nL 313 1709 \nL 2253 4666 \nz\n\" transform=\"scale(0.015625)\"/>\n       </defs>\n       <use xlink:href=\"#DejaVuSans-34\"/>\n       <use xlink:href=\"#DejaVuSans-30\" x=\"63.623047\"/>\n       <use xlink:href=\"#DejaVuSans-30\" x=\"127.246094\"/>\n       <use xlink:href=\"#DejaVuSans-30\" x=\"190.869141\"/>\n      </g>\n     </g>\n    </g>\n    <g id=\"text_6\">\n     <!-- Index -->\n     <g transform=\"translate(211.759219 316.706687) scale(0.1 -0.1)\">\n      <defs>\n       <path id=\"DejaVuSans-49\" d=\"M 628 4666 \nL 1259 4666 \nL 1259 0 \nL 628 0 \nL 628 4666 \nz\n\" transform=\"scale(0.015625)\"/>\n       <path id=\"DejaVuSans-6e\" d=\"M 3513 2113 \nL 3513 0 \nL 2938 0 \nL 2938 2094 \nQ 2938 2591 2744 2837 \nQ 2550 3084 2163 3084 \nQ 1697 3084 1428 2787 \nQ 1159 2491 1159 1978 \nL 1159 0 \nL 581 0 \nL 581 3500 \nL 1159 3500 \nL 1159 2956 \nQ 1366 3272 1645 3428 \nQ 1925 3584 2291 3584 \nQ 2894 3584 3203 3211 \nQ 3513 2838 3513 2113 \nz\n\" transform=\"scale(0.015625)\"/>\n       <path id=\"DejaVuSans-64\" d=\"M 2906 2969 \nL 2906 4863 \nL 3481 4863 \nL 3481 0 \nL 2906 0 \nL 2906 525 \nQ 2725 213 2448 61 \nQ 2172 -91 1784 -91 \nQ 1150 -91 751 415 \nQ 353 922 353 1747 \nQ 353 2572 751 3078 \nQ 1150 3584 1784 3584 \nQ 2172 3584 2448 3432 \nQ 2725 3281 2906 2969 \nz\nM 947 1747 \nQ 947 1113 1208 752 \nQ 1469 391 1925 391 \nQ 2381 391 2643 752 \nQ 2906 1113 2906 1747 \nQ 2906 2381 2643 2742 \nQ 2381 3103 1925 3103 \nQ 1469 3103 1208 2742 \nQ 947 2381 947 1747 \nz\n\" transform=\"scale(0.015625)\"/>\n       <path id=\"DejaVuSans-65\" d=\"M 3597 1894 \nL 3597 1613 \nL 953 1613 \nQ 991 1019 1311 708 \nQ 1631 397 2203 397 \nQ 2534 397 2845 478 \nQ 3156 559 3463 722 \nL 3463 178 \nQ 3153 47 2828 -22 \nQ 2503 -91 2169 -91 \nQ 1331 -91 842 396 \nQ 353 884 353 1716 \nQ 353 2575 817 3079 \nQ 1281 3584 2069 3584 \nQ 2775 3584 3186 3129 \nQ 3597 2675 3597 1894 \nz\nM 3022 2063 \nQ 3016 2534 2758 2815 \nQ 2500 3097 2075 3097 \nQ 1594 3097 1305 2825 \nQ 1016 2553 972 2059 \nL 3022 2063 \nz\n\" transform=\"scale(0.015625)\"/>\n       <path id=\"DejaVuSans-78\" d=\"M 3513 3500 \nL 2247 1797 \nL 3578 0 \nL 2900 0 \nL 1881 1375 \nL 863 0 \nL 184 0 \nL 1544 1831 \nL 300 3500 \nL 978 3500 \nL 1906 2253 \nL 2834 3500 \nL 3513 3500 \nz\n\" transform=\"scale(0.015625)\"/>\n      </defs>\n      <use xlink:href=\"#DejaVuSans-49\"/>\n      <use xlink:href=\"#DejaVuSans-6e\" x=\"29.492188\"/>\n      <use xlink:href=\"#DejaVuSans-64\" x=\"92.871094\"/>\n      <use xlink:href=\"#DejaVuSans-65\" x=\"156.347656\"/>\n      <use xlink:href=\"#DejaVuSans-78\" x=\"216.121094\"/>\n     </g>\n    </g>\n   </g>\n   <g id=\"matplotlib.axis_2\">\n    <g id=\"ytick_1\">\n     <g id=\"line2d_6\">\n      <defs>\n       <path id=\"mc668c8e0d3\" d=\"M 0 0 \nL -3.5 0 \n\" style=\"stroke: #000000; stroke-width: 0.8\"/>\n      </defs>\n      <g>\n       <use xlink:href=\"#mc668c8e0d3\" x=\"46.965625\" y=\"278.269485\" style=\"stroke: #000000; stroke-width: 0.8\"/>\n      </g>\n     </g>\n     <g id=\"text_7\">\n      <!-- 0 -->\n      <g transform=\"translate(33.603125 282.068704) scale(0.1 -0.1)\">\n       <use xlink:href=\"#DejaVuSans-30\"/>\n      </g>\n     </g>\n    </g>\n    <g id=\"ytick_2\">\n     <g id=\"line2d_7\">\n      <g>\n       <use xlink:href=\"#mc668c8e0d3\" x=\"46.965625\" y=\"239.562285\" style=\"stroke: #000000; stroke-width: 0.8\"/>\n      </g>\n     </g>\n     <g id=\"text_8\">\n      <!-- 20 -->\n      <g transform=\"translate(27.240625 243.361504) scale(0.1 -0.1)\">\n       <use xlink:href=\"#DejaVuSans-32\"/>\n       <use xlink:href=\"#DejaVuSans-30\" x=\"63.623047\"/>\n      </g>\n     </g>\n    </g>\n    <g id=\"ytick_3\">\n     <g id=\"line2d_8\">\n      <g>\n       <use xlink:href=\"#mc668c8e0d3\" x=\"46.965625\" y=\"200.855085\" style=\"stroke: #000000; stroke-width: 0.8\"/>\n      </g>\n     </g>\n     <g id=\"text_9\">\n      <!-- 40 -->\n      <g transform=\"translate(27.240625 204.654304) scale(0.1 -0.1)\">\n       <use xlink:href=\"#DejaVuSans-34\"/>\n       <use xlink:href=\"#DejaVuSans-30\" x=\"63.623047\"/>\n      </g>\n     </g>\n    </g>\n    <g id=\"ytick_4\">\n     <g id=\"line2d_9\">\n      <g>\n       <use xlink:href=\"#mc668c8e0d3\" x=\"46.965625\" y=\"162.147885\" style=\"stroke: #000000; stroke-width: 0.8\"/>\n      </g>\n     </g>\n     <g id=\"text_10\">\n      <!-- 60 -->\n      <g transform=\"translate(27.240625 165.947104) scale(0.1 -0.1)\">\n       <defs>\n        <path id=\"DejaVuSans-36\" d=\"M 2113 2584 \nQ 1688 2584 1439 2293 \nQ 1191 2003 1191 1497 \nQ 1191 994 1439 701 \nQ 1688 409 2113 409 \nQ 2538 409 2786 701 \nQ 3034 994 3034 1497 \nQ 3034 2003 2786 2293 \nQ 2538 2584 2113 2584 \nz\nM 3366 4563 \nL 3366 3988 \nQ 3128 4100 2886 4159 \nQ 2644 4219 2406 4219 \nQ 1781 4219 1451 3797 \nQ 1122 3375 1075 2522 \nQ 1259 2794 1537 2939 \nQ 1816 3084 2150 3084 \nQ 2853 3084 3261 2657 \nQ 3669 2231 3669 1497 \nQ 3669 778 3244 343 \nQ 2819 -91 2113 -91 \nQ 1303 -91 875 529 \nQ 447 1150 447 2328 \nQ 447 3434 972 4092 \nQ 1497 4750 2381 4750 \nQ 2619 4750 2861 4703 \nQ 3103 4656 3366 4563 \nz\n\" transform=\"scale(0.015625)\"/>\n       </defs>\n       <use xlink:href=\"#DejaVuSans-36\"/>\n       <use xlink:href=\"#DejaVuSans-30\" x=\"63.623047\"/>\n      </g>\n     </g>\n    </g>\n    <g id=\"ytick_5\">\n     <g id=\"line2d_10\">\n      <g>\n       <use xlink:href=\"#mc668c8e0d3\" x=\"46.965625\" y=\"123.440685\" style=\"stroke: #000000; stroke-width: 0.8\"/>\n      </g>\n     </g>\n     <g id=\"text_11\">\n      <!-- 80 -->\n      <g transform=\"translate(27.240625 127.239904) scale(0.1 -0.1)\">\n       <defs>\n        <path id=\"DejaVuSans-38\" d=\"M 2034 2216 \nQ 1584 2216 1326 1975 \nQ 1069 1734 1069 1313 \nQ 1069 891 1326 650 \nQ 1584 409 2034 409 \nQ 2484 409 2743 651 \nQ 3003 894 3003 1313 \nQ 3003 1734 2745 1975 \nQ 2488 2216 2034 2216 \nz\nM 1403 2484 \nQ 997 2584 770 2862 \nQ 544 3141 544 3541 \nQ 544 4100 942 4425 \nQ 1341 4750 2034 4750 \nQ 2731 4750 3128 4425 \nQ 3525 4100 3525 3541 \nQ 3525 3141 3298 2862 \nQ 3072 2584 2669 2484 \nQ 3125 2378 3379 2068 \nQ 3634 1759 3634 1313 \nQ 3634 634 3220 271 \nQ 2806 -91 2034 -91 \nQ 1263 -91 848 271 \nQ 434 634 434 1313 \nQ 434 1759 690 2068 \nQ 947 2378 1403 2484 \nz\nM 1172 3481 \nQ 1172 3119 1398 2916 \nQ 1625 2713 2034 2713 \nQ 2441 2713 2670 2916 \nQ 2900 3119 2900 3481 \nQ 2900 3844 2670 4047 \nQ 2441 4250 2034 4250 \nQ 1625 4250 1398 4047 \nQ 1172 3844 1172 3481 \nz\n\" transform=\"scale(0.015625)\"/>\n       </defs>\n       <use xlink:href=\"#DejaVuSans-38\"/>\n       <use xlink:href=\"#DejaVuSans-30\" x=\"63.623047\"/>\n      </g>\n     </g>\n    </g>\n    <g id=\"ytick_6\">\n     <g id=\"line2d_11\">\n      <g>\n       <use xlink:href=\"#mc668c8e0d3\" x=\"46.965625\" y=\"84.733485\" style=\"stroke: #000000; stroke-width: 0.8\"/>\n      </g>\n     </g>\n     <g id=\"text_12\">\n      <!-- 100 -->\n      <g transform=\"translate(20.878125 88.532704) scale(0.1 -0.1)\">\n       <use xlink:href=\"#DejaVuSans-31\"/>\n       <use xlink:href=\"#DejaVuSans-30\" x=\"63.623047\"/>\n       <use xlink:href=\"#DejaVuSans-30\" x=\"127.246094\"/>\n      </g>\n     </g>\n    </g>\n    <g id=\"ytick_7\">\n     <g id=\"line2d_12\">\n      <g>\n       <use xlink:href=\"#mc668c8e0d3\" x=\"46.965625\" y=\"46.026285\" style=\"stroke: #000000; stroke-width: 0.8\"/>\n      </g>\n     </g>\n     <g id=\"text_13\">\n      <!-- 120 -->\n      <g transform=\"translate(20.878125 49.825504) scale(0.1 -0.1)\">\n       <use xlink:href=\"#DejaVuSans-31\"/>\n       <use xlink:href=\"#DejaVuSans-32\" x=\"63.623047\"/>\n       <use xlink:href=\"#DejaVuSans-30\" x=\"127.246094\"/>\n      </g>\n     </g>\n    </g>\n    <g id=\"text_14\">\n     <!-- # Nonzero Amplitudes -->\n     <g transform=\"translate(14.798438 211.641312) rotate(-90) scale(0.1 -0.1)\">\n      <defs>\n       <path id=\"DejaVuSans-23\" d=\"M 3272 2816 \nL 2363 2816 \nL 2100 1772 \nL 3016 1772 \nL 3272 2816 \nz\nM 2803 4594 \nL 2478 3297 \nL 3391 3297 \nL 3719 4594 \nL 4219 4594 \nL 3897 3297 \nL 4872 3297 \nL 4872 2816 \nL 3775 2816 \nL 3519 1772 \nL 4513 1772 \nL 4513 1294 \nL 3397 1294 \nL 3072 0 \nL 2572 0 \nL 2894 1294 \nL 1978 1294 \nL 1656 0 \nL 1153 0 \nL 1478 1294 \nL 494 1294 \nL 494 1772 \nL 1594 1772 \nL 1856 2816 \nL 850 2816 \nL 850 3297 \nL 1978 3297 \nL 2297 4594 \nL 2803 4594 \nz\n\" transform=\"scale(0.015625)\"/>\n       <path id=\"DejaVuSans-20\" transform=\"scale(0.015625)\"/>\n       <path id=\"DejaVuSans-4e\" d=\"M 628 4666 \nL 1478 4666 \nL 3547 763 \nL 3547 4666 \nL 4159 4666 \nL 4159 0 \nL 3309 0 \nL 1241 3903 \nL 1241 0 \nL 628 0 \nL 628 4666 \nz\n\" transform=\"scale(0.015625)\"/>\n       <path id=\"DejaVuSans-6f\" d=\"M 1959 3097 \nQ 1497 3097 1228 2736 \nQ 959 2375 959 1747 \nQ 959 1119 1226 758 \nQ 1494 397 1959 397 \nQ 2419 397 2687 759 \nQ 2956 1122 2956 1747 \nQ 2956 2369 2687 2733 \nQ 2419 3097 1959 3097 \nz\nM 1959 3584 \nQ 2709 3584 3137 3096 \nQ 3566 2609 3566 1747 \nQ 3566 888 3137 398 \nQ 2709 -91 1959 -91 \nQ 1206 -91 779 398 \nQ 353 888 353 1747 \nQ 353 2609 779 3096 \nQ 1206 3584 1959 3584 \nz\n\" transform=\"scale(0.015625)\"/>\n       <path id=\"DejaVuSans-7a\" d=\"M 353 3500 \nL 3084 3500 \nL 3084 2975 \nL 922 459 \nL 3084 459 \nL 3084 0 \nL 275 0 \nL 275 525 \nL 2438 3041 \nL 353 3041 \nL 353 3500 \nz\n\" transform=\"scale(0.015625)\"/>\n       <path id=\"DejaVuSans-72\" d=\"M 2631 2963 \nQ 2534 3019 2420 3045 \nQ 2306 3072 2169 3072 \nQ 1681 3072 1420 2755 \nQ 1159 2438 1159 1844 \nL 1159 0 \nL 581 0 \nL 581 3500 \nL 1159 3500 \nL 1159 2956 \nQ 1341 3275 1631 3429 \nQ 1922 3584 2338 3584 \nQ 2397 3584 2469 3576 \nQ 2541 3569 2628 3553 \nL 2631 2963 \nz\n\" transform=\"scale(0.015625)\"/>\n       <path id=\"DejaVuSans-41\" d=\"M 2188 4044 \nL 1331 1722 \nL 3047 1722 \nL 2188 4044 \nz\nM 1831 4666 \nL 2547 4666 \nL 4325 0 \nL 3669 0 \nL 3244 1197 \nL 1141 1197 \nL 716 0 \nL 50 0 \nL 1831 4666 \nz\n\" transform=\"scale(0.015625)\"/>\n       <path id=\"DejaVuSans-6d\" d=\"M 3328 2828 \nQ 3544 3216 3844 3400 \nQ 4144 3584 4550 3584 \nQ 5097 3584 5394 3201 \nQ 5691 2819 5691 2113 \nL 5691 0 \nL 5113 0 \nL 5113 2094 \nQ 5113 2597 4934 2840 \nQ 4756 3084 4391 3084 \nQ 3944 3084 3684 2787 \nQ 3425 2491 3425 1978 \nL 3425 0 \nL 2847 0 \nL 2847 2094 \nQ 2847 2600 2669 2842 \nQ 2491 3084 2119 3084 \nQ 1678 3084 1418 2786 \nQ 1159 2488 1159 1978 \nL 1159 0 \nL 581 0 \nL 581 3500 \nL 1159 3500 \nL 1159 2956 \nQ 1356 3278 1631 3431 \nQ 1906 3584 2284 3584 \nQ 2666 3584 2933 3390 \nQ 3200 3197 3328 2828 \nz\n\" transform=\"scale(0.015625)\"/>\n       <path id=\"DejaVuSans-70\" d=\"M 1159 525 \nL 1159 -1331 \nL 581 -1331 \nL 581 3500 \nL 1159 3500 \nL 1159 2969 \nQ 1341 3281 1617 3432 \nQ 1894 3584 2278 3584 \nQ 2916 3584 3314 3078 \nQ 3713 2572 3713 1747 \nQ 3713 922 3314 415 \nQ 2916 -91 2278 -91 \nQ 1894 -91 1617 61 \nQ 1341 213 1159 525 \nz\nM 3116 1747 \nQ 3116 2381 2855 2742 \nQ 2594 3103 2138 3103 \nQ 1681 3103 1420 2742 \nQ 1159 2381 1159 1747 \nQ 1159 1113 1420 752 \nQ 1681 391 2138 391 \nQ 2594 391 2855 752 \nQ 3116 1113 3116 1747 \nz\n\" transform=\"scale(0.015625)\"/>\n       <path id=\"DejaVuSans-6c\" d=\"M 603 4863 \nL 1178 4863 \nL 1178 0 \nL 603 0 \nL 603 4863 \nz\n\" transform=\"scale(0.015625)\"/>\n       <path id=\"DejaVuSans-69\" d=\"M 603 3500 \nL 1178 3500 \nL 1178 0 \nL 603 0 \nL 603 3500 \nz\nM 603 4863 \nL 1178 4863 \nL 1178 4134 \nL 603 4134 \nL 603 4863 \nz\n\" transform=\"scale(0.015625)\"/>\n       <path id=\"DejaVuSans-74\" d=\"M 1172 4494 \nL 1172 3500 \nL 2356 3500 \nL 2356 3053 \nL 1172 3053 \nL 1172 1153 \nQ 1172 725 1289 603 \nQ 1406 481 1766 481 \nL 2356 481 \nL 2356 0 \nL 1766 0 \nQ 1100 0 847 248 \nQ 594 497 594 1153 \nL 594 3053 \nL 172 3053 \nL 172 3500 \nL 594 3500 \nL 594 4494 \nL 1172 4494 \nz\n\" transform=\"scale(0.015625)\"/>\n       <path id=\"DejaVuSans-75\" d=\"M 544 1381 \nL 544 3500 \nL 1119 3500 \nL 1119 1403 \nQ 1119 906 1312 657 \nQ 1506 409 1894 409 \nQ 2359 409 2629 706 \nQ 2900 1003 2900 1516 \nL 2900 3500 \nL 3475 3500 \nL 3475 0 \nL 2900 0 \nL 2900 538 \nQ 2691 219 2414 64 \nQ 2138 -91 1772 -91 \nQ 1169 -91 856 284 \nQ 544 659 544 1381 \nz\nM 1991 3584 \nL 1991 3584 \nz\n\" transform=\"scale(0.015625)\"/>\n       <path id=\"DejaVuSans-73\" d=\"M 2834 3397 \nL 2834 2853 \nQ 2591 2978 2328 3040 \nQ 2066 3103 1784 3103 \nQ 1356 3103 1142 2972 \nQ 928 2841 928 2578 \nQ 928 2378 1081 2264 \nQ 1234 2150 1697 2047 \nL 1894 2003 \nQ 2506 1872 2764 1633 \nQ 3022 1394 3022 966 \nQ 3022 478 2636 193 \nQ 2250 -91 1575 -91 \nQ 1294 -91 989 -36 \nQ 684 19 347 128 \nL 347 722 \nQ 666 556 975 473 \nQ 1284 391 1588 391 \nQ 1994 391 2212 530 \nQ 2431 669 2431 922 \nQ 2431 1156 2273 1281 \nQ 2116 1406 1581 1522 \nL 1381 1569 \nQ 847 1681 609 1914 \nQ 372 2147 372 2553 \nQ 372 3047 722 3315 \nQ 1072 3584 1716 3584 \nQ 2034 3584 2315 3537 \nQ 2597 3491 2834 3397 \nz\n\" transform=\"scale(0.015625)\"/>\n      </defs>\n      <use xlink:href=\"#DejaVuSans-23\"/>\n      <use xlink:href=\"#DejaVuSans-20\" x=\"83.789062\"/>\n      <use xlink:href=\"#DejaVuSans-4e\" x=\"115.576172\"/>\n      <use xlink:href=\"#DejaVuSans-6f\" x=\"190.380859\"/>\n      <use xlink:href=\"#DejaVuSans-6e\" x=\"251.5625\"/>\n      <use xlink:href=\"#DejaVuSans-7a\" x=\"314.941406\"/>\n      <use xlink:href=\"#DejaVuSans-65\" x=\"367.431641\"/>\n      <use xlink:href=\"#DejaVuSans-72\" x=\"428.955078\"/>\n      <use xlink:href=\"#DejaVuSans-6f\" x=\"467.818359\"/>\n      <use xlink:href=\"#DejaVuSans-20\" x=\"529\"/>\n      <use xlink:href=\"#DejaVuSans-41\" x=\"560.787109\"/>\n      <use xlink:href=\"#DejaVuSans-6d\" x=\"629.195312\"/>\n      <use xlink:href=\"#DejaVuSans-70\" x=\"726.607422\"/>\n      <use xlink:href=\"#DejaVuSans-6c\" x=\"790.083984\"/>\n      <use xlink:href=\"#DejaVuSans-69\" x=\"817.867188\"/>\n      <use xlink:href=\"#DejaVuSans-74\" x=\"845.650391\"/>\n      <use xlink:href=\"#DejaVuSans-75\" x=\"884.859375\"/>\n      <use xlink:href=\"#DejaVuSans-64\" x=\"948.238281\"/>\n      <use xlink:href=\"#DejaVuSans-65\" x=\"1011.714844\"/>\n      <use xlink:href=\"#DejaVuSans-73\" x=\"1073.238281\"/>\n     </g>\n    </g>\n   </g>\n   <g id=\"patch_3\">\n    <path d=\"M 46.965625 288.430125 \nL 46.965625 22.318125 \n\" style=\"fill: none; stroke: #000000; stroke-width: 0.8; stroke-linejoin: miter; stroke-linecap: square\"/>\n   </g>\n   <g id=\"patch_4\">\n    <path d=\"M 404.085625 288.430125 \nL 404.085625 22.318125 \n\" style=\"fill: none; stroke: #000000; stroke-width: 0.8; stroke-linejoin: miter; stroke-linecap: square\"/>\n   </g>\n   <g id=\"patch_5\">\n    <path d=\"M 46.965625 288.430125 \nL 404.085625 288.430125 \n\" style=\"fill: none; stroke: #000000; stroke-width: 0.8; stroke-linejoin: miter; stroke-linecap: square\"/>\n   </g>\n   <g id=\"patch_6\">\n    <path d=\"M 46.965625 22.318125 \nL 404.085625 22.318125 \n\" style=\"fill: none; stroke: #000000; stroke-width: 0.8; stroke-linejoin: miter; stroke-linecap: square\"/>\n   </g>\n   <g id=\"text_15\">\n    <!-- Hamiltonian Spectrum (Nonzero Amplitudes) -->\n    <g transform=\"translate(91.03 16.318125) scale(0.12 -0.12)\">\n     <defs>\n      <path id=\"DejaVuSans-48\" d=\"M 628 4666 \nL 1259 4666 \nL 1259 2753 \nL 3553 2753 \nL 3553 4666 \nL 4184 4666 \nL 4184 0 \nL 3553 0 \nL 3553 2222 \nL 1259 2222 \nL 1259 0 \nL 628 0 \nL 628 4666 \nz\n\" transform=\"scale(0.015625)\"/>\n      <path id=\"DejaVuSans-61\" d=\"M 2194 1759 \nQ 1497 1759 1228 1600 \nQ 959 1441 959 1056 \nQ 959 750 1161 570 \nQ 1363 391 1709 391 \nQ 2188 391 2477 730 \nQ 2766 1069 2766 1631 \nL 2766 1759 \nL 2194 1759 \nz\nM 3341 1997 \nL 3341 0 \nL 2766 0 \nL 2766 531 \nQ 2569 213 2275 61 \nQ 1981 -91 1556 -91 \nQ 1019 -91 701 211 \nQ 384 513 384 1019 \nQ 384 1609 779 1909 \nQ 1175 2209 1959 2209 \nL 2766 2209 \nL 2766 2266 \nQ 2766 2663 2505 2880 \nQ 2244 3097 1772 3097 \nQ 1472 3097 1187 3025 \nQ 903 2953 641 2809 \nL 641 3341 \nQ 956 3463 1253 3523 \nQ 1550 3584 1831 3584 \nQ 2591 3584 2966 3190 \nQ 3341 2797 3341 1997 \nz\n\" transform=\"scale(0.015625)\"/>\n      <path id=\"DejaVuSans-53\" d=\"M 3425 4513 \nL 3425 3897 \nQ 3066 4069 2747 4153 \nQ 2428 4238 2131 4238 \nQ 1616 4238 1336 4038 \nQ 1056 3838 1056 3469 \nQ 1056 3159 1242 3001 \nQ 1428 2844 1947 2747 \nL 2328 2669 \nQ 3034 2534 3370 2195 \nQ 3706 1856 3706 1288 \nQ 3706 609 3251 259 \nQ 2797 -91 1919 -91 \nQ 1588 -91 1214 -16 \nQ 841 59 441 206 \nL 441 856 \nQ 825 641 1194 531 \nQ 1563 422 1919 422 \nQ 2459 422 2753 634 \nQ 3047 847 3047 1241 \nQ 3047 1584 2836 1778 \nQ 2625 1972 2144 2069 \nL 1759 2144 \nQ 1053 2284 737 2584 \nQ 422 2884 422 3419 \nQ 422 4038 858 4394 \nQ 1294 4750 2059 4750 \nQ 2388 4750 2728 4690 \nQ 3069 4631 3425 4513 \nz\n\" transform=\"scale(0.015625)\"/>\n      <path id=\"DejaVuSans-63\" d=\"M 3122 3366 \nL 3122 2828 \nQ 2878 2963 2633 3030 \nQ 2388 3097 2138 3097 \nQ 1578 3097 1268 2742 \nQ 959 2388 959 1747 \nQ 959 1106 1268 751 \nQ 1578 397 2138 397 \nQ 2388 397 2633 464 \nQ 2878 531 3122 666 \nL 3122 134 \nQ 2881 22 2623 -34 \nQ 2366 -91 2075 -91 \nQ 1284 -91 818 406 \nQ 353 903 353 1747 \nQ 353 2603 823 3093 \nQ 1294 3584 2113 3584 \nQ 2378 3584 2631 3529 \nQ 2884 3475 3122 3366 \nz\n\" transform=\"scale(0.015625)\"/>\n      <path id=\"DejaVuSans-28\" d=\"M 1984 4856 \nQ 1566 4138 1362 3434 \nQ 1159 2731 1159 2009 \nQ 1159 1288 1364 580 \nQ 1569 -128 1984 -844 \nL 1484 -844 \nQ 1016 -109 783 600 \nQ 550 1309 550 2009 \nQ 550 2706 781 3412 \nQ 1013 4119 1484 4856 \nL 1984 4856 \nz\n\" transform=\"scale(0.015625)\"/>\n      <path id=\"DejaVuSans-29\" d=\"M 513 4856 \nL 1013 4856 \nQ 1481 4119 1714 3412 \nQ 1947 2706 1947 2009 \nQ 1947 1309 1714 600 \nQ 1481 -109 1013 -844 \nL 513 -844 \nQ 928 -128 1133 580 \nQ 1338 1288 1338 2009 \nQ 1338 2731 1133 3434 \nQ 928 4138 513 4856 \nz\n\" transform=\"scale(0.015625)\"/>\n     </defs>\n     <use xlink:href=\"#DejaVuSans-48\"/>\n     <use xlink:href=\"#DejaVuSans-61\" x=\"75.195312\"/>\n     <use xlink:href=\"#DejaVuSans-6d\" x=\"136.474609\"/>\n     <use xlink:href=\"#DejaVuSans-69\" x=\"233.886719\"/>\n     <use xlink:href=\"#DejaVuSans-6c\" x=\"261.669922\"/>\n     <use xlink:href=\"#DejaVuSans-74\" x=\"289.453125\"/>\n     <use xlink:href=\"#DejaVuSans-6f\" x=\"328.662109\"/>\n     <use xlink:href=\"#DejaVuSans-6e\" x=\"389.84375\"/>\n     <use xlink:href=\"#DejaVuSans-69\" x=\"453.222656\"/>\n     <use xlink:href=\"#DejaVuSans-61\" x=\"481.005859\"/>\n     <use xlink:href=\"#DejaVuSans-6e\" x=\"542.285156\"/>\n     <use xlink:href=\"#DejaVuSans-20\" x=\"605.664062\"/>\n     <use xlink:href=\"#DejaVuSans-53\" x=\"637.451172\"/>\n     <use xlink:href=\"#DejaVuSans-70\" x=\"700.927734\"/>\n     <use xlink:href=\"#DejaVuSans-65\" x=\"764.404297\"/>\n     <use xlink:href=\"#DejaVuSans-63\" x=\"825.927734\"/>\n     <use xlink:href=\"#DejaVuSans-74\" x=\"880.908203\"/>\n     <use xlink:href=\"#DejaVuSans-72\" x=\"920.117188\"/>\n     <use xlink:href=\"#DejaVuSans-75\" x=\"961.230469\"/>\n     <use xlink:href=\"#DejaVuSans-6d\" x=\"1024.609375\"/>\n     <use xlink:href=\"#DejaVuSans-20\" x=\"1122.021484\"/>\n     <use xlink:href=\"#DejaVuSans-28\" x=\"1153.808594\"/>\n     <use xlink:href=\"#DejaVuSans-4e\" x=\"1192.822266\"/>\n     <use xlink:href=\"#DejaVuSans-6f\" x=\"1267.626953\"/>\n     <use xlink:href=\"#DejaVuSans-6e\" x=\"1328.808594\"/>\n     <use xlink:href=\"#DejaVuSans-7a\" x=\"1392.1875\"/>\n     <use xlink:href=\"#DejaVuSans-65\" x=\"1444.677734\"/>\n     <use xlink:href=\"#DejaVuSans-72\" x=\"1506.201172\"/>\n     <use xlink:href=\"#DejaVuSans-6f\" x=\"1545.064453\"/>\n     <use xlink:href=\"#DejaVuSans-20\" x=\"1606.246094\"/>\n     <use xlink:href=\"#DejaVuSans-41\" x=\"1638.033203\"/>\n     <use xlink:href=\"#DejaVuSans-6d\" x=\"1706.441406\"/>\n     <use xlink:href=\"#DejaVuSans-70\" x=\"1803.853516\"/>\n     <use xlink:href=\"#DejaVuSans-6c\" x=\"1867.330078\"/>\n     <use xlink:href=\"#DejaVuSans-69\" x=\"1895.113281\"/>\n     <use xlink:href=\"#DejaVuSans-74\" x=\"1922.896484\"/>\n     <use xlink:href=\"#DejaVuSans-75\" x=\"1962.105469\"/>\n     <use xlink:href=\"#DejaVuSans-64\" x=\"2025.484375\"/>\n     <use xlink:href=\"#DejaVuSans-65\" x=\"2088.960938\"/>\n     <use xlink:href=\"#DejaVuSans-73\" x=\"2150.484375\"/>\n     <use xlink:href=\"#DejaVuSans-29\" x=\"2202.583984\"/>\n    </g>\n   </g>\n  </g>\n </g>\n <defs>\n  <clipPath id=\"p1b025159ef\">\n   <rect x=\"46.965625\" y=\"22.318125\" width=\"357.12\" height=\"266.112\"/>\n  </clipPath>\n </defs>\n</svg>\n",
      "text/plain": [
       "<Figure size 640x480 with 1 Axes>"
      ]
     },
     "metadata": {},
     "output_type": "display_data"
    }
   ],
   "source": [
    "max_num_states = 130\n",
    "plt.scatter(np.argwhere(nonzero_amplitudes < max_num_states), nonzero_amplitudes[nonzero_amplitudes < max_num_states])\n",
    "plt.title(\"Hamiltonian Spectrum (Nonzero Amplitudes)\")\n",
    "plt.xlabel(\"Index\")\n",
    "plt.ylabel(\"# Nonzero Amplitudes\")\n",
    "# plt.legend()\n",
    "plt.show()"
   ]
  },
  {
   "cell_type": "code",
   "execution_count": 174,
   "metadata": {},
   "outputs": [
    {
     "data": {
      "text/plain": [
       "(-0.10583086414737417+0j)"
      ]
     },
     "execution_count": 174,
     "metadata": {},
     "output_type": "execute_result"
    }
   ],
   "source": [
    "exact_result.eigenstates[0].primitive.data[683]"
   ]
  },
  {
   "cell_type": "code",
   "execution_count": 176,
   "metadata": {},
   "outputs": [
    {
     "data": {
      "text/plain": [
       "(-0.1036968609981347+0j)"
      ]
     },
     "execution_count": 176,
     "metadata": {},
     "output_type": "execute_result"
    }
   ],
   "source": [
    "exact_result.eigenstates[1].primitive.data[1366]"
   ]
  },
  {
   "cell_type": "code",
   "execution_count": 182,
   "metadata": {},
   "outputs": [
    {
     "name": "stdout",
     "output_type": "stream",
     "text": [
      "0.1058 3.141592653589793\n",
      "0.0699 3.141592653589793\n",
      "0.0 0.0\n",
      "0.0359 0.0\n",
      "0.0699 0.0\n",
      "0.1058 0.0\n"
     ]
    }
   ],
   "source": [
    "for amplitude in np.unique(exact_result.eigenstates[0].primitive.data.round(decimals=4)):\n",
    "    print(f\"{np.abs(amplitude)} {np.angle(amplitude)}\")"
   ]
  },
  {
   "cell_type": "code",
   "execution_count": 183,
   "metadata": {},
   "outputs": [
    {
     "name": "stdout",
     "output_type": "stream",
     "text": [
      "0.1037 3.141592653589793\n",
      "0.0666 3.141592653589793\n",
      "0.0 0.0\n",
      "0.0666 0.0\n",
      "0.1037 0.0\n",
      "0.1703 0.0\n"
     ]
    }
   ],
   "source": [
    "for amplitude in np.unique(exact_result.eigenstates[1].primitive.data.round(decimals=4)):\n",
    "    print(f\"{np.abs(amplitude)} {np.angle(amplitude)}\")"
   ]
  },
  {
   "cell_type": "code",
   "execution_count": 184,
   "metadata": {},
   "outputs": [
    {
     "data": {
      "text/plain": [
       "1.513590844062947"
      ]
     },
     "execution_count": 184,
     "metadata": {},
     "output_type": "execute_result"
    }
   ],
   "source": [
    "0.1058/0.0699"
   ]
  },
  {
   "cell_type": "code",
   "execution_count": 185,
   "metadata": {},
   "outputs": [
    {
     "data": {
      "text/plain": [
       "1.557057057057057"
      ]
     },
     "execution_count": 185,
     "metadata": {},
     "output_type": "execute_result"
    }
   ],
   "source": [
    "0.1037/0.0666"
   ]
  },
  {
   "cell_type": "code",
   "execution_count": 281,
   "metadata": {},
   "outputs": [
    {
     "name": "stdout",
     "output_type": "stream",
     "text": [
      "-0.11|001010101011> (683)\n",
      "+0.11|001010101101> (685)\n",
      "+0.11|001010110011> (691)\n",
      "-0.11|001010110101> (693)\n",
      "+0.11|001011001011> (715)\n",
      "-0.11|001011001101> (717)\n",
      "-0.11|001011010011> (723)\n",
      "+0.11|001011010101> (725)\n",
      "+0.11|001100101011> (811)\n",
      "-0.11|001100101101> (813)\n",
      "-0.11|001100110011> (819)\n",
      "+0.11|001100110101> (821)\n",
      "-0.11|001101001011> (843)\n",
      "+0.11|001101001101> (845)\n",
      "+0.11|001101010011> (851)\n",
      "-0.11|001101010101> (853)\n",
      "+0.11|010010101011> (1195)\n",
      "-0.11|010010101101> (1197)\n",
      "-0.11|010010110011> (1203)\n",
      "+0.11|010010110101> (1205)\n",
      "-0.11|010011001011> (1227)\n",
      "+0.11|010011001101> (1229)\n",
      "+0.11|010011010011> (1235)\n",
      "-0.11|010011010101> (1237)\n",
      "-0.11|010100101011> (1323)\n",
      "+0.11|010100101101> (1325)\n",
      "+0.11|010100110011> (1331)\n",
      "-0.11|010100110101> (1333)\n",
      "+0.11|010101001011> (1355)\n",
      "-0.11|010101001101> (1357)\n",
      "-0.11|010101010011> (1363)\n",
      "-0.11|101010101100> (2732)\n",
      "-0.11|101010110010> (2738)\n",
      "+0.11|101010110100> (2740)\n",
      "-0.11|101011001010> (2762)\n",
      "+0.11|101011001100> (2764)\n",
      "+0.11|101011010010> (2770)\n",
      "-0.11|101011010100> (2772)\n",
      "-0.11|101100101010> (2858)\n",
      "+0.11|101100101100> (2860)\n",
      "+0.11|101100110010> (2866)\n",
      "-0.11|101100110100> (2868)\n",
      "+0.11|101101001010> (2890)\n",
      "-0.11|101101001100> (2892)\n",
      "-0.11|101101010010> (2898)\n",
      "+0.11|101101010100> (2900)\n",
      "-0.11|110010101010> (3242)\n",
      "+0.11|110010101100> (3244)\n",
      "+0.11|110010110010> (3250)\n",
      "-0.11|110010110100> (3252)\n",
      "+0.11|110011001010> (3274)\n",
      "-0.11|110011001100> (3276)\n",
      "-0.11|110011010010> (3282)\n",
      "+0.11|110011010100> (3284)\n",
      "+0.11|110100101010> (3370)\n",
      "-0.11|110100101100> (3372)\n",
      "-0.11|110100110010> (3378)\n",
      "+0.11|110100110100> (3380)\n",
      "-0.11|110101001010> (3402)\n",
      "+0.11|110101001100> (3404)\n",
      "+0.11|110101010010> (3410)\n",
      "-0.11|110101010100> (3412)\n",
      "Plus States: 30, Minus States: 32\n"
     ]
    }
   ],
   "source": [
    "plus_states_0 = []\n",
    "minus_states_0 = []\n",
    "for state, amplitude in enumerate(exact_result.eigenstates[0].primitive.data):\n",
    "    if np.isclose(np.abs(amplitude), np.abs(exact_result.eigenstates[0].primitive.data[683])):\n",
    "        if np.isclose(np.angle(amplitude), 0):\n",
    "            plus_states_0.append(state)\n",
    "            print(f\"+{np.abs(amplitude):.2f}|{state:0{num_sites}b}> ({state})\")\n",
    "        elif np.isclose(np.angle(amplitude), np.pi):\n",
    "            minus_states_0.append(state)\n",
    "            print(f\"-{np.abs(amplitude):.2f}|{state:0{num_sites}b}> ({state})\")\n",
    "        else:\n",
    "            raise RuntimeError()\n",
    "print(f\"Plus States: {len(plus_states_0)}, Minus States: {len(minus_states_0)}\")"
   ]
  },
  {
   "cell_type": "code",
   "execution_count": 282,
   "metadata": {},
   "outputs": [
    {
     "name": "stdout",
     "output_type": "stream",
     "text": [
      "-0.10|010101010110> (1366)\n",
      "-0.10|010101011001> (1369)\n",
      "+0.10|010101011010> (1370)\n",
      "-0.10|010101100101> (1381)\n",
      "+0.10|010101100110> (1382)\n",
      "+0.10|010101101001> (1385)\n",
      "-0.10|010101101010> (1386)\n",
      "-0.10|010110010101> (1429)\n",
      "+0.10|010110010110> (1430)\n",
      "+0.10|010110011001> (1433)\n",
      "-0.10|010110011010> (1434)\n",
      "+0.10|010110100101> (1445)\n",
      "-0.10|010110100110> (1446)\n",
      "-0.10|010110101001> (1449)\n",
      "+0.10|010110101010> (1450)\n",
      "-0.10|011001010101> (1621)\n",
      "+0.10|011001010110> (1622)\n",
      "+0.10|011001011001> (1625)\n",
      "-0.10|011001011010> (1626)\n",
      "+0.10|011001100101> (1637)\n",
      "-0.10|011001100110> (1638)\n",
      "-0.10|011001101001> (1641)\n",
      "+0.10|011001101010> (1642)\n",
      "+0.10|011010010101> (1685)\n",
      "-0.10|011010010110> (1686)\n",
      "-0.10|011010011001> (1689)\n",
      "+0.10|011010011010> (1690)\n",
      "-0.10|011010100101> (1701)\n",
      "+0.10|011010100110> (1702)\n",
      "+0.10|011010101001> (1705)\n",
      "-0.10|011010101010> (1706)\n",
      "-0.10|100101010101> (2389)\n",
      "+0.10|100101010110> (2390)\n",
      "+0.10|100101011001> (2393)\n",
      "-0.10|100101011010> (2394)\n",
      "+0.10|100101100101> (2405)\n",
      "-0.10|100101100110> (2406)\n",
      "-0.10|100101101001> (2409)\n",
      "+0.10|100101101010> (2410)\n",
      "+0.10|100110010101> (2453)\n",
      "-0.10|100110010110> (2454)\n",
      "-0.10|100110011001> (2457)\n",
      "+0.10|100110011010> (2458)\n",
      "-0.10|100110100101> (2469)\n",
      "+0.10|100110100110> (2470)\n",
      "+0.10|100110101001> (2473)\n",
      "-0.10|100110101010> (2474)\n",
      "+0.10|101001010101> (2645)\n",
      "-0.10|101001010110> (2646)\n",
      "-0.10|101001011001> (2649)\n",
      "+0.10|101001011010> (2650)\n",
      "-0.10|101001100101> (2661)\n",
      "+0.10|101001100110> (2662)\n",
      "+0.10|101001101001> (2665)\n",
      "-0.10|101001101010> (2666)\n",
      "-0.10|101010010101> (2709)\n",
      "+0.10|101010010110> (2710)\n",
      "+0.10|101010011001> (2713)\n",
      "-0.10|101010011010> (2714)\n",
      "+0.10|101010100101> (2725)\n",
      "-0.10|101010100110> (2726)\n",
      "-0.10|101010101001> (2729)\n",
      "Plus States: 30, Minus States: 32\n"
     ]
    }
   ],
   "source": [
    "plus_states_1 = []\n",
    "minus_states_1 = []\n",
    "for state, amplitude in enumerate(exact_result.eigenstates[1].primitive.data):\n",
    "    if np.isclose(np.abs(amplitude), np.abs(exact_result.eigenstates[1].primitive.data[1366])):\n",
    "        if np.isclose(np.angle(amplitude), 0):\n",
    "            plus_states_1.append(state)\n",
    "            print(f\"+{np.abs(amplitude):.2f}|{state:0{num_sites}b}> ({state})\")\n",
    "        elif np.isclose(np.angle(amplitude), np.pi):\n",
    "            minus_states_1.append(state)\n",
    "            print(f\"-{np.abs(amplitude):.2f}|{state:0{num_sites}b}> ({state})\")\n",
    "        else:\n",
    "            raise RuntimeError()\n",
    "print(f\"Plus States: {len(plus_states_1)}, Minus States: {len(minus_states_1)}\")"
   ]
  },
  {
   "cell_type": "code",
   "execution_count": 284,
   "metadata": {},
   "outputs": [
    {
     "name": "stdout",
     "output_type": "stream",
     "text": [
      "# Plus States: 60, # Minus States: 64\n"
     ]
    }
   ],
   "source": [
    "plus_states = plus_states_0 + plus_states_1\n",
    "minus_states = minus_states_0 + minus_states_1\n",
    "\n",
    "print(f\"# Plus States: {len(plus_states)}, # Minus States: {len(minus_states)}\")"
   ]
  },
  {
   "cell_type": "code",
   "execution_count": 10,
   "metadata": {},
   "outputs": [
    {
     "data": {
      "text/plain": [
       "array([ 0.00000000e+00+0.j,  4.04013083e-46+0.j, -1.77576077e-18+0.j, ...,\n",
       "        0.00000000e+00+0.j,  0.00000000e+00+0.j,  0.00000000e+00+0.j])"
      ]
     },
     "execution_count": 10,
     "metadata": {},
     "output_type": "execute_result"
    }
   ],
   "source": [
    "exact_result.eigenstates[0].primitive.data"
   ]
  },
  {
   "cell_type": "code",
   "execution_count": 6,
   "metadata": {},
   "outputs": [
    {
     "data": {
      "text/plain": [
       "13.496092074574413"
      ]
     },
     "execution_count": 6,
     "metadata": {},
     "output_type": "execute_result"
    }
   ],
   "source": [
    "random_sv = np.random.rand(2 ** 12)\n",
    "random_sv = Statevector(random_sv / np.linalg.norm(random_sv))\n",
    "random_sv.expectation_value(hamiltonian).real"
   ]
  },
  {
   "attachments": {},
   "cell_type": "markdown",
   "metadata": {},
   "source": [
    "$$|\\psi\\rangle=\\frac1{\\sqrt2}\\left(|000000000000\\rangle+|111111111111\\rangle\\right)$$\n",
    "$$E=+18$$"
   ]
  },
  {
   "cell_type": "code",
   "execution_count": 7,
   "metadata": {},
   "outputs": [
    {
     "data": {
      "text/plain": [
       "17.999999999999996"
      ]
     },
     "execution_count": 7,
     "metadata": {},
     "output_type": "execute_result"
    }
   ],
   "source": [
    "sv = np.zeros(2**12)\n",
    "for state in [0b000000000000, 0b111111111111]:\n",
    "    sv[state] = 1\n",
    "sv = Statevector(sv / np.linalg.norm(sv))\n",
    "sv.expectation_value(hamiltonian).real"
   ]
  },
  {
   "attachments": {},
   "cell_type": "markdown",
   "metadata": {},
   "source": [
    "$$|\\psi\\rangle=\\frac1{\\sqrt2}\\left(|000000111111\\rangle+|111111000000\\rangle\\right)$$\n",
    "$$E=-6$$"
   ]
  },
  {
   "cell_type": "code",
   "execution_count": 8,
   "metadata": {},
   "outputs": [
    {
     "data": {
      "text/plain": [
       "-5.999999999999999"
      ]
     },
     "execution_count": 8,
     "metadata": {},
     "output_type": "execute_result"
    }
   ],
   "source": [
    "sv = np.zeros(2**12)\n",
    "for state in [0b000000111111, 0b111111000000]:\n",
    "    sv[state] = 1\n",
    "sv = Statevector(sv / np.linalg.norm(sv))\n",
    "sv.expectation_value(hamiltonian).real"
   ]
  },
  {
   "attachments": {},
   "cell_type": "markdown",
   "metadata": {},
   "source": [
    "$$|\\psi\\rangle=\\frac1{\\sqrt2}\\left(|000011111001\\rangle+|000101110101\\rangle\\right)$$\n",
    "$$E=-6$$"
   ]
  },
  {
   "cell_type": "code",
   "execution_count": 9,
   "metadata": {},
   "outputs": [
    {
     "data": {
      "text/plain": [
       "-5.999999999999999"
      ]
     },
     "execution_count": 9,
     "metadata": {},
     "output_type": "execute_result"
    }
   ],
   "source": [
    "sv = np.zeros(2**12)\n",
    "for state in [0b000011111001, 0b000101110101]:\n",
    "    sv[state] = 1\n",
    "sv = Statevector(sv / np.linalg.norm(sv))\n",
    "sv.expectation_value(hamiltonian).real"
   ]
  },
  {
   "attachments": {},
   "cell_type": "markdown",
   "metadata": {},
   "source": [
    "$$|\\psi\\rangle=\\frac1{\\sqrt{62}}\\left((|000011111001\\rangle+|000101110101\\rangle+|000110110011\\rangle+|001001101101\\rangle+|001010101011\\rangle+|001100100111\\rangle+|001111100001\\rangle+|010001011101\\rangle+|010010011011\\rangle+|010100010111\\rangle+|010111010001\\rangle+|011000001111\\rangle+|011011001001\\rangle+|011101000101\\rangle+|011110000011\\rangle+|100001111100\\rangle+|100010111010\\rangle+|100100110110\\rangle+|100111110000\\rangle+|101000101110\\rangle+|101011101000\\rangle+|101101100100\\rangle+|101110100010\\rangle+|110000011110\\rangle+|110011011000\\rangle+|110101010100\\rangle+|110110010010\\rangle+|111001001100\\rangle+|111010001010\\rangle+|111100000110\\rangle)-(|000001111101\\rangle+|000010111011\\rangle+|000100110111\\rangle+|000111110001\\rangle+|001000101111\\rangle+|001011101001\\rangle+|001101100101\\rangle+|001110100011\\rangle+|010000011111\\rangle+|010011011001\\rangle+|010101010101\\rangle+|010110010011\\rangle+|011001001101\\rangle+|011010001011\\rangle+|011100000111\\rangle+|011111000001\\rangle+|100000111110\\rangle+|100011111000\\rangle+|100101110100\\rangle+|100110110010\\rangle+|101001101100\\rangle+|101010101010\\rangle+|101100100110\\rangle+|101111100000\\rangle+|110001011100\\rangle+|110010011010\\rangle+|110100010110\\rangle+|110111010000\\rangle+|111000001110\\rangle+|111011001000\\rangle+|111101000100\\rangle+|111110000010\\rangle)\\right)$$\n",
    "$$E\\approx -17.613$$"
   ]
  },
  {
   "cell_type": "code",
   "execution_count": 25,
   "metadata": {},
   "outputs": [
    {
     "data": {
      "text/plain": [
       "-17.61290322580645"
      ]
     },
     "execution_count": 25,
     "metadata": {},
     "output_type": "execute_result"
    }
   ],
   "source": [
    "sv = np.zeros(2**12)\n",
    "for state in plus_states_0:\n",
    "    sv[state] = 1\n",
    "for state in minus_states_0:\n",
    "    sv[state] = -1\n",
    "sv = Statevector(sv / np.linalg.norm(sv))\n",
    "sv.expectation_value(hamiltonian).real"
   ]
  },
  {
   "attachments": {},
   "cell_type": "markdown",
   "metadata": {},
   "source": [
    "$$|\\psi\\rangle=\\frac1{\\sqrt{62}}\\left((|000011111100\\rangle+|000101111010\\rangle+|000110111001\\rangle+|001001110110\\rangle+|001010110101\\rangle+|001100110011\\rangle+|001111110000\\rangle+|010001101110\\rangle+|010010101101\\rangle+|010100101011\\rangle+|010111101000\\rangle+|011000100111\\rangle+|011011100100\\rangle+|011101100010\\rangle+|011110100001\\rangle+|100001011110\\rangle+|100010011101\\rangle+|100100011011\\rangle+|100111011000\\rangle+|101000010111\\rangle+|101011010100\\rangle+|101101010010\\rangle+|101110010001\\rangle+|110000001111\\rangle+|110011001100\\rangle+|110101001010\\rangle+|110110001001\\rangle+|111001000110\\rangle+|111010000101\\rangle+|111100000011\\rangle)-(|000001111110\\rangle+|000010111101\\rangle+|000100111011\\rangle+|000111111000\\rangle+|001000110111\\rangle+|001011110100\\rangle+|001101110010\\rangle+|001110110001\\rangle+|010000101111\\rangle+|010011101100\\rangle+|010101101010\\rangle+|010110101001\\rangle+|011001100110\\rangle+|011010100101\\rangle+|011100100011\\rangle+|011111100000\\rangle+|100000011111\\rangle+|100011011100\\rangle+|100101011010\\rangle+|100110011001\\rangle+|101001010110\\rangle+|101010010101\\rangle+|101100010011\\rangle+|101111010000\\rangle+|110001001110\\rangle+|110010001101\\rangle+|110100001011\\rangle+|110111001000\\rangle+|111000000111\\rangle+|111011000100\\rangle+|111101000010\\rangle+|111110000001\\rangle)\\right)$$\n",
    "$$E\\approx -17.613$$"
   ]
  },
  {
   "cell_type": "code",
   "execution_count": 26,
   "metadata": {},
   "outputs": [
    {
     "data": {
      "text/plain": [
       "-17.61290322580645"
      ]
     },
     "execution_count": 26,
     "metadata": {},
     "output_type": "execute_result"
    }
   ],
   "source": [
    "sv = np.zeros(2**12)\n",
    "for state in plus_states_1:\n",
    "    sv[state] = 1\n",
    "for state in minus_states_1:\n",
    "    sv[state] = -1\n",
    "sv = Statevector(sv / np.linalg.norm(sv))\n",
    "sv.expectation_value(hamiltonian).real"
   ]
  },
  {
   "cell_type": "code",
   "execution_count": 28,
   "metadata": {},
   "outputs": [
    {
     "name": "stdout",
     "output_type": "stream",
     "text": [
      "001010101101\n",
      "001010110011\n",
      "001011001011\n",
      "001011010101\n",
      "001100101011\n",
      "001100110101\n",
      "001101001101\n",
      "001101010011\n",
      "010010101011\n",
      "010010110101\n",
      "010011001101\n",
      "010011010011\n",
      "010100101101\n",
      "010100110011\n",
      "010101001011\n",
      "101010110100\n",
      "101011001100\n",
      "101011010010\n",
      "101100101100\n",
      "101100110010\n",
      "101101001010\n",
      "101101010100\n",
      "110010101100\n",
      "110010110010\n",
      "110011001010\n",
      "110011010100\n",
      "110100101010\n",
      "110100110100\n",
      "110101001100\n",
      "110101010010\n"
     ]
    }
   ],
   "source": [
    "for state in plus_states_0:\n",
    "    print(f\"{state:012b}\")"
   ]
  },
  {
   "cell_type": "code",
   "execution_count": 169,
   "metadata": {},
   "outputs": [],
   "source": [
    "def compose(*functions):\n",
    "    return reduce(lambda f, g: lambda x: f(g(x)), functions, lambda x: x)\n",
    "\n",
    "def rotate(state):\n",
    "    return (state >> 2)|(state << (num_sites - 2)) & 0b111111111111\n",
    "\n",
    "def reflect(state):\n",
    "    binary = f\"{state:012b}\"\n",
    "    return int(binary[:-1][::-1] + binary[-1], 2)\n",
    "\n",
    "def flip(state):\n",
    "    return ~state & 0b111111111111\n",
    "\n",
    "def equivalent_states(state):\n",
    "    return frozenset([compose(*([rotate for _ in range(i)] + [reflect for _ in range(j)] + [flip for _ in range(k)]))(state) for i in range(6) for j in range(2) for k in range(2) ])"
   ]
  },
  {
   "cell_type": "code",
   "execution_count": 293,
   "metadata": {},
   "outputs": [
    {
     "name": "stdout",
     "output_type": "stream",
     "text": [
      "011010010101 -6.0\n",
      "101010010110 -6.0\n",
      "010110100101 -6.0\n",
      "101010100101 -6.0\n",
      "011010101001 -6.0\n",
      "010110101010 -6.0\n",
      "010010101011 -6.0\n",
      "110100101010 -6.0\n",
      "001010101101 -6.0\n",
      "010100101101 -6.0\n",
      "101010110100 -6.0\n",
      "010010110101 -6.0\n",
      "101101001010 -6.0\n",
      "010101001011 -6.0\n",
      "110101010010 -6.0\n",
      "101011010010 -6.0\n",
      "101101010100 -6.0\n",
      "101001010101 -6.0\n",
      "100101010110 -6.0\n",
      "001011010101 -6.0\n",
      "101001011010 -6.0\n",
      "010101011010 -6.0\n",
      "010101101001 -6.0\n",
      "100101101010 -6.0\n"
     ]
    }
   ],
   "source": [
    "for state in equivalent_states(plus_states[0]):\n",
    "    sv = np.zeros(2**12)\n",
    "    sv[state] = 1\n",
    "    sv = Statevector(sv / np.linalg.norm(sv))\n",
    "    print(f\"{state:012b} {sv.expectation_value(hamiltonian).real}\")"
   ]
  },
  {
   "cell_type": "code",
   "execution_count": null,
   "metadata": {},
   "outputs": [],
   "source": [
    "for state in range(2**11):\n",
    "    inverted_state =  ~state & 0b111111111111\n",
    "\n",
    "    sv = np.zeros(2**12)\n",
    "    sv[state] = 1\n",
    "    sv = Statevector(sv / np.linalg.norm(sv))\n",
    "\n",
    "    inverted_sv = np.zeros(2**12)\n",
    "    inverted_sv[state] = 1\n",
    "    inverted_sv = Statevector(inverted_sv / np.linalg.norm(inverted_sv))\n",
    "\n",
    "    state_ev = sv.expectation_value(hamiltonian)\n",
    "    inverted_state_ev = inverted_sv.expectation_value(hamiltonian)\n",
    "\n",
    "    if state_ev != inverted_state_ev:\n",
    "        print(state_ev, inverted_state_ev)"
   ]
  },
  {
   "cell_type": "code",
   "execution_count": 274,
   "metadata": {},
   "outputs": [
    {
     "name": "stdout",
     "output_type": "stream",
     "text": [
      "# Plus Equivalence Classes: 3, # Minus Equivalence Classes: 4\n",
      "60 64\n"
     ]
    }
   ],
   "source": [
    "# BIT FLIP SYMMETRY\n",
    "plus_equivalence_classes = set()\n",
    "for state in plus_states:\n",
    "    plus_equivalence_classes.add(equivalent_states(state))\n",
    "plus_equivalence_classes = [ set(equivalence_class) for equivalence_class in plus_equivalence_classes]\n",
    "\n",
    "minus_equivalence_classes = set()\n",
    "for state in minus_states:\n",
    "    minus_equivalence_classes.add(equivalent_states(state))\n",
    "minus_equivalence_classes = [ set(equivalence_class) for equivalence_class in minus_equivalence_classes]\n",
    "\n",
    "print(f\"# Plus Equivalence Classes: {len(plus_equivalence_classes)}, # Minus Equivalence Classes: {len(minus_equivalence_classes)}\")\n",
    "print(len(set(state for equivalence_class in plus_equivalence_classes for state in equivalence_class)), len(set(state for equivalence_class in minus_equivalence_classes for state in equivalence_class)))"
   ]
  },
  {
   "cell_type": "code",
   "execution_count": 292,
   "metadata": {},
   "outputs": [
    {
     "data": {
      "text/plain": [
       "{683,\n",
       " 853,\n",
       " 1237,\n",
       " 1333,\n",
       " 1357,\n",
       " 1363,\n",
       " 1366,\n",
       " 1369,\n",
       " 1381,\n",
       " 1429,\n",
       " 1621,\n",
       " 1706,\n",
       " 2389,\n",
       " 2474,\n",
       " 2666,\n",
       " 2714,\n",
       " 2726,\n",
       " 2729,\n",
       " 2732,\n",
       " 2738,\n",
       " 2762,\n",
       " 2858,\n",
       " 3242,\n",
       " 3412}"
      ]
     },
     "execution_count": 292,
     "metadata": {},
     "output_type": "execute_result"
    }
   ],
   "source": [
    "minus_equivalence_classes[2]"
   ]
  },
  {
   "cell_type": "code",
   "execution_count": 278,
   "metadata": {},
   "outputs": [
    {
     "data": {
      "text/plain": [
       "True"
      ]
     },
     "execution_count": 278,
     "metadata": {},
     "output_type": "execute_result"
    }
   ],
   "source": [
    "set(plus_states) == set(state for equivalence_class in plus_equivalence_classes for state in equivalence_class)"
   ]
  },
  {
   "cell_type": "code",
   "execution_count": 285,
   "metadata": {},
   "outputs": [
    {
     "data": {
      "text/plain": [
       "True"
      ]
     },
     "execution_count": 285,
     "metadata": {},
     "output_type": "execute_result"
    }
   ],
   "source": [
    "set(minus_states) == set(state for equivalence_class in minus_equivalence_classes for state in equivalence_class)"
   ]
  },
  {
   "cell_type": "code",
   "execution_count": 287,
   "metadata": {},
   "outputs": [
    {
     "data": {
      "text/plain": [
       "set()"
      ]
     },
     "execution_count": 287,
     "metadata": {},
     "output_type": "execute_result"
    }
   ],
   "source": [
    "set(plus_states).intersection(set(minus_states))"
   ]
  },
  {
   "cell_type": "code",
   "execution_count": 280,
   "metadata": {},
   "outputs": [
    {
     "data": {
      "text/plain": [
       "64"
      ]
     },
     "execution_count": 280,
     "metadata": {},
     "output_type": "execute_result"
    }
   ],
   "source": [
    "len(minus_states)"
   ]
  },
  {
   "cell_type": "code",
   "execution_count": 218,
   "metadata": {},
   "outputs": [
    {
     "name": "stdout",
     "output_type": "stream",
     "text": [
      "24\n",
      "12\n",
      "24\n"
     ]
    }
   ],
   "source": [
    "for equivalence_class in plus_equivalence_classes:\n",
    "    print(len(equivalence_class))"
   ]
  },
  {
   "cell_type": "code",
   "execution_count": 219,
   "metadata": {},
   "outputs": [
    {
     "name": "stdout",
     "output_type": "stream",
     "text": [
      "24\n",
      "4\n",
      "24\n",
      "12\n"
     ]
    }
   ],
   "source": [
    "for equivalence_class in minus_equivalence_classes:\n",
    "    print(len(equivalence_class))"
   ]
  },
  {
   "cell_type": "code",
   "execution_count": 212,
   "metadata": {},
   "outputs": [
    {
     "name": "stdout",
     "output_type": "stream",
     "text": [
      "[685, 715, 691] [717, 819, 683, 693]\n"
     ]
    }
   ],
   "source": [
    "reduced_plus_states = [min(list(list(plus_equivalence_classes)[0])), min(list(list(plus_equivalence_classes)[1])), min(list(list(plus_equivalence_classes)[2]))]\n",
    "reduced_minus_states =  [min(list(list(minus_equivalence_classes)[0])), min(list(list(minus_equivalence_classes)[1])), min(list(list(minus_equivalence_classes)[2])), min(list(list(minus_equivalence_classes)[3]))]\n",
    "\n",
    "print(reduced_plus_states, reduced_minus_states)"
   ]
  },
  {
   "cell_type": "code",
   "execution_count": 262,
   "metadata": {},
   "outputs": [
    {
     "name": "stdout",
     "output_type": "stream",
     "text": [
      "(-5.999999999999999+0j)\n"
     ]
    }
   ],
   "source": [
    "sv = np.zeros(2**12)\n",
    "for state in [685, 725]:\n",
    "    sv[state] = 1\n",
    "sv = Statevector(sv/np.linalg.norm(sv))\n",
    "print(sv.expectation_value(hamiltonian))"
   ]
  },
  {
   "cell_type": "code",
   "execution_count": 253,
   "metadata": {},
   "outputs": [
    {
     "data": {
      "text/plain": [
       "{685,\n",
       " 725,\n",
       " 1195,\n",
       " 1205,\n",
       " 1325,\n",
       " 1355,\n",
       " 1370,\n",
       " 1385,\n",
       " 1445,\n",
       " 1450,\n",
       " 1685,\n",
       " 1705,\n",
       " 2390,\n",
       " 2410,\n",
       " 2645,\n",
       " 2650,\n",
       " 2710,\n",
       " 2725,\n",
       " 2740,\n",
       " 2770,\n",
       " 2890,\n",
       " 2900,\n",
       " 3370,\n",
       " 3410}"
      ]
     },
     "execution_count": 253,
     "metadata": {},
     "output_type": "execute_result"
    }
   ],
   "source": [
    "plus_equivalence_classes[0]"
   ]
  },
  {
   "cell_type": "code",
   "execution_count": 263,
   "metadata": {},
   "outputs": [
    {
     "name": "stdout",
     "output_type": "stream",
     "text": [
      "(-6+0j)\n",
      "(-6+0j)\n",
      "(-6+0j)\n",
      "(-6+0j)\n",
      "(-6+0j)\n",
      "(-6+0j)\n",
      "(-6+0j)\n",
      "(-6+0j)\n",
      "(-6+0j)\n",
      "(-6+0j)\n",
      "(-6+0j)\n",
      "(-6+0j)\n",
      "(-6+0j)\n",
      "(-6+0j)\n",
      "(-6+0j)\n",
      "(-6+0j)\n",
      "(-6+0j)\n",
      "(-6+0j)\n",
      "(-6+0j)\n",
      "(-6+0j)\n",
      "(-6+0j)\n",
      "(-6+0j)\n",
      "(-6+0j)\n",
      "(-6+0j)\n",
      "\n",
      "(-6+0j)\n",
      "(-6+0j)\n",
      "(-6+0j)\n",
      "(-6+0j)\n",
      "(-6+0j)\n",
      "(-6+0j)\n",
      "(-6+0j)\n",
      "(-6+0j)\n",
      "(-6+0j)\n",
      "(-6+0j)\n",
      "(-6+0j)\n",
      "(-6+0j)\n",
      "\n",
      "(-6+0j)\n",
      "(-6+0j)\n",
      "(-6+0j)\n",
      "(-6+0j)\n",
      "(-6+0j)\n",
      "(-6+0j)\n",
      "(-6+0j)\n",
      "(-6+0j)\n",
      "(-6+0j)\n",
      "(-6+0j)\n",
      "(-6+0j)\n",
      "(-6+0j)\n",
      "(-6+0j)\n",
      "(-6+0j)\n",
      "(-6+0j)\n",
      "(-6+0j)\n",
      "(-6+0j)\n",
      "(-6+0j)\n",
      "(-6+0j)\n",
      "(-6+0j)\n",
      "(-6+0j)\n",
      "(-6+0j)\n",
      "(-6+0j)\n",
      "(-6+0j)\n",
      "\n"
     ]
    }
   ],
   "source": [
    "for equivalence_class in plus_equivalence_classes:\n",
    "    for state in equivalence_class:\n",
    "        sv = np.zeros(2**12)\n",
    "        sv[state] = 1\n",
    "        sv = Statevector(sv/np.linalg.norm(sv))\n",
    "        print(sv.expectation_value(hamiltonian))\n",
    "    print()"
   ]
  },
  {
   "cell_type": "code",
   "execution_count": 265,
   "metadata": {},
   "outputs": [
    {
     "name": "stdout",
     "output_type": "stream",
     "text": [
      "(-6.000000000000001+0j)\n",
      "\n",
      "(-6.000000000000001+0j)\n",
      "\n",
      "(-6.000000000000001+0j)\n",
      "\n"
     ]
    }
   ],
   "source": [
    "for equivalence_class in plus_equivalence_classes:\n",
    "    sv = np.zeros(2**12)\n",
    "    for state in equivalence_class:\n",
    "        sv[state] = 1\n",
    "    sv = Statevector(sv/np.linalg.norm(sv))\n",
    "    print(sv.expectation_value(hamiltonian))\n",
    "    print()"
   ]
  },
  {
   "cell_type": "code",
   "execution_count": 268,
   "metadata": {},
   "outputs": [
    {
     "name": "stdout",
     "output_type": "stream",
     "text": [
      "(-6+0j)\n",
      "(-6+0j)\n",
      "(-6+0j)\n",
      "(-6+0j)\n",
      "(-6+0j)\n",
      "(-6+0j)\n",
      "(-6+0j)\n",
      "(-6+0j)\n",
      "(-6+0j)\n",
      "(-6+0j)\n",
      "(-6+0j)\n",
      "(-6+0j)\n",
      "(-6+0j)\n",
      "(-6+0j)\n",
      "(-6+0j)\n",
      "(-6+0j)\n",
      "(-6+0j)\n",
      "(-6+0j)\n",
      "(-6+0j)\n",
      "(-6+0j)\n",
      "(-6+0j)\n",
      "(-6+0j)\n",
      "(-6+0j)\n",
      "(-6+0j)\n",
      "\n",
      "(-6+0j)\n",
      "(-6+0j)\n",
      "(-6+0j)\n",
      "(-6+0j)\n",
      "\n",
      "(-6+0j)\n",
      "(-6+0j)\n",
      "(-6+0j)\n",
      "(-6+0j)\n",
      "(-6+0j)\n",
      "(-6+0j)\n",
      "(-6+0j)\n",
      "(-6+0j)\n",
      "(-6+0j)\n",
      "(-6+0j)\n",
      "(-6+0j)\n",
      "(-6+0j)\n",
      "(-6+0j)\n",
      "(-6+0j)\n",
      "(-6+0j)\n",
      "(-6+0j)\n",
      "(-6+0j)\n",
      "(-6+0j)\n",
      "(-6+0j)\n",
      "(-6+0j)\n",
      "(-6+0j)\n",
      "(-6+0j)\n",
      "(-6+0j)\n",
      "(-6+0j)\n",
      "\n",
      "(-6+0j)\n",
      "(-6+0j)\n",
      "(-6+0j)\n",
      "(-6+0j)\n",
      "(-6+0j)\n",
      "(-6+0j)\n",
      "(-6+0j)\n",
      "(-6+0j)\n",
      "(-6+0j)\n",
      "(-6+0j)\n",
      "(-6+0j)\n",
      "(-6+0j)\n",
      "\n"
     ]
    }
   ],
   "source": [
    "for equivalence_class in minus_equivalence_classes:\n",
    "    for state in equivalence_class:\n",
    "        sv = np.zeros(2**12)\n",
    "        sv[state] = -1\n",
    "        sv = Statevector(sv/np.linalg.norm(sv))\n",
    "        print(sv.expectation_value(hamiltonian))\n",
    "    print()"
   ]
  },
  {
   "cell_type": "code",
   "execution_count": 269,
   "metadata": {},
   "outputs": [
    {
     "name": "stdout",
     "output_type": "stream",
     "text": [
      "(-6.000000000000001+0j)\n",
      "\n",
      "(-6+0j)\n",
      "\n",
      "(-4.000000000000001+0j)\n",
      "\n",
      "(-6.000000000000001+0j)\n",
      "\n"
     ]
    }
   ],
   "source": [
    "for equivalence_class in minus_equivalence_classes:\n",
    "    sv = np.zeros(2**12)\n",
    "    for state in equivalence_class:\n",
    "        sv[state] = -1\n",
    "    sv = Statevector(sv/np.linalg.norm(sv))\n",
    "    print(sv.expectation_value(hamiltonian))\n",
    "    print()"
   ]
  },
  {
   "cell_type": "code",
   "execution_count": 297,
   "metadata": {},
   "outputs": [
    {
     "data": {
      "text/plain": [
       "{683,\n",
       " 853,\n",
       " 1237,\n",
       " 1333,\n",
       " 1357,\n",
       " 1363,\n",
       " 1366,\n",
       " 1369,\n",
       " 1381,\n",
       " 1429,\n",
       " 1621,\n",
       " 1706,\n",
       " 2389,\n",
       " 2474,\n",
       " 2666,\n",
       " 2714,\n",
       " 2726,\n",
       " 2729,\n",
       " 2732,\n",
       " 2738,\n",
       " 2762,\n",
       " 2858,\n",
       " 3242,\n",
       " 3412}"
      ]
     },
     "execution_count": 297,
     "metadata": {},
     "output_type": "execute_result"
    }
   ],
   "source": [
    "minus_equivalence_classes[2]"
   ]
  },
  {
   "cell_type": "code",
   "execution_count": 290,
   "metadata": {},
   "outputs": [
    {
     "name": "stdout",
     "output_type": "stream",
     "text": [
      "(-6+0j)\n",
      "(-6+0j)\n",
      "(-6+0j)\n",
      "(-6+0j)\n",
      "(-6+0j)\n",
      "(-6+0j)\n",
      "(-6+0j)\n",
      "(-6+0j)\n",
      "(-6+0j)\n",
      "(-6+0j)\n",
      "(-6+0j)\n",
      "(-6+0j)\n",
      "(-6+0j)\n",
      "(-6+0j)\n",
      "(-6+0j)\n",
      "(-6+0j)\n",
      "(-6+0j)\n",
      "(-6+0j)\n",
      "(-6+0j)\n",
      "(-6+0j)\n",
      "(-6+0j)\n",
      "(-6+0j)\n",
      "(-6+0j)\n",
      "(-6+0j)\n"
     ]
    }
   ],
   "source": [
    "for state in minus_equivalence_classes[2]:\n",
    "    sv = np.zeros(2**12)\n",
    "    sv[state] = -1\n",
    "    sv = Statevector(sv/np.linalg.norm(sv))\n",
    "    print(sv.expectation_value(hamiltonian))"
   ]
  },
  {
   "cell_type": "code",
   "execution_count": 346,
   "metadata": {},
   "outputs": [
    {
     "name": "stdout",
     "output_type": "stream",
     "text": [
      "(-4.000000000000001+0j)\n"
     ]
    }
   ],
   "source": [
    "sv = np.zeros(2**12)\n",
    "for state in list(minus_equivalence_classes[2]):\n",
    "    sv[state] = 1\n",
    "sv = Statevector(sv/np.linalg.norm(sv))\n",
    "print(sv.expectation_value(hamiltonian))"
   ]
  },
  {
   "cell_type": "code",
   "execution_count": 348,
   "metadata": {},
   "outputs": [
    {
     "data": {
      "text/plain": [
       "array([0.        +0.j, 0.20412415+0.j])"
      ]
     },
     "execution_count": 348,
     "metadata": {},
     "output_type": "execute_result"
    }
   ],
   "source": [
    "np.unique(sv.data)"
   ]
  },
  {
   "cell_type": "code",
   "execution_count": 364,
   "metadata": {},
   "outputs": [
    {
     "data": {
      "text/plain": [
       "True"
      ]
     },
     "execution_count": 364,
     "metadata": {},
     "output_type": "execute_result"
    }
   ],
   "source": [
    "set(np.where([sv.data == 1/np.sqrt(len(minus_equivalence_classes[2]))])[1] ) ==  minus_equivalence_classes[2]"
   ]
  },
  {
   "cell_type": "code",
   "execution_count": 291,
   "metadata": {},
   "outputs": [
    {
     "name": "stdout",
     "output_type": "stream",
     "text": [
      "(-4.000000000000001+0j)\n"
     ]
    }
   ],
   "source": [
    "sv = np.zeros(2**12)\n",
    "for state in minus_equivalence_classes[2]:\n",
    "    sv[state] = -1\n",
    "sv = Statevector(sv/np.linalg.norm(sv))\n",
    "print(sv.expectation_value(hamiltonian))"
   ]
  },
  {
   "cell_type": "code",
   "execution_count": 270,
   "metadata": {},
   "outputs": [
    {
     "data": {
      "text/plain": [
       "(-17.225806451612915+0j)"
      ]
     },
     "execution_count": 270,
     "metadata": {},
     "output_type": "execute_result"
    }
   ],
   "source": [
    "sv = np.zeros(2**12)\n",
    "for state in plus_states:\n",
    "    sv[state] = 1\n",
    "for state in minus_states:\n",
    "    sv[state] = -1\n",
    "sv = Statevector(sv/np.linalg.norm(sv))\n",
    "sv.expectation_value(hamiltonian)"
   ]
  },
  {
   "cell_type": "code",
   "execution_count": 271,
   "metadata": {},
   "outputs": [
    {
     "data": {
      "text/plain": [
       "[685, 715, 691]"
      ]
     },
     "execution_count": 271,
     "metadata": {},
     "output_type": "execute_result"
    }
   ],
   "source": [
    "reduced_plus_states"
   ]
  },
  {
   "cell_type": "code",
   "execution_count": 235,
   "metadata": {},
   "outputs": [
    {
     "name": "stdout",
     "output_type": "stream",
     "text": [
      "685 1\n",
      "715 1\n",
      "691 1\n",
      "717 1\n",
      "819 1\n",
      "683 1\n",
      "693 1\n"
     ]
    },
    {
     "data": {
      "text/plain": [
       "(-10.571428571428571+0j)"
      ]
     },
     "execution_count": 235,
     "metadata": {},
     "output_type": "execute_result"
    }
   ],
   "source": [
    "sv = np.zeros(2**12)\n",
    "for state, amplitude in zip(reduced_plus_states, (1, 1, 1)):\n",
    "    print(state, amplitude)\n",
    "    sv[state] = amplitude\n",
    "for state, amplitude in zip(reduced_minus_states, (1, 1, 1, 1)):\n",
    "    print(state, amplitude)\n",
    "    sv[state] = -amplitude\n",
    "sv = Statevector(sv / np.linalg.norm(sv))\n",
    "sv.expectation_value(hamiltonian)"
   ]
  },
  {
   "cell_type": "code",
   "execution_count": 242,
   "metadata": {},
   "outputs": [
    {
     "name": "stdout",
     "output_type": "stream",
     "text": [
      "685 6\n",
      "715 3\n",
      "691 6\n",
      "717 6\n",
      "819 1\n",
      "683 6\n",
      "693 3\n"
     ]
    },
    {
     "data": {
      "text/plain": [
       "(-10.56441717791411+0j)"
      ]
     },
     "execution_count": 242,
     "metadata": {},
     "output_type": "execute_result"
    }
   ],
   "source": [
    "sv = np.zeros(2**12)\n",
    "for state, amplitude in zip(reduced_plus_states, (6, 3, 6)):\n",
    "    print(state, amplitude)\n",
    "    sv[state] = amplitude\n",
    "for state, amplitude in zip(reduced_minus_states, (6, 1, 6, 3)):\n",
    "    print(state, amplitude)\n",
    "    sv[state] = -amplitude\n",
    "sv = Statevector(sv / np.linalg.norm(sv))\n",
    "sv.expectation_value(hamiltonian)"
   ]
  },
  {
   "cell_type": "code",
   "execution_count": 140,
   "metadata": {},
   "outputs": [],
   "source": [
    "def reflect(state, d): #reflection about 0-6 axis\n",
    "    binary = f\"{state:012b}\"\n",
    "    return int(binary[:-1][::-1] + binary[-1], 2)\n",
    "    "
   ]
  },
  {
   "cell_type": "code",
   "execution_count": 149,
   "metadata": {},
   "outputs": [
    {
     "name": "stdout",
     "output_type": "stream",
     "text": [
      "State: 001010101101\n",
      "\n",
      "Rotated States\n",
      "001010101101 True\n",
      "010010101011 True\n",
      "110100101010 True\n",
      "101101001010 True\n",
      "101011010010 True\n",
      "101010110100 True\n",
      "\n",
      "Reflected States\n",
      "011010101001 True\n"
     ]
    },
    {
     "data": {
      "text/plain": [
       "7"
      ]
     },
     "execution_count": 149,
     "metadata": {},
     "output_type": "execute_result"
    }
   ],
   "source": [
    "state = plus_states_0[0]\n",
    "\n",
    "rotated_states = [ rotate(state, d) for d in range(0, 12, 2) ]\n",
    "reflected_states = [ reflect(state, 0) ]\n",
    "\n",
    "print(f\"State: {state:012b}\\n\")\n",
    "\n",
    "print(\"Rotated States\")\n",
    "for rotated_state in rotated_states:\n",
    "    print(f\"{rotated_state:012b} {rotated_state in plus_states_0}\")\n",
    "print()\n",
    "\n",
    "print(\"Reflected States\")\n",
    "for reflected_state in reflected_states:\n",
    "    print(f\"{reflected_state:012b} {reflected_state in plus_states_1}\")\n",
    "\n",
    "# inverted_rotated_states = [ ~rotated_state & 0b111111111111 for rotated_state in rotated_states ]\n",
    "\n",
    "# reflected_states = []\n",
    "\n",
    "# equivalent_states = set(rotated_states + reflected_states)\n",
    "\n",
    "# print(f\"State: {state:012b}\")\n",
    "# for equivalent_state in equivalent_states:\n",
    "#     print(f\"{equivalent_state:012b} {equivalent_state in plus_states_0}\")\n",
    "\n",
    "# print(f\"{state:012b}\")\n",
    "# # print(f\"{inverted_state:012b}\")\n",
    "# print(f\"{rotated_state:012b}\")\n",
    "\n",
    "len(equivalent_states)"
   ]
  },
  {
   "cell_type": "code",
   "execution_count": 153,
   "metadata": {},
   "outputs": [
    {
     "name": "stdout",
     "output_type": "stream",
     "text": [
      "-3.5762786865234375e-07\n",
      "-3.5762786865234375e-07\n",
      "-3.5762786865234375e-07\n",
      "-3.5762786865234375e-07\n",
      "-3.5762786865234375e-07\n",
      "-3.5762786865234375e-07\n",
      "-3.5762786865234375e-07\n"
     ]
    }
   ],
   "source": [
    "for rotated_state in rotated_states:\n",
    "    sv = np.zeros(2**12)\n",
    "    sv[rotated_state] = 1/(2**12)\n",
    "    sv = Statevector(sv)\n",
    "    print(sv.expectation_value(hamiltonian).real)\n",
    "\n",
    "for reflected_state in reflected_states:\n",
    "    sv = np.zeros(2**12)\n",
    "    sv[reflected_state] = 1/(2**12)\n",
    "    sv = Statevector(sv)\n",
    "    print(sv.expectation_value(hamiltonian).real)"
   ]
  },
  {
   "cell_type": "code",
   "execution_count": null,
   "metadata": {},
   "outputs": [],
   "source": [
    "# BIT FLIP SYMMETRY\n",
    "equivalence_classes = []\n",
    "for state in plus_states_0:\n",
    "    inverted_state = ~state & 0b111111111111\n",
    "    in_some_class = False\n",
    "    for equivalence_class in equivalence_classes:\n",
    "        if inverted_state in equivalence_class:\n",
    "            in_some_class = True\n",
    "            equivalence_class.append(state)\n",
    "            break\n",
    "    if not in_some_class:\n",
    "        equivalence_classes.append([state])\n",
    "equivalence_classes"
   ]
  },
  {
   "cell_type": "code",
   "execution_count": 83,
   "metadata": {},
   "outputs": [
    {
     "name": "stdout",
     "output_type": "stream",
     "text": [
      "{001010101101, 110101010010}\n",
      "{001010110011, 110101001100}\n",
      "{001011001011, 110100110100}\n",
      "{001011010101, 110100101010}\n",
      "{001100101011, 110011010100}\n",
      "{001100110101, 110011001010}\n",
      "{001101001101, 110010110010}\n",
      "{001101010011, 110010101100}\n",
      "{010010101011, 101101010100}\n",
      "{010010110101, 101101001010}\n",
      "{010011001101, 101100110010}\n",
      "{010011010011, 101100101100}\n",
      "{010100101101, 101011010010}\n",
      "{010100110011, 101011001100}\n",
      "{010101001011, 101010110100}\n"
     ]
    }
   ],
   "source": [
    "for equivalence_class in equivalence_classes:\n",
    "    print(f\"{{{equivalence_class[0]:012b}, {equivalence_class[1]:012b}}}\")"
   ]
  },
  {
   "cell_type": "code",
   "execution_count": 73,
   "metadata": {},
   "outputs": [
    {
     "data": {
      "text/plain": [
       "[[685, 1195, 3410, 1355, 2740, 2770, 2890, 2900, 3370, 3410],\n",
       " [691, 3244, 3404, 851, 1331, 2764, 2866, 3244, 3274, 3404],\n",
       " [715, 3250, 3380, 845, 1235, 2860, 3250, 3380],\n",
       " [725, 1205, 3370, 1195],\n",
       " [811, 3274, 3284, 821, 3284],\n",
       " [821, 1229, 3274],\n",
       " [845, 1235, 3250],\n",
       " [851, 3284, 3244],\n",
       " [1195, 3370, 2900],\n",
       " [1205, 1325, 2890],\n",
       " [1229, 1331, 2866],\n",
       " [1235, 3380, 2860],\n",
       " [1325, 1355, 2770],\n",
       " [1331, 3404, 2764],\n",
       " [1355, 3410, 2740],\n",
       " [2740, 685, 1355],\n",
       " [2764, 691, 1331],\n",
       " [2770, 2740, 1325],\n",
       " [2860, 715, 1235],\n",
       " [2866, 2764, 1229],\n",
       " [2890, 2770, 1205],\n",
       " [2900, 725, 1195],\n",
       " [3244, 811, 851],\n",
       " [3250, 2860, 845],\n",
       " [3274, 2866, 821],\n",
       " [3284, 821, 811],\n",
       " [3370, 2890, 725],\n",
       " [3380, 845, 715],\n",
       " [3404, 851, 691],\n",
       " [3410, 2900, 685]]"
      ]
     },
     "execution_count": 73,
     "metadata": {},
     "output_type": "execute_result"
    }
   ],
   "source": [
    "# BIT FLIP SYMMETRY\n",
    "equivalence_classes = []\n",
    "for state in plus_states_0:\n",
    "    inverted_state = ~state & 0b111111111111\n",
    "    rotated_state = rotate(state, 2)\n",
    "    for equivalence_class in equivalence_classes:\n",
    "        if inverted_state in equivalence_class or rotated_state in equivalence_class:\n",
    "            equivalence_class.append(state)\n",
    "            break\n",
    "    equivalence_classes.append([state, rotated_state, inverted_state])\n",
    "equivalence_classes"
   ]
  },
  {
   "cell_type": "code",
   "execution_count": 54,
   "metadata": {},
   "outputs": [],
   "source": [
    "# ROTATE +2 SYMMETRY\n",
    "for state in plus_states_0:\n",
    "    if rotate(state, 2) not in plus_states_0:\n",
    "        print(f\"{state:012b} {rotate(state, 2):012b}\")"
   ]
  },
  {
   "cell_type": "code",
   "execution_count": null,
   "metadata": {},
   "outputs": [],
   "source": [
    "equivalent_plus_0_configurations = []\n",
    "for state in plus_states_0:\n",
    "    if state \n",
    "    if ~state & 0b111111111111 not in plus_states_0:\n",
    "        print(f\"{state:012b}\")"
   ]
  },
  {
   "cell_type": "code",
   "execution_count": 39,
   "metadata": {},
   "outputs": [],
   "source": [
    "def rotate(n, d):\n",
    "    return (n >> d)|(n << (num_sites - d)) & 0b111111111111"
   ]
  },
  {
   "cell_type": "code",
   "execution_count": 53,
   "metadata": {},
   "outputs": [
    {
     "name": "stdout",
     "output_type": "stream",
     "text": [
      "001010110011 110010101100\n",
      "001011001011 110010110010\n",
      "001100101011 110011001010\n",
      "001101010011 110011010100\n",
      "010010101011 110100101010\n",
      "010011010011 110100110100\n",
      "010100110011 110101001100\n",
      "010101001011 110101010010\n"
     ]
    }
   ],
   "source": [
    "inversion_filtered_plus_states_0 = plus_states_0[:15]\n",
    "for state in inversion_filtered_plus_states_0:\n",
    "    if rotate(state, 2) not in inversion_filtered_plus_states_0:\n",
    "        print(f\"{state:012b} {rotate(state, 2):012b}\")"
   ]
  },
  {
   "cell_type": "code",
   "execution_count": null,
   "metadata": {},
   "outputs": [],
   "source": []
  },
  {
   "cell_type": "code",
   "execution_count": 36,
   "metadata": {},
   "outputs": [
    {
     "name": "stdout",
     "output_type": "stream",
     "text": [
      "001010101011\n",
      "001010110101\n",
      "001011001101\n",
      "001011010011\n",
      "001100101101\n",
      "001100110011\n",
      "001101001011\n",
      "001101010101\n",
      "010010101101\n",
      "010010110011\n",
      "010011001011\n",
      "010011010101\n",
      "010100101011\n",
      "010100110101\n",
      "010101001101\n"
     ]
    }
   ],
   "source": [
    "inversion_filtered_minus_states_0 = minus_states_0[:15]\n",
    "for state in inversion_filtered_minus_states_0:\n",
    "    print(f\"{state:012b}\")"
   ]
  },
  {
   "cell_type": "code",
   "execution_count": null,
   "metadata": {},
   "outputs": [],
   "source": []
  }
 ],
 "metadata": {
  "kernelspec": {
   "display_name": "heisenberg-kagome-0MCudPZt-py3.11",
   "language": "python",
   "name": "python3"
  },
  "language_info": {
   "codemirror_mode": {
    "name": "ipython",
    "version": 3
   },
   "file_extension": ".py",
   "mimetype": "text/x-python",
   "name": "python",
   "nbconvert_exporter": "python",
   "pygments_lexer": "ipython3",
   "version": "3.11.1"
  },
  "orig_nbformat": 4,
  "vscode": {
   "interpreter": {
    "hash": "1b5f1b9d83be40b2319a5ede076108f2642b73420a45587c7884df2e4665ba27"
   }
  }
 },
 "nbformat": 4,
 "nbformat_minor": 2
}
