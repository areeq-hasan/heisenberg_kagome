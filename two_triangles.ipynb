{
 "cells": [
  {
   "cell_type": "code",
   "execution_count": 1,
   "metadata": {},
   "outputs": [],
   "source": [
    "%config InlineBackend.figure_formats = ['svg']"
   ]
  },
  {
   "cell_type": "code",
   "execution_count": 2,
   "metadata": {},
   "outputs": [],
   "source": [
    "from time import time\n",
    "\n",
    "import numpy as np\n",
    "import rustworkx as rx\n",
    "\n",
    "import matplotlib.pyplot as plt\n",
    "\n",
    "from qiskit import transpile\n",
    "from qiskit.circuit import Parameter\n",
    "from qiskit.opflow import VectorStateFn\n",
    "\n",
    "from qiskit.circuit.library import EfficientSU2\n",
    "from qiskit.primitives import Estimator\n",
    "from qiskit.algorithms import NumPyEigensolver as ClassicalEigensolver, MinimumEigensolver, VQEResult\n",
    "from qiskit.algorithms.optimizers import SLSQP, COBYLA, L_BFGS_B, ADAM, GradientDescent, NFT\n",
    "\n",
    "from qiskit_nature.problems.second_quantization.lattice import Lattice\n",
    "from qiskit_nature.mappers.second_quantization import LogarithmicMapper\n",
    "\n",
    "from heisenberg_model import HeisenbergModel"
   ]
  },
  {
   "cell_type": "code",
   "execution_count": 3,
   "metadata": {},
   "outputs": [
    {
     "data": {
      "image/svg+xml": "<?xml version=\"1.0\" encoding=\"utf-8\" standalone=\"no\"?>\n<!DOCTYPE svg PUBLIC \"-//W3C//DTD SVG 1.1//EN\"\n  \"http://www.w3.org/Graphics/SVG/1.1/DTD/svg11.dtd\">\n<svg xmlns:xlink=\"http://www.w3.org/1999/xlink\" width=\"475.2pt\" height=\"360pt\" viewBox=\"0 0 475.2 360\" xmlns=\"http://www.w3.org/2000/svg\" version=\"1.1\">\n <metadata>\n  <rdf:RDF xmlns:dc=\"http://purl.org/dc/elements/1.1/\" xmlns:cc=\"http://creativecommons.org/ns#\" xmlns:rdf=\"http://www.w3.org/1999/02/22-rdf-syntax-ns#\">\n   <cc:Work>\n    <dc:type rdf:resource=\"http://purl.org/dc/dcmitype/StillImage\"/>\n    <dc:date>2023-02-04T17:51:26.442469</dc:date>\n    <dc:format>image/svg+xml</dc:format>\n    <dc:creator>\n     <cc:Agent>\n      <dc:title>Matplotlib v3.6.3, https://matplotlib.org/</dc:title>\n     </cc:Agent>\n    </dc:creator>\n   </cc:Work>\n  </rdf:RDF>\n </metadata>\n <defs>\n  <style type=\"text/css\">*{stroke-linejoin: round; stroke-linecap: butt}</style>\n </defs>\n <g id=\"figure_1\">\n  <g id=\"patch_1\">\n   <path d=\"M 0 360 \nL 475.2 360 \nL 475.2 0 \nL 0 0 \nz\n\" style=\"fill: #ffffff\"/>\n  </g>\n  <g id=\"axes_1\">\n   <g id=\"patch_2\">\n    <path d=\"M 54.831566 155.204686 \nQ 162.042838 98.229542 269.254109 41.254398 \n\" clip-path=\"url(#pa4af630a6c)\" style=\"fill: none; stroke: #000000; stroke-linecap: round\"/>\n   </g>\n   <g id=\"patch_3\">\n    <path d=\"M 283.028454 43.315567 \nQ 352.45792 112.734188 421.887387 182.152808 \n\" clip-path=\"url(#pa4af630a6c)\" style=\"fill: none; stroke: #000000; stroke-linecap: round\"/>\n   </g>\n   <g id=\"patch_4\">\n    <path d=\"M 419.375245 187.61967 \nQ 237.598581 173.772409 55.821917 159.925148 \n\" clip-path=\"url(#pa4af630a6c)\" style=\"fill: none; stroke: #000000; stroke-linecap: round\"/>\n   </g>\n   <g id=\"patch_5\">\n    <path d=\"M 420.276103 192.15953 \nQ 293.94493 255.541993 167.613758 318.924456 \n\" clip-path=\"url(#pa4af630a6c)\" style=\"fill: none; stroke: #000000; stroke-linecap: round\"/>\n   </g>\n   <g id=\"patch_6\">\n    <path d=\"M 154.957097 315.680384 \nQ 103.527915 241.038362 52.098733 166.39634 \n\" clip-path=\"url(#pa4af630a6c)\" style=\"fill: none; stroke: #000000; stroke-linecap: round\"/>\n   </g>\n   <g id=\"PathCollection_1\">\n    <defs>\n     <path id=\"mc94db3d517\" d=\"M 0 8.660254 \nC 2.296726 8.660254 4.499694 7.747755 6.123724 6.123724 \nC 7.747755 4.499694 8.660254 2.296726 8.660254 0 \nC 8.660254 -2.296726 7.747755 -4.499694 6.123724 -6.123724 \nC 4.499694 -7.747755 2.296726 -8.660254 0 -8.660254 \nC -2.296726 -8.660254 -4.499694 -7.747755 -6.123724 -6.123724 \nC -7.747755 -4.499694 -8.660254 -2.296726 -8.660254 0 \nC -8.660254 2.296726 -7.747755 4.499694 -6.123724 6.123724 \nC -4.499694 7.747755 -2.296726 8.660254 0 8.660254 \nz\n\" style=\"stroke: #1f78b4\"/>\n    </defs>\n    <g clip-path=\"url(#pa4af630a6c)\">\n     <use xlink:href=\"#mc94db3d517\" x=\"47.186777\" y=\"159.267346\" style=\"fill: #1f78b4; stroke: #1f78b4\"/>\n     <use xlink:href=\"#mc94db3d517\" x=\"276.902012\" y=\"37.190083\" style=\"fill: #1f78b4; stroke: #1f78b4\"/>\n     <use xlink:href=\"#mc94db3d517\" x=\"428.013223\" y=\"188.277688\" style=\"fill: #1f78b4; stroke: #1f78b4\"/>\n     <use xlink:href=\"#mc94db3d517\" x=\"159.869425\" y=\"322.809917\" style=\"fill: #1f78b4; stroke: #1f78b4\"/>\n    </g>\n   </g>\n  </g>\n </g>\n <defs>\n  <clipPath id=\"pa4af630a6c\">\n   <rect x=\"7.2\" y=\"7.2\" width=\"460.8\" height=\"345.6\"/>\n  </clipPath>\n </defs>\n</svg>\n",
      "text/plain": [
       "<Figure size 640x480 with 1 Axes>"
      ]
     },
     "metadata": {},
     "output_type": "display_data"
    }
   ],
   "source": [
    "num_sites = 4\n",
    "t = 1.0\n",
    "\n",
    "graph = rx.PyGraph(multigraph=False)\n",
    "graph.add_nodes_from(range(num_sites))\n",
    "edge_list = [\n",
    "    (0, 1, t),\n",
    "    (1, 2, t),\n",
    "    (2, 0, t),\n",
    "    (2, 3, t),\n",
    "    (3, 0, t),\n",
    "]\n",
    "\n",
    "graph.add_edges_from(edge_list)\n",
    "line_unit_cell = Lattice(graph)\n",
    "\n",
    "line_unit_cell.draw()\n",
    "plt.show()"
   ]
  },
  {
   "cell_type": "code",
   "execution_count": 4,
   "metadata": {},
   "outputs": [
    {
     "data": {
      "text/plain": [
       "PauliSumOp(SparsePauliOp(['ZZII', 'IZZI', 'ZIIZ', 'IZIZ', 'IIZZ', 'YYII', 'IYYI', 'YIIY', 'IYIY', 'IIYY', 'XXII', 'IXXI', 'XIIX', 'IXIX', 'IIXX'],\n",
       "              coeffs=[1.+0.j, 1.+0.j, 1.+0.j, 1.+0.j, 1.+0.j, 1.+0.j, 1.+0.j, 1.+0.j, 1.+0.j,\n",
       " 1.+0.j, 1.+0.j, 1.+0.j, 1.+0.j, 1.+0.j, 1.+0.j]), coeff=1)"
      ]
     },
     "execution_count": 4,
     "metadata": {},
     "output_type": "execute_result"
    }
   ],
   "source": [
    "heisenberg_model = HeisenbergModel.uniform_parameters(\n",
    "    lattice=line_unit_cell,\n",
    "    uniform_interaction=1.0,\n",
    "    uniform_onsite_potential=0.0,\n",
    ")\n",
    "\n",
    "logarithmic_mapper = LogarithmicMapper()\n",
    "hamiltonian = 4 * logarithmic_mapper.map(heisenberg_model.second_q_ops().simplify())\n",
    "hamiltonian"
   ]
  },
  {
   "cell_type": "code",
   "execution_count": 6,
   "metadata": {},
   "outputs": [
    {
     "name": "stdout",
     "output_type": "stream",
     "text": [
      "[[ 5  0  0  0  0  0  0  0  0  0  0  0  0  0  0  0]\n",
      " [ 0 -1  2  0  2  0  0  0  2  0  0  0  0  0  0  0]\n",
      " [ 0  2  1  0  2  0  0  0  0  0  0  0  0  0  0  0]\n",
      " [ 0  0  0 -1  0  2  2  0  0  0  2  0  0  0  0  0]\n",
      " [ 0  2  2  0 -1  0  0  0  2  0  0  0  0  0  0  0]\n",
      " [ 0  0  0  2  0 -3  2  0  0  2  0  0  2  0  0  0]\n",
      " [ 0  0  0  2  0  2 -1  0  0  0  2  0  0  0  0  0]\n",
      " [ 0  0  0  0  0  0  0  1  0  0  0  2  0  0  2  0]\n",
      " [ 0  2  0  0  2  0  0  0  1  0  0  0  0  0  0  0]\n",
      " [ 0  0  0  0  0  2  0  0  0 -1  2  0  2  0  0  0]\n",
      " [ 0  0  0  2  0  0  2  0  0  2 -3  0  2  0  0  0]\n",
      " [ 0  0  0  0  0  0  0  2  0  0  0 -1  0  2  2  0]\n",
      " [ 0  0  0  0  0  2  0  0  0  2  2  0 -1  0  0  0]\n",
      " [ 0  0  0  0  0  0  0  0  0  0  0  2  0  1  2  0]\n",
      " [ 0  0  0  0  0  0  0  2  0  0  0  2  0  2 -1  0]\n",
      " [ 0  0  0  0  0  0  0  0  0  0  0  0  0  0  0  5]]\n"
     ]
    },
    {
     "name": "stderr",
     "output_type": "stream",
     "text": [
      "/var/folders/r1/027lgns16j553ds7rms76qf80000gn/T/ipykernel_27920/1530903205.py:1: ComplexWarning: Casting complex values to real discards the imaginary part\n",
      "  print(hamiltonian.eval().primitive.data.astype(int))\n"
     ]
    }
   ],
   "source": [
    "print(hamiltonian.eval().primitive.data.astype(int))"
   ]
  },
  {
   "cell_type": "code",
   "execution_count": 7,
   "metadata": {},
   "outputs": [
    {
     "name": "stdout",
     "output_type": "stream",
     "text": [
      "{ 5,0,0,0,0,0,0,0,0,0,0,0,0,0,0,0 },\n",
      "{ 0,-1,2,0,2,0,0,0,2,0,0,0,0,0,0,0 },\n",
      "{ 0,2,1,0,2,0,0,0,0,0,0,0,0,0,0,0 },\n",
      "{ 0,0,0,-1,0,2,2,0,0,0,2,0,0,0,0,0 },\n",
      "{ 0,2,2,0,-1,0,0,0,2,0,0,0,0,0,0,0 },\n",
      "{ 0,0,0,2,0,-3,2,0,0,2,0,0,2,0,0,0 },\n",
      "{ 0,0,0,2,0,2,-1,0,0,0,2,0,0,0,0,0 },\n",
      "{ 0,0,0,0,0,0,0,1,0,0,0,2,0,0,2,0 },\n",
      "{ 0,2,0,0,2,0,0,0,1,0,0,0,0,0,0,0 },\n",
      "{ 0,0,0,0,0,2,0,0,0,-1,2,0,2,0,0,0 },\n",
      "{ 0,0,0,2,0,0,2,0,0,2,-3,0,2,0,0,0 },\n",
      "{ 0,0,0,0,0,0,0,2,0,0,0,-1,0,2,2,0 },\n",
      "{ 0,0,0,0,0,2,0,0,0,2,2,0,-1,0,0,0 },\n",
      "{ 0,0,0,0,0,0,0,0,0,0,0,2,0,1,2,0 },\n",
      "{ 0,0,0,0,0,0,0,2,0,0,0,2,0,2,-1,0 },\n",
      "{ 0,0,0,0,0,0,0,0,0,0,0,0,0,0,0,5 },\n"
     ]
    },
    {
     "name": "stderr",
     "output_type": "stream",
     "text": [
      "/var/folders/r1/027lgns16j553ds7rms76qf80000gn/T/ipykernel_27920/4023989667.py:1: ComplexWarning: Casting complex values to real discards the imaginary part\n",
      "  for jawn in hamiltonian.eval().primitive.data.astype(int):\n"
     ]
    }
   ],
   "source": [
    "for jawn in hamiltonian.eval().primitive.data.astype(int):\n",
    "    print(\"{\", \",\".join(map(str, jawn)), \"},\")"
   ]
  },
  {
   "cell_type": "code",
   "execution_count": 9,
   "metadata": {},
   "outputs": [
    {
     "name": "stdout",
     "output_type": "stream",
     "text": [
      "0000: 0.0\n",
      "0001: 0.0\n",
      "0010: 0.0\n",
      "0011: 0.5\n",
      "0100: 0.0\n",
      "0101: -1.0\n",
      "0110: 0.5\n",
      "0111: 0.0\n",
      "1000: 0.0\n",
      "1001: 0.5\n",
      "1010: -1.0\n",
      "1011: 0.0\n",
      "1100: 0.5\n",
      "1101: 0.0\n",
      "1110: 0.0\n",
      "1111: 0.0\n"
     ]
    }
   ],
   "source": [
    "for state, amplitude in enumerate(np.array([0,0,0,1,0,-2,1,0,0,1,-2,0,1,0,0,0])/2):\n",
    "    print(f\"{state:04b}: {amplitude}\")"
   ]
  },
  {
   "cell_type": "code",
   "execution_count": 5,
   "metadata": {},
   "outputs": [
    {
     "name": "stdout",
     "output_type": "stream",
     "text": [
      "[-7.]\n"
     ]
    }
   ],
   "source": [
    "exact_solver = ClassicalEigensolver(k=1)\n",
    "exact_result = exact_solver.compute_eigenvalues(hamiltonian)\n",
    "print(exact_result.eigenvalues)\n",
    "\n",
    "gs_energy = exact_result.eigenvalues[0]"
   ]
  },
  {
   "cell_type": "code",
   "execution_count": 10,
   "metadata": {},
   "outputs": [
    {
     "data": {
      "text/plain": [
       "VectorStateFn(Statevector([ 4.19593182e-18+1.50282044e-18j,\n",
       "              3.42661126e-17-2.88947126e-17j,\n",
       "              8.89896624e-18-2.03130578e-17j,\n",
       "              4.04517518e-02+2.85826852e-01j,\n",
       "             -2.36557495e-17-3.40198751e-19j,\n",
       "             -8.09035036e-02-5.71653703e-01j,\n",
       "              4.04517518e-02+2.85826852e-01j,\n",
       "              2.84115472e-18+8.08598623e-17j,\n",
       "             -2.39704581e-17-8.61031335e-18j,\n",
       "              4.04517518e-02+2.85826852e-01j,\n",
       "             -8.09035036e-02-5.71653703e-01j,\n",
       "             -1.47961555e-18+2.44240439e-17j,\n",
       "              4.04517518e-02+2.85826852e-01j,\n",
       "             -3.58778120e-18-1.08138425e-17j,\n",
       "             -5.56677729e-17+6.29240698e-17j,\n",
       "             -4.80295604e-17+3.44508007e-17j],\n",
       "            dims=(2, 2, 2, 2)), coeff=1.0, is_measurement=False)"
      ]
     },
     "execution_count": 10,
     "metadata": {},
     "output_type": "execute_result"
    }
   ],
   "source": [
    "exact_result.eigenstates[0]"
   ]
  },
  {
   "cell_type": "code",
   "execution_count": null,
   "metadata": {},
   "outputs": [],
   "source": []
  }
 ],
 "metadata": {
  "kernelspec": {
   "display_name": "heisenberg-kagome-0MCudPZt-py3.11",
   "language": "python",
   "name": "python3"
  },
  "language_info": {
   "codemirror_mode": {
    "name": "ipython",
    "version": 3
   },
   "file_extension": ".py",
   "mimetype": "text/x-python",
   "name": "python",
   "nbconvert_exporter": "python",
   "pygments_lexer": "ipython3",
   "version": "3.11.1 (main, Jan 22 2023, 13:46:53) [Clang 14.0.0 (clang-1400.0.29.202)]"
  },
  "orig_nbformat": 4,
  "vscode": {
   "interpreter": {
    "hash": "1b5f1b9d83be40b2319a5ede076108f2642b73420a45587c7884df2e4665ba27"
   }
  }
 },
 "nbformat": 4,
 "nbformat_minor": 2
}
