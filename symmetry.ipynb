{
 "cells": [
  {
   "cell_type": "code",
   "execution_count": 1,
   "metadata": {},
   "outputs": [],
   "source": [
    "num_sites = 12"
   ]
  },
  {
   "cell_type": "code",
   "execution_count": 7,
   "metadata": {},
   "outputs": [],
   "source": [
    "from functools import reduce"
   ]
  },
  {
   "cell_type": "code",
   "execution_count": 9,
   "metadata": {},
   "outputs": [],
   "source": [
    "def compose(*functions):\n",
    "    return reduce(lambda f, g: lambda x: f(g(x)), functions, lambda x: x)"
   ]
  },
  {
   "cell_type": "code",
   "execution_count": 26,
   "metadata": {},
   "outputs": [],
   "source": [
    "def rotate(state):\n",
    "    return (state >> 2)|(state << (num_sites - 2)) & 0b111111111111"
   ]
  },
  {
   "cell_type": "code",
   "execution_count": 28,
   "metadata": {},
   "outputs": [],
   "source": [
    "def reflect(state):\n",
    "    binary = f\"{state:012b}\"\n",
    "    return int(binary[:-1][::-1] + binary[-1], 2)"
   ]
  },
  {
   "cell_type": "code",
   "execution_count": 5,
   "metadata": {},
   "outputs": [],
   "source": [
    "def reflect(state):\n",
    "    binary = f\"{state:012b}\"\n",
    "    return int(binary[:-1][::-1] + binary[-1], 2)"
   ]
  },
  {
   "cell_type": "code",
   "execution_count": 39,
   "metadata": {},
   "outputs": [
    {
     "name": "stdout",
     "output_type": "stream",
     "text": [
      "12\n",
      "101010100101\n",
      "011010101001\n",
      "010110101010\n",
      "010010101011\n",
      "110100101010\n",
      "001010101101\n",
      "100101101010\n",
      "101101001010\n",
      "101011010010\n",
      "101010110100\n",
      "101010010110\n",
      "101001011010\n"
     ]
    }
   ],
   "source": [
    "state = 0b001010101101\n",
    "equivalent_states = set([compose(*([rotate for _ in range(i)] + [reflect for _ in range(j)]))(state) for i in range(6) for j in range(2) ])\n",
    "\n",
    "print(len(equivalent_states))\n",
    "for s in equivalent_states:\n",
    "    print(f\"{s:012b}\")"
   ]
  },
  {
   "cell_type": "code",
   "execution_count": null,
   "metadata": {},
   "outputs": [],
   "source": [
    "fold"
   ]
  }
 ],
 "metadata": {
  "kernelspec": {
   "display_name": "heisenberg-kagome-0MCudPZt-py3.11",
   "language": "python",
   "name": "python3"
  },
  "language_info": {
   "codemirror_mode": {
    "name": "ipython",
    "version": 3
   },
   "file_extension": ".py",
   "mimetype": "text/x-python",
   "name": "python",
   "nbconvert_exporter": "python",
   "pygments_lexer": "ipython3",
   "version": "3.11.1"
  },
  "orig_nbformat": 4,
  "vscode": {
   "interpreter": {
    "hash": "1b5f1b9d83be40b2319a5ede076108f2642b73420a45587c7884df2e4665ba27"
   }
  }
 },
 "nbformat": 4,
 "nbformat_minor": 2
}
